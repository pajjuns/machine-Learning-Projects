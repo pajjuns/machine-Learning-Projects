{
 "cells": [
  {
   "cell_type": "markdown",
   "id": "3a68e6f5",
   "metadata": {},
   "source": [
    "import pandas as pd\n",
    "import numpy as np\n",
    "import matplotlib.pyplot as plt\n",
    "import seaborn as sns\n"
   ]
  },
  {
   "cell_type": "markdown",
   "id": "9ab63c04",
   "metadata": {},
   "source": [
    "# Datasset Description\n",
    "\n",
    "- id number\n",
    "- age in days\n",
    "- age in years\n",
    "- gender (1 - women, 2 - men)\n",
    "- height cm\n",
    "- weight kg\n",
    "- ap_hi (Systolic blood pressure)\n",
    "- ap_lo (Diastolic blood pressure)\n",
    "- cholesterol (1: normal, 2: above normal, 3: well above normal)\n",
    "- gluc (1: normal, 2: above normal, 3: well above normal)\n",
    "- smoke (whether patient smokes or not(0 = no, 1 = yes))\n",
    "- alco Binary feature (0 = no, 1 = yes)\n",
    "- active Binary feature (0 = passive life, 1 = active life)\n",
    "- cardio Target variable(0 = no, 1 = yes)"
   ]
  },
  {
   "cell_type": "code",
   "execution_count": 100,
   "id": "362e2ab8",
   "metadata": {},
   "outputs": [],
   "source": [
    "# import libraries for data preprocessinhg\n",
    "import pandas as pd\n",
    "import numpy as np\n",
    "import seaborn as sns\n",
    "import matplotlib.pyplot as plt\n",
    "from sklearn.model_selection import train_test_split, GridSearchCV\n",
    "from sklearn.preprocessing import StandardScaler\n",
    "from imblearn.over_sampling import SMOTE\n",
    "\n",
    "# libraries for model fitting\n",
    "from sklearn.linear_model import LogisticRegression\n",
    "from sklearn.naive_bayes import GaussianNB\n",
    "from sklearn.neighbors import KNeighborsClassifier\n",
    "from sklearn.tree import DecisionTreeClassifier\n",
    "from sklearn.ensemble import RandomForestClassifier, AdaBoostClassifier, GradientBoostingClassifier\n",
    "from sklearn.svm import SVC\n",
    "from xgboost import XGBClassifier\n",
    "\n",
    "# librarie for metrics \n",
    "from sklearn.metrics import accuracy_score, precision_score, recall_score, f1_score, roc_auc_score,cohen_kappa_score,roc_curve #f1 is harmonic mean of precision amd recall\n",
    "from sklearn.metrics import confusion_matrix, classification_report\n"
   ]
  },
  {
   "cell_type": "code",
   "execution_count": 101,
   "id": "6f041b67",
   "metadata": {
    "scrolled": true
   },
   "outputs": [
    {
     "data": {
      "text/plain": [
       "(70000, 15)"
      ]
     },
     "execution_count": 101,
     "metadata": {},
     "output_type": "execute_result"
    }
   ],
   "source": [
    "df=pd.read_csv(\"capstone_data (1).csv\")\n",
    "df.shape"
   ]
  },
  {
   "cell_type": "code",
   "execution_count": 102,
   "id": "6df0686e",
   "metadata": {},
   "outputs": [
    {
     "data": {
      "text/html": [
       "<div>\n",
       "<style scoped>\n",
       "    .dataframe tbody tr th:only-of-type {\n",
       "        vertical-align: middle;\n",
       "    }\n",
       "\n",
       "    .dataframe tbody tr th {\n",
       "        vertical-align: top;\n",
       "    }\n",
       "\n",
       "    .dataframe thead th {\n",
       "        text-align: right;\n",
       "    }\n",
       "</style>\n",
       "<table border=\"1\" class=\"dataframe\">\n",
       "  <thead>\n",
       "    <tr style=\"text-align: right;\">\n",
       "      <th></th>\n",
       "      <th>Unnamed: 0</th>\n",
       "      <th>id</th>\n",
       "      <th>age_days</th>\n",
       "      <th>age_year</th>\n",
       "      <th>gender</th>\n",
       "      <th>height</th>\n",
       "      <th>weight</th>\n",
       "      <th>ap_hi</th>\n",
       "      <th>ap_lo</th>\n",
       "      <th>cholesterol</th>\n",
       "      <th>gluc</th>\n",
       "      <th>smoke</th>\n",
       "      <th>alco</th>\n",
       "      <th>active</th>\n",
       "      <th>cardio</th>\n",
       "    </tr>\n",
       "  </thead>\n",
       "  <tbody>\n",
       "    <tr>\n",
       "      <th>0</th>\n",
       "      <td>0</td>\n",
       "      <td>0</td>\n",
       "      <td>18393</td>\n",
       "      <td>50.391781</td>\n",
       "      <td>2</td>\n",
       "      <td>168</td>\n",
       "      <td>62.0</td>\n",
       "      <td>110</td>\n",
       "      <td>80</td>\n",
       "      <td>normal</td>\n",
       "      <td>normal</td>\n",
       "      <td>no</td>\n",
       "      <td>no</td>\n",
       "      <td>active</td>\n",
       "      <td>0</td>\n",
       "    </tr>\n",
       "    <tr>\n",
       "      <th>1</th>\n",
       "      <td>1</td>\n",
       "      <td>1</td>\n",
       "      <td>20228</td>\n",
       "      <td>55.419178</td>\n",
       "      <td>1</td>\n",
       "      <td>156</td>\n",
       "      <td>85.0</td>\n",
       "      <td>140</td>\n",
       "      <td>90</td>\n",
       "      <td>well above normal</td>\n",
       "      <td>normal</td>\n",
       "      <td>no</td>\n",
       "      <td>no</td>\n",
       "      <td>active</td>\n",
       "      <td>1</td>\n",
       "    </tr>\n",
       "    <tr>\n",
       "      <th>2</th>\n",
       "      <td>2</td>\n",
       "      <td>2</td>\n",
       "      <td>18857</td>\n",
       "      <td>51.663014</td>\n",
       "      <td>1</td>\n",
       "      <td>165</td>\n",
       "      <td>64.0</td>\n",
       "      <td>130</td>\n",
       "      <td>70</td>\n",
       "      <td>well above normal</td>\n",
       "      <td>normal</td>\n",
       "      <td>no</td>\n",
       "      <td>no</td>\n",
       "      <td>passive</td>\n",
       "      <td>1</td>\n",
       "    </tr>\n",
       "    <tr>\n",
       "      <th>3</th>\n",
       "      <td>3</td>\n",
       "      <td>3</td>\n",
       "      <td>17623</td>\n",
       "      <td>48.282192</td>\n",
       "      <td>2</td>\n",
       "      <td>169</td>\n",
       "      <td>82.0</td>\n",
       "      <td>150</td>\n",
       "      <td>100</td>\n",
       "      <td>normal</td>\n",
       "      <td>normal</td>\n",
       "      <td>no</td>\n",
       "      <td>no</td>\n",
       "      <td>active</td>\n",
       "      <td>1</td>\n",
       "    </tr>\n",
       "    <tr>\n",
       "      <th>4</th>\n",
       "      <td>4</td>\n",
       "      <td>4</td>\n",
       "      <td>17474</td>\n",
       "      <td>47.873973</td>\n",
       "      <td>1</td>\n",
       "      <td>156</td>\n",
       "      <td>56.0</td>\n",
       "      <td>100</td>\n",
       "      <td>60</td>\n",
       "      <td>normal</td>\n",
       "      <td>normal</td>\n",
       "      <td>no</td>\n",
       "      <td>no</td>\n",
       "      <td>passive</td>\n",
       "      <td>0</td>\n",
       "    </tr>\n",
       "  </tbody>\n",
       "</table>\n",
       "</div>"
      ],
      "text/plain": [
       "   Unnamed: 0  id  age_days   age_year  gender  height  weight  ap_hi  ap_lo  \\\n",
       "0           0   0     18393  50.391781       2     168    62.0    110     80   \n",
       "1           1   1     20228  55.419178       1     156    85.0    140     90   \n",
       "2           2   2     18857  51.663014       1     165    64.0    130     70   \n",
       "3           3   3     17623  48.282192       2     169    82.0    150    100   \n",
       "4           4   4     17474  47.873973       1     156    56.0    100     60   \n",
       "\n",
       "         cholesterol    gluc smoke alco   active  cardio  \n",
       "0             normal  normal    no   no   active       0  \n",
       "1  well above normal  normal    no   no   active       1  \n",
       "2  well above normal  normal    no   no  passive       1  \n",
       "3             normal  normal    no   no   active       1  \n",
       "4             normal  normal    no   no  passive       0  "
      ]
     },
     "execution_count": 102,
     "metadata": {},
     "output_type": "execute_result"
    }
   ],
   "source": [
    "df.head()"
   ]
  },
  {
   "cell_type": "code",
   "execution_count": 103,
   "id": "9ea8a4f4",
   "metadata": {},
   "outputs": [
    {
     "data": {
      "text/html": [
       "<div>\n",
       "<style scoped>\n",
       "    .dataframe tbody tr th:only-of-type {\n",
       "        vertical-align: middle;\n",
       "    }\n",
       "\n",
       "    .dataframe tbody tr th {\n",
       "        vertical-align: top;\n",
       "    }\n",
       "\n",
       "    .dataframe thead th {\n",
       "        text-align: right;\n",
       "    }\n",
       "</style>\n",
       "<table border=\"1\" class=\"dataframe\">\n",
       "  <thead>\n",
       "    <tr style=\"text-align: right;\">\n",
       "      <th></th>\n",
       "      <th>count</th>\n",
       "      <th>mean</th>\n",
       "      <th>std</th>\n",
       "      <th>min</th>\n",
       "      <th>25%</th>\n",
       "      <th>50%</th>\n",
       "      <th>75%</th>\n",
       "      <th>max</th>\n",
       "    </tr>\n",
       "  </thead>\n",
       "  <tbody>\n",
       "    <tr>\n",
       "      <th>Unnamed: 0</th>\n",
       "      <td>70000.0</td>\n",
       "      <td>34999.500000</td>\n",
       "      <td>20207.403759</td>\n",
       "      <td>0.000000</td>\n",
       "      <td>17499.750000</td>\n",
       "      <td>34999.500000</td>\n",
       "      <td>52499.250000</td>\n",
       "      <td>69999.000000</td>\n",
       "    </tr>\n",
       "    <tr>\n",
       "      <th>id</th>\n",
       "      <td>70000.0</td>\n",
       "      <td>49972.419900</td>\n",
       "      <td>28851.302323</td>\n",
       "      <td>0.000000</td>\n",
       "      <td>25006.750000</td>\n",
       "      <td>50001.500000</td>\n",
       "      <td>74889.250000</td>\n",
       "      <td>99999.000000</td>\n",
       "    </tr>\n",
       "    <tr>\n",
       "      <th>age_days</th>\n",
       "      <td>70000.0</td>\n",
       "      <td>19468.865814</td>\n",
       "      <td>2467.251667</td>\n",
       "      <td>10798.000000</td>\n",
       "      <td>17664.000000</td>\n",
       "      <td>19703.000000</td>\n",
       "      <td>21327.000000</td>\n",
       "      <td>23713.000000</td>\n",
       "    </tr>\n",
       "    <tr>\n",
       "      <th>age_year</th>\n",
       "      <td>70000.0</td>\n",
       "      <td>53.339358</td>\n",
       "      <td>6.759594</td>\n",
       "      <td>29.583562</td>\n",
       "      <td>48.394521</td>\n",
       "      <td>53.980822</td>\n",
       "      <td>58.430137</td>\n",
       "      <td>64.967123</td>\n",
       "    </tr>\n",
       "    <tr>\n",
       "      <th>gender</th>\n",
       "      <td>70000.0</td>\n",
       "      <td>1.349571</td>\n",
       "      <td>0.476838</td>\n",
       "      <td>1.000000</td>\n",
       "      <td>1.000000</td>\n",
       "      <td>1.000000</td>\n",
       "      <td>2.000000</td>\n",
       "      <td>2.000000</td>\n",
       "    </tr>\n",
       "    <tr>\n",
       "      <th>height</th>\n",
       "      <td>70000.0</td>\n",
       "      <td>164.359229</td>\n",
       "      <td>8.210126</td>\n",
       "      <td>55.000000</td>\n",
       "      <td>159.000000</td>\n",
       "      <td>165.000000</td>\n",
       "      <td>170.000000</td>\n",
       "      <td>250.000000</td>\n",
       "    </tr>\n",
       "    <tr>\n",
       "      <th>weight</th>\n",
       "      <td>70000.0</td>\n",
       "      <td>74.205690</td>\n",
       "      <td>14.395757</td>\n",
       "      <td>10.000000</td>\n",
       "      <td>65.000000</td>\n",
       "      <td>72.000000</td>\n",
       "      <td>82.000000</td>\n",
       "      <td>200.000000</td>\n",
       "    </tr>\n",
       "    <tr>\n",
       "      <th>ap_hi</th>\n",
       "      <td>70000.0</td>\n",
       "      <td>128.817286</td>\n",
       "      <td>154.011419</td>\n",
       "      <td>-150.000000</td>\n",
       "      <td>120.000000</td>\n",
       "      <td>120.000000</td>\n",
       "      <td>140.000000</td>\n",
       "      <td>16020.000000</td>\n",
       "    </tr>\n",
       "    <tr>\n",
       "      <th>ap_lo</th>\n",
       "      <td>70000.0</td>\n",
       "      <td>96.630414</td>\n",
       "      <td>188.472530</td>\n",
       "      <td>-70.000000</td>\n",
       "      <td>80.000000</td>\n",
       "      <td>80.000000</td>\n",
       "      <td>90.000000</td>\n",
       "      <td>11000.000000</td>\n",
       "    </tr>\n",
       "    <tr>\n",
       "      <th>cardio</th>\n",
       "      <td>70000.0</td>\n",
       "      <td>0.499700</td>\n",
       "      <td>0.500003</td>\n",
       "      <td>0.000000</td>\n",
       "      <td>0.000000</td>\n",
       "      <td>0.000000</td>\n",
       "      <td>1.000000</td>\n",
       "      <td>1.000000</td>\n",
       "    </tr>\n",
       "  </tbody>\n",
       "</table>\n",
       "</div>"
      ],
      "text/plain": [
       "              count          mean           std           min           25%  \\\n",
       "Unnamed: 0  70000.0  34999.500000  20207.403759      0.000000  17499.750000   \n",
       "id          70000.0  49972.419900  28851.302323      0.000000  25006.750000   \n",
       "age_days    70000.0  19468.865814   2467.251667  10798.000000  17664.000000   \n",
       "age_year    70000.0     53.339358      6.759594     29.583562     48.394521   \n",
       "gender      70000.0      1.349571      0.476838      1.000000      1.000000   \n",
       "height      70000.0    164.359229      8.210126     55.000000    159.000000   \n",
       "weight      70000.0     74.205690     14.395757     10.000000     65.000000   \n",
       "ap_hi       70000.0    128.817286    154.011419   -150.000000    120.000000   \n",
       "ap_lo       70000.0     96.630414    188.472530    -70.000000     80.000000   \n",
       "cardio      70000.0      0.499700      0.500003      0.000000      0.000000   \n",
       "\n",
       "                     50%           75%           max  \n",
       "Unnamed: 0  34999.500000  52499.250000  69999.000000  \n",
       "id          50001.500000  74889.250000  99999.000000  \n",
       "age_days    19703.000000  21327.000000  23713.000000  \n",
       "age_year       53.980822     58.430137     64.967123  \n",
       "gender          1.000000      2.000000      2.000000  \n",
       "height        165.000000    170.000000    250.000000  \n",
       "weight         72.000000     82.000000    200.000000  \n",
       "ap_hi         120.000000    140.000000  16020.000000  \n",
       "ap_lo          80.000000     90.000000  11000.000000  \n",
       "cardio          0.000000      1.000000      1.000000  "
      ]
     },
     "execution_count": 103,
     "metadata": {},
     "output_type": "execute_result"
    }
   ],
   "source": [
    "df.describe().T\n"
   ]
  },
  {
   "cell_type": "code",
   "execution_count": null,
   "id": "b5d87e4e",
   "metadata": {},
   "outputs": [],
   "source": []
  },
  {
   "cell_type": "code",
   "execution_count": 104,
   "id": "407d9663",
   "metadata": {},
   "outputs": [
    {
     "name": "stdout",
     "output_type": "stream",
     "text": [
      "<class 'pandas.core.frame.DataFrame'>\n",
      "RangeIndex: 70000 entries, 0 to 69999\n",
      "Data columns (total 15 columns):\n",
      " #   Column       Non-Null Count  Dtype  \n",
      "---  ------       --------------  -----  \n",
      " 0   Unnamed: 0   70000 non-null  int64  \n",
      " 1   id           70000 non-null  int64  \n",
      " 2   age_days     70000 non-null  int64  \n",
      " 3   age_year     70000 non-null  float64\n",
      " 4   gender       70000 non-null  int64  \n",
      " 5   height       70000 non-null  int64  \n",
      " 6   weight       70000 non-null  float64\n",
      " 7   ap_hi        70000 non-null  int64  \n",
      " 8   ap_lo        70000 non-null  int64  \n",
      " 9   cholesterol  70000 non-null  object \n",
      " 10  gluc         70000 non-null  object \n",
      " 11  smoke        70000 non-null  object \n",
      " 12  alco         70000 non-null  object \n",
      " 13  active       70000 non-null  object \n",
      " 14  cardio       70000 non-null  int64  \n",
      "dtypes: float64(2), int64(8), object(5)\n",
      "memory usage: 8.0+ MB\n"
     ]
    }
   ],
   "source": [
    "df.info()"
   ]
  },
  {
   "cell_type": "code",
   "execution_count": 105,
   "id": "a8b96201",
   "metadata": {},
   "outputs": [
    {
     "data": {
      "text/plain": [
       "Unnamed: 0     0\n",
       "id             0\n",
       "age_days       0\n",
       "age_year       0\n",
       "gender         0\n",
       "height         0\n",
       "weight         0\n",
       "ap_hi          0\n",
       "ap_lo          0\n",
       "cholesterol    0\n",
       "gluc           0\n",
       "smoke          0\n",
       "alco           0\n",
       "active         0\n",
       "cardio         0\n",
       "dtype: int64"
      ]
     },
     "execution_count": 105,
     "metadata": {},
     "output_type": "execute_result"
    }
   ],
   "source": [
    "df.isnull().sum()"
   ]
  },
  {
   "cell_type": "code",
   "execution_count": 106,
   "id": "6b653ab4",
   "metadata": {},
   "outputs": [],
   "source": [
    "#Dropping unnecessary columns\n",
    "df.drop(\"Unnamed: 0\",axis = 1,inplace=True)\n",
    "df.drop(\"id\",axis = 1,inplace = True)\n",
    "df.drop(\"age_days\",axis = 1,inplace = True)"
   ]
  },
  {
   "cell_type": "code",
   "execution_count": 107,
   "id": "66dfc799",
   "metadata": {},
   "outputs": [
    {
     "data": {
      "text/plain": [
       "0    21.967120\n",
       "1    34.927679\n",
       "2    23.507805\n",
       "3    28.710479\n",
       "4    23.011177\n",
       "Name: bmi, dtype: float64"
      ]
     },
     "execution_count": 107,
     "metadata": {},
     "output_type": "execute_result"
    }
   ],
   "source": [
    "df[\"bmi\"]=df.weight/(df.height/100)**2\n",
    "df[\"bmi\"].head()"
   ]
  },
  {
   "cell_type": "code",
   "execution_count": 108,
   "id": "cdb387cf",
   "metadata": {},
   "outputs": [],
   "source": [
    "df.drop([\"weight\",\"height\"],axis = 1,inplace = True)\n"
   ]
  },
  {
   "cell_type": "markdown",
   "id": "7f63fb77",
   "metadata": {},
   "source": [
    "## Univariate analysis"
   ]
  },
  {
   "cell_type": "markdown",
   "id": "e82254d8",
   "metadata": {},
   "source": [
    "### 1.Numerical Columns"
   ]
  },
  {
   "cell_type": "code",
   "execution_count": 109,
   "id": "f0c8a527",
   "metadata": {},
   "outputs": [
    {
     "data": {
      "text/plain": [
       "Index(['age_year', 'gender', 'ap_hi', 'ap_lo', 'cardio', 'bmi'], dtype='object')"
      ]
     },
     "execution_count": 109,
     "metadata": {},
     "output_type": "execute_result"
    }
   ],
   "source": [
    "df.select_dtypes(include=np.number).columns"
   ]
  },
  {
   "cell_type": "code",
   "execution_count": 110,
   "id": "8946dae3",
   "metadata": {},
   "outputs": [],
   "source": [
    "plt.rcParams['figure.figsize']=[15,8]"
   ]
  },
  {
   "cell_type": "code",
   "execution_count": 111,
   "id": "9eb0360e",
   "metadata": {
    "scrolled": false
   },
   "outputs": [
    {
     "name": "stderr",
     "output_type": "stream",
     "text": [
      "C:\\Users\\Nilesh Patil\\anaconda3\\lib\\site-packages\\seaborn\\distributions.py:2619: FutureWarning: `distplot` is a deprecated function and will be removed in a future version. Please adapt your code to use either `displot` (a figure-level function with similar flexibility) or `histplot` (an axes-level function for histograms).\n",
      "  warnings.warn(msg, FutureWarning)\n",
      "C:\\Users\\Nilesh Patil\\anaconda3\\lib\\site-packages\\seaborn\\distributions.py:2619: FutureWarning: `distplot` is a deprecated function and will be removed in a future version. Please adapt your code to use either `displot` (a figure-level function with similar flexibility) or `histplot` (an axes-level function for histograms).\n",
      "  warnings.warn(msg, FutureWarning)\n",
      "C:\\Users\\Nilesh Patil\\anaconda3\\lib\\site-packages\\seaborn\\distributions.py:2619: FutureWarning: `distplot` is a deprecated function and will be removed in a future version. Please adapt your code to use either `displot` (a figure-level function with similar flexibility) or `histplot` (an axes-level function for histograms).\n",
      "  warnings.warn(msg, FutureWarning)\n",
      "C:\\Users\\Nilesh Patil\\anaconda3\\lib\\site-packages\\seaborn\\distributions.py:2619: FutureWarning: `distplot` is a deprecated function and will be removed in a future version. Please adapt your code to use either `displot` (a figure-level function with similar flexibility) or `histplot` (an axes-level function for histograms).\n",
      "  warnings.warn(msg, FutureWarning)\n"
     ]
    },
    {
     "data": {
      "image/png": "[encoded data removed]",
      "text/plain": [
       "<Figure size 1080x576 with 4 Axes>"
      ]
     },
     "metadata": {
      "needs_background": "light"
     },
     "output_type": "display_data"
    }
   ],
   "source": [
    "cols=['age_year', 'ap_hi','ap_lo',\"bmi\"]\n",
    "rows=4\n",
    "columns=2\n",
    "iterator=1\n",
    "for i in cols:\n",
    "    plt.subplot(rows,columns,iterator)\n",
    "    sns.distplot(df.loc[:,i],kde=True)\n",
    "    plt.title(i)\n",
    "    iterator=iterator+1\n",
    "    plt.xticks(rotation=90)\n",
    "    \n",
    "plt.tight_layout()\n",
    "plt.show()"
   ]
  },
  {
   "cell_type": "markdown",
   "id": "8753e9df",
   "metadata": {},
   "source": [
    "### Inference:\n",
    "- **age_year:** This columns are looking uniformly distributed with multiple modes. For this columns we can do **binning** to make them simple to understand. But at the same time both are giving same information, so we can treat age_days as unnecessary column and drop it.\n",
    "- **height and weight:** This columns are looking nearly normally distributed.\n",
    "- **ap_hi and ap_lo:** This columns have very low range and have some outliers. Thats why they are looking skewed.\n",
    "In adults, blood pressure is considered to be normal under a systolic value of 140 mmHg and under a diastolic value of 90 mm"
   ]
  },
  {
   "cell_type": "code",
   "execution_count": 112,
   "id": "6a6b02e8",
   "metadata": {},
   "outputs": [],
   "source": [
    "df[\"cholesterol\"]=df[\"cholesterol\"].replace(to_replace=\"well above normal\",value=\"high\")\n",
    "df[\"cholesterol\"]=df[\"cholesterol\"].replace(to_replace=\"above normal\",value=\"borderline high\")\n"
   ]
  },
  {
   "cell_type": "code",
   "execution_count": null,
   "id": "855710b2",
   "metadata": {},
   "outputs": [],
   "source": []
  },
  {
   "cell_type": "code",
   "execution_count": 113,
   "id": "ee82e6f0",
   "metadata": {},
   "outputs": [
    {
     "data": {
      "text/plain": [
       "array(['normal', 'high', 'borderline high'], dtype=object)"
      ]
     },
     "execution_count": 113,
     "metadata": {},
     "output_type": "execute_result"
    }
   ],
   "source": [
    "df.cholesterol.unique()"
   ]
  },
  {
   "cell_type": "code",
   "execution_count": 114,
   "id": "cbf0348e",
   "metadata": {},
   "outputs": [
    {
     "data": {
      "text/html": [
       "<div>\n",
       "<style scoped>\n",
       "    .dataframe tbody tr th:only-of-type {\n",
       "        vertical-align: middle;\n",
       "    }\n",
       "\n",
       "    .dataframe tbody tr th {\n",
       "        vertical-align: top;\n",
       "    }\n",
       "\n",
       "    .dataframe thead th {\n",
       "        text-align: right;\n",
       "    }\n",
       "</style>\n",
       "<table border=\"1\" class=\"dataframe\">\n",
       "  <thead>\n",
       "    <tr style=\"text-align: right;\">\n",
       "      <th></th>\n",
       "      <th>age_year</th>\n",
       "      <th>gender</th>\n",
       "      <th>ap_hi</th>\n",
       "      <th>ap_lo</th>\n",
       "      <th>cholesterol</th>\n",
       "      <th>gluc</th>\n",
       "      <th>smoke</th>\n",
       "      <th>alco</th>\n",
       "      <th>active</th>\n",
       "      <th>cardio</th>\n",
       "      <th>bmi</th>\n",
       "    </tr>\n",
       "  </thead>\n",
       "  <tbody>\n",
       "    <tr>\n",
       "      <th>0</th>\n",
       "      <td>50.391781</td>\n",
       "      <td>2</td>\n",
       "      <td>110</td>\n",
       "      <td>80</td>\n",
       "      <td>normal</td>\n",
       "      <td>normal</td>\n",
       "      <td>no</td>\n",
       "      <td>no</td>\n",
       "      <td>active</td>\n",
       "      <td>0</td>\n",
       "      <td>21.967120</td>\n",
       "    </tr>\n",
       "    <tr>\n",
       "      <th>1</th>\n",
       "      <td>55.419178</td>\n",
       "      <td>1</td>\n",
       "      <td>140</td>\n",
       "      <td>90</td>\n",
       "      <td>high</td>\n",
       "      <td>normal</td>\n",
       "      <td>no</td>\n",
       "      <td>no</td>\n",
       "      <td>active</td>\n",
       "      <td>1</td>\n",
       "      <td>34.927679</td>\n",
       "    </tr>\n",
       "    <tr>\n",
       "      <th>2</th>\n",
       "      <td>51.663014</td>\n",
       "      <td>1</td>\n",
       "      <td>130</td>\n",
       "      <td>70</td>\n",
       "      <td>high</td>\n",
       "      <td>normal</td>\n",
       "      <td>no</td>\n",
       "      <td>no</td>\n",
       "      <td>passive</td>\n",
       "      <td>1</td>\n",
       "      <td>23.507805</td>\n",
       "    </tr>\n",
       "    <tr>\n",
       "      <th>3</th>\n",
       "      <td>48.282192</td>\n",
       "      <td>2</td>\n",
       "      <td>150</td>\n",
       "      <td>100</td>\n",
       "      <td>normal</td>\n",
       "      <td>normal</td>\n",
       "      <td>no</td>\n",
       "      <td>no</td>\n",
       "      <td>active</td>\n",
       "      <td>1</td>\n",
       "      <td>28.710479</td>\n",
       "    </tr>\n",
       "    <tr>\n",
       "      <th>4</th>\n",
       "      <td>47.873973</td>\n",
       "      <td>1</td>\n",
       "      <td>100</td>\n",
       "      <td>60</td>\n",
       "      <td>normal</td>\n",
       "      <td>normal</td>\n",
       "      <td>no</td>\n",
       "      <td>no</td>\n",
       "      <td>passive</td>\n",
       "      <td>0</td>\n",
       "      <td>23.011177</td>\n",
       "    </tr>\n",
       "  </tbody>\n",
       "</table>\n",
       "</div>"
      ],
      "text/plain": [
       "    age_year  gender  ap_hi  ap_lo cholesterol    gluc smoke alco   active  \\\n",
       "0  50.391781       2    110     80      normal  normal    no   no   active   \n",
       "1  55.419178       1    140     90        high  normal    no   no   active   \n",
       "2  51.663014       1    130     70        high  normal    no   no  passive   \n",
       "3  48.282192       2    150    100      normal  normal    no   no   active   \n",
       "4  47.873973       1    100     60      normal  normal    no   no  passive   \n",
       "\n",
       "   cardio        bmi  \n",
       "0       0  21.967120  \n",
       "1       1  34.927679  \n",
       "2       1  23.507805  \n",
       "3       1  28.710479  \n",
       "4       0  23.011177  "
      ]
     },
     "execution_count": 114,
     "metadata": {},
     "output_type": "execute_result"
    }
   ],
   "source": [
    "df.head()"
   ]
  },
  {
   "cell_type": "markdown",
   "id": "f9693440",
   "metadata": {},
   "source": [
    "### 2.Categorical Columns"
   ]
  },
  {
   "cell_type": "code",
   "execution_count": 115,
   "id": "6c364a2d",
   "metadata": {},
   "outputs": [
    {
     "data": {
      "text/plain": [
       "Index(['cholesterol', 'gluc', 'smoke', 'alco', 'active'], dtype='object')"
      ]
     },
     "execution_count": 115,
     "metadata": {},
     "output_type": "execute_result"
    }
   ],
   "source": [
    "df.select_dtypes(include=object).columns"
   ]
  },
  {
   "cell_type": "code",
   "execution_count": 116,
   "id": "a033350f",
   "metadata": {},
   "outputs": [
    {
     "name": "stderr",
     "output_type": "stream",
     "text": [
      "C:\\Users\\Nilesh Patil\\anaconda3\\lib\\site-packages\\seaborn\\_decorators.py:36: FutureWarning: Pass the following variable as a keyword arg: x. From version 0.12, the only valid positional argument will be `data`, and passing other arguments without an explicit keyword will result in an error or misinterpretation.\n",
      "  warnings.warn(\n",
      "C:\\Users\\Nilesh Patil\\anaconda3\\lib\\site-packages\\seaborn\\_decorators.py:36: FutureWarning: Pass the following variable as a keyword arg: x. From version 0.12, the only valid positional argument will be `data`, and passing other arguments without an explicit keyword will result in an error or misinterpretation.\n",
      "  warnings.warn(\n",
      "C:\\Users\\Nilesh Patil\\anaconda3\\lib\\site-packages\\seaborn\\_decorators.py:36: FutureWarning: Pass the following variable as a keyword arg: x. From version 0.12, the only valid positional argument will be `data`, and passing other arguments without an explicit keyword will result in an error or misinterpretation.\n",
      "  warnings.warn(\n",
      "C:\\Users\\Nilesh Patil\\anaconda3\\lib\\site-packages\\seaborn\\_decorators.py:36: FutureWarning: Pass the following variable as a keyword arg: x. From version 0.12, the only valid positional argument will be `data`, and passing other arguments without an explicit keyword will result in an error or misinterpretation.\n",
      "  warnings.warn(\n",
      "C:\\Users\\Nilesh Patil\\anaconda3\\lib\\site-packages\\seaborn\\_decorators.py:36: FutureWarning: Pass the following variable as a keyword arg: x. From version 0.12, the only valid positional argument will be `data`, and passing other arguments without an explicit keyword will result in an error or misinterpretation.\n",
      "  warnings.warn(\n",
      "C:\\Users\\Nilesh Patil\\anaconda3\\lib\\site-packages\\seaborn\\_decorators.py:36: FutureWarning: Pass the following variable as a keyword arg: x. From version 0.12, the only valid positional argument will be `data`, and passing other arguments without an explicit keyword will result in an error or misinterpretation.\n",
      "  warnings.warn(\n"
     ]
    },
    {
     "data": {
      "image/png": "[encoded data removed]",
      "text/plain": [
       "<Figure size 1080x576 with 6 Axes>"
      ]
     },
     "metadata": {
      "needs_background": "light"
     },
     "output_type": "display_data"
    }
   ],
   "source": [
    "cols=['gender', 'cholesterol', 'gluc', 'smoke', 'alco', 'active']\n",
    "rows=3\n",
    "columns=2\n",
    "iterator=1\n",
    "for i in cols:\n",
    "    plt.subplot(rows,columns,iterator)\n",
    "    sns.countplot(df.loc[:,i])\n",
    "    plt.title(i)\n",
    "    iterator=iterator+1\n",
    "    plt.xticks(rotation=90)\n",
    "\n",
    "plt.tight_layout()\n",
    "plt.show()\n",
    "    "
   ]
  },
  {
   "cell_type": "markdown",
   "id": "6d8a5046",
   "metadata": {},
   "source": [
    "### Inference:\n",
    "- **gender:** The dataset is not balanced as per the gender and there are more females in the dataset than male.\n",
    "- **cholesterol and gluc:** As we can see,most of the participants with cholesterol and glucose are of normal level than above normal amd well above normal.\n",
    "- **smoke and alco:** Most of the participants are non smokers and non alcoholic.\n",
    "- **active:** There are more participants with active life than passive."
   ]
  },
  {
   "cell_type": "code",
   "execution_count": 117,
   "id": "ede3676e",
   "metadata": {},
   "outputs": [
    {
     "data": {
      "text/plain": [
       "0    35021\n",
       "1    34979\n",
       "Name: cardio, dtype: int64"
      ]
     },
     "execution_count": 117,
     "metadata": {},
     "output_type": "execute_result"
    }
   ],
   "source": [
    "df.cardio.value_counts()"
   ]
  },
  {
   "cell_type": "code",
   "execution_count": null,
   "id": "d7f7e73d",
   "metadata": {},
   "outputs": [],
   "source": []
  },
  {
   "cell_type": "markdown",
   "id": "12dd037f",
   "metadata": {},
   "source": [
    "## Multivariate analysis"
   ]
  },
  {
   "cell_type": "code",
   "execution_count": 118,
   "id": "1b34ac39",
   "metadata": {},
   "outputs": [
    {
     "data": {
      "text/html": [
       "<div>\n",
       "<style scoped>\n",
       "    .dataframe tbody tr th:only-of-type {\n",
       "        vertical-align: middle;\n",
       "    }\n",
       "\n",
       "    .dataframe tbody tr th {\n",
       "        vertical-align: top;\n",
       "    }\n",
       "\n",
       "    .dataframe thead th {\n",
       "        text-align: right;\n",
       "    }\n",
       "</style>\n",
       "<table border=\"1\" class=\"dataframe\">\n",
       "  <thead>\n",
       "    <tr style=\"text-align: right;\">\n",
       "      <th></th>\n",
       "      <th>age_year</th>\n",
       "      <th>gender</th>\n",
       "      <th>ap_hi</th>\n",
       "      <th>ap_lo</th>\n",
       "      <th>cardio</th>\n",
       "      <th>bmi</th>\n",
       "    </tr>\n",
       "  </thead>\n",
       "  <tbody>\n",
       "    <tr>\n",
       "      <th>age_year</th>\n",
       "      <td>1.000000</td>\n",
       "      <td>-0.022811</td>\n",
       "      <td>0.020764</td>\n",
       "      <td>0.017647</td>\n",
       "      <td>0.238159</td>\n",
       "      <td>0.085512</td>\n",
       "    </tr>\n",
       "    <tr>\n",
       "      <th>gender</th>\n",
       "      <td>-0.022811</td>\n",
       "      <td>1.000000</td>\n",
       "      <td>0.006005</td>\n",
       "      <td>0.015254</td>\n",
       "      <td>0.008109</td>\n",
       "      <td>-0.096529</td>\n",
       "    </tr>\n",
       "    <tr>\n",
       "      <th>ap_hi</th>\n",
       "      <td>0.020764</td>\n",
       "      <td>0.006005</td>\n",
       "      <td>1.000000</td>\n",
       "      <td>0.016086</td>\n",
       "      <td>0.054475</td>\n",
       "      <td>0.024852</td>\n",
       "    </tr>\n",
       "    <tr>\n",
       "      <th>ap_lo</th>\n",
       "      <td>0.017647</td>\n",
       "      <td>0.015254</td>\n",
       "      <td>0.016086</td>\n",
       "      <td>1.000000</td>\n",
       "      <td>0.065719</td>\n",
       "      <td>0.035345</td>\n",
       "    </tr>\n",
       "    <tr>\n",
       "      <th>cardio</th>\n",
       "      <td>0.238159</td>\n",
       "      <td>0.008109</td>\n",
       "      <td>0.054475</td>\n",
       "      <td>0.065719</td>\n",
       "      <td>1.000000</td>\n",
       "      <td>0.165632</td>\n",
       "    </tr>\n",
       "    <tr>\n",
       "      <th>bmi</th>\n",
       "      <td>0.085512</td>\n",
       "      <td>-0.096529</td>\n",
       "      <td>0.024852</td>\n",
       "      <td>0.035345</td>\n",
       "      <td>0.165632</td>\n",
       "      <td>1.000000</td>\n",
       "    </tr>\n",
       "  </tbody>\n",
       "</table>\n",
       "</div>"
      ],
      "text/plain": [
       "          age_year    gender     ap_hi     ap_lo    cardio       bmi\n",
       "age_year  1.000000 -0.022811  0.020764  0.017647  0.238159  0.085512\n",
       "gender   -0.022811  1.000000  0.006005  0.015254  0.008109 -0.096529\n",
       "ap_hi     0.020764  0.006005  1.000000  0.016086  0.054475  0.024852\n",
       "ap_lo     0.017647  0.015254  0.016086  1.000000  0.065719  0.035345\n",
       "cardio    0.238159  0.008109  0.054475  0.065719  1.000000  0.165632\n",
       "bmi       0.085512 -0.096529  0.024852  0.035345  0.165632  1.000000"
      ]
     },
     "execution_count": 118,
     "metadata": {},
     "output_type": "execute_result"
    }
   ],
   "source": [
    "X=df.corr()\n",
    "X"
   ]
  },
  {
   "cell_type": "code",
   "execution_count": 119,
   "id": "9b308a3b",
   "metadata": {},
   "outputs": [
    {
     "data": {
      "text/plain": [
       "<AxesSubplot:>"
      ]
     },
     "execution_count": 119,
     "metadata": {},
     "output_type": "execute_result"
    },
    {
     "data": {
      "image/png": "[encoded data removed]",
      "text/plain": [
       "<Figure size 1080x576 with 2 Axes>"
      ]
     },
     "metadata": {
      "needs_background": "light"
     },
     "output_type": "display_data"
    }
   ],
   "source": [
    "sns.heatmap(X,annot=True)"
   ]
  },
  {
   "cell_type": "markdown",
   "id": "e21e9bb8",
   "metadata": {},
   "source": [
    "**Inference:** From above we can say that, cardio disease is more related with age_year, weight and cholesterol.\n"
   ]
  },
  {
   "cell_type": "code",
   "execution_count": 120,
   "id": "a9137ddb",
   "metadata": {},
   "outputs": [
    {
     "data": {
      "text/plain": [
       "Series([], dtype: int64)"
      ]
     },
     "execution_count": 120,
     "metadata": {},
     "output_type": "execute_result"
    }
   ],
   "source": [
    "df.isnull().sum()[df.isnull().sum()!=0] #no missing values"
   ]
  },
  {
   "cell_type": "markdown",
   "id": "f1504a9b",
   "metadata": {},
   "source": [
    "# Bivariate Analysis of related columns"
   ]
  },
  {
   "cell_type": "code",
   "execution_count": 121,
   "id": "5c6ad0ba",
   "metadata": {},
   "outputs": [],
   "source": [
    "#Numerical columns"
   ]
  },
  {
   "cell_type": "code",
   "execution_count": 122,
   "id": "854e49ee",
   "metadata": {
    "scrolled": false
   },
   "outputs": [
    {
     "name": "stderr",
     "output_type": "stream",
     "text": [
      "C:\\Users\\Nilesh Patil\\anaconda3\\lib\\site-packages\\seaborn\\_decorators.py:36: FutureWarning: Pass the following variables as keyword args: x, y. From version 0.12, the only valid positional argument will be `data`, and passing other arguments without an explicit keyword will result in an error or misinterpretation.\n",
      "  warnings.warn(\n",
      "C:\\Users\\Nilesh Patil\\anaconda3\\lib\\site-packages\\seaborn\\_decorators.py:36: FutureWarning: Pass the following variables as keyword args: x, y. From version 0.12, the only valid positional argument will be `data`, and passing other arguments without an explicit keyword will result in an error or misinterpretation.\n",
      "  warnings.warn(\n",
      "C:\\Users\\Nilesh Patil\\anaconda3\\lib\\site-packages\\seaborn\\_decorators.py:36: FutureWarning: Pass the following variables as keyword args: x, y. From version 0.12, the only valid positional argument will be `data`, and passing other arguments without an explicit keyword will result in an error or misinterpretation.\n",
      "  warnings.warn(\n",
      "C:\\Users\\Nilesh Patil\\anaconda3\\lib\\site-packages\\seaborn\\_decorators.py:36: FutureWarning: Pass the following variables as keyword args: x, y. From version 0.12, the only valid positional argument will be `data`, and passing other arguments without an explicit keyword will result in an error or misinterpretation.\n",
      "  warnings.warn(\n"
     ]
    },
    {
     "data": {
      "image/png": "[encoded data removed]",
      "text/plain": [
       "<Figure size 1080x576 with 4 Axes>"
      ]
     },
     "metadata": {
      "needs_background": "light"
     },
     "output_type": "display_data"
    }
   ],
   "source": [
    "cols=[\"cholesterol\",\"ap_hi\",\"ap_lo\",\"bmi\"]\n",
    "rows=3\n",
    "columns=2\n",
    "iterator=1\n",
    "for i in cols:\n",
    "    plt.subplot(rows,columns,iterator)\n",
    "    sns.barplot(df.cardio,df.loc[:,i])\n",
    "    plt.title(i)\n",
    "    iterator=iterator+1\n",
    "    plt.xticks(rotation=90)\n",
    "\n",
    "plt.tight_layout()\n",
    "plt.show()"
   ]
  },
  {
   "cell_type": "code",
   "execution_count": 123,
   "id": "60c447ed",
   "metadata": {},
   "outputs": [
    {
     "data": {
      "text/html": [
       "<div>\n",
       "<style scoped>\n",
       "    .dataframe tbody tr th:only-of-type {\n",
       "        vertical-align: middle;\n",
       "    }\n",
       "\n",
       "    .dataframe tbody tr th {\n",
       "        vertical-align: top;\n",
       "    }\n",
       "\n",
       "    .dataframe thead th {\n",
       "        text-align: right;\n",
       "    }\n",
       "</style>\n",
       "<table border=\"1\" class=\"dataframe\">\n",
       "  <thead>\n",
       "    <tr style=\"text-align: right;\">\n",
       "      <th>smoke</th>\n",
       "      <th>no</th>\n",
       "      <th>yes</th>\n",
       "    </tr>\n",
       "    <tr>\n",
       "      <th>cardio</th>\n",
       "      <th></th>\n",
       "      <th></th>\n",
       "    </tr>\n",
       "  </thead>\n",
       "  <tbody>\n",
       "    <tr>\n",
       "      <th>0</th>\n",
       "      <td>31781</td>\n",
       "      <td>3240</td>\n",
       "    </tr>\n",
       "    <tr>\n",
       "      <th>1</th>\n",
       "      <td>32050</td>\n",
       "      <td>2929</td>\n",
       "    </tr>\n",
       "  </tbody>\n",
       "</table>\n",
       "</div>"
      ],
      "text/plain": [
       "smoke      no   yes\n",
       "cardio             \n",
       "0       31781  3240\n",
       "1       32050  2929"
      ]
     },
     "execution_count": 123,
     "metadata": {},
     "output_type": "execute_result"
    }
   ],
   "source": [
    "#categorical columns\n",
    "x=pd.crosstab(index=df.cardio,columns=df.smoke)\n",
    "x"
   ]
  },
  {
   "cell_type": "code",
   "execution_count": 124,
   "id": "c7259d3c",
   "metadata": {},
   "outputs": [
    {
     "name": "stderr",
     "output_type": "stream",
     "text": [
      "C:\\Users\\Nilesh Patil\\anaconda3\\lib\\site-packages\\seaborn\\_decorators.py:36: FutureWarning: Pass the following variable as a keyword arg: x. From version 0.12, the only valid positional argument will be `data`, and passing other arguments without an explicit keyword will result in an error or misinterpretation.\n",
      "  warnings.warn(\n",
      "C:\\Users\\Nilesh Patil\\anaconda3\\lib\\site-packages\\seaborn\\_decorators.py:36: FutureWarning: Pass the following variable as a keyword arg: x. From version 0.12, the only valid positional argument will be `data`, and passing other arguments without an explicit keyword will result in an error or misinterpretation.\n",
      "  warnings.warn(\n",
      "C:\\Users\\Nilesh Patil\\anaconda3\\lib\\site-packages\\seaborn\\_decorators.py:36: FutureWarning: Pass the following variable as a keyword arg: x. From version 0.12, the only valid positional argument will be `data`, and passing other arguments without an explicit keyword will result in an error or misinterpretation.\n",
      "  warnings.warn(\n",
      "C:\\Users\\Nilesh Patil\\anaconda3\\lib\\site-packages\\seaborn\\_decorators.py:36: FutureWarning: Pass the following variable as a keyword arg: x. From version 0.12, the only valid positional argument will be `data`, and passing other arguments without an explicit keyword will result in an error or misinterpretation.\n",
      "  warnings.warn(\n",
      "C:\\Users\\Nilesh Patil\\anaconda3\\lib\\site-packages\\seaborn\\_decorators.py:36: FutureWarning: Pass the following variable as a keyword arg: x. From version 0.12, the only valid positional argument will be `data`, and passing other arguments without an explicit keyword will result in an error or misinterpretation.\n",
      "  warnings.warn(\n",
      "C:\\Users\\Nilesh Patil\\anaconda3\\lib\\site-packages\\seaborn\\_decorators.py:36: FutureWarning: Pass the following variable as a keyword arg: x. From version 0.12, the only valid positional argument will be `data`, and passing other arguments without an explicit keyword will result in an error or misinterpretation.\n",
      "  warnings.warn(\n"
     ]
    },
    {
     "data": {
      "image/png": "[encoded data removed]",
      "text/plain": [
       "<Figure size 1080x576 with 6 Axes>"
      ]
     },
     "metadata": {
      "needs_background": "light"
     },
     "output_type": "display_data"
    }
   ],
   "source": [
    "cols=['gender', 'cholesterol', 'gluc', 'smoke', 'alco', 'active']\n",
    "rows=3\n",
    "columns=2\n",
    "iterator=1\n",
    "for i in cols:\n",
    "    plt.subplot(rows,columns,iterator)\n",
    "    sns.countplot(df.loc[:,i],hue=df.cardio)\n",
    "    plt.title(i)\n",
    "    iterator=iterator+1\n",
    "    plt.xticks(rotation=90)\n",
    "\n",
    "plt.tight_layout()\n",
    "plt.show()"
   ]
  },
  {
   "cell_type": "raw",
   "id": "3c778c60",
   "metadata": {},
   "source": [
    "import plotly.express as px\n"
   ]
  },
  {
   "cell_type": "markdown",
   "id": "eff15815",
   "metadata": {},
   "source": [
    "## Outlier Treatment"
   ]
  },
  {
   "cell_type": "code",
   "execution_count": 125,
   "id": "66f9687b",
   "metadata": {},
   "outputs": [
    {
     "data": {
      "text/plain": [
       "<AxesSubplot:>"
      ]
     },
     "execution_count": 125,
     "metadata": {},
     "output_type": "execute_result"
    },
    {
     "data": {
      "image/png": "[encoded data removed]",
      "text/plain": [
       "<Figure size 1080x576 with 1 Axes>"
      ]
     },
     "metadata": {
      "needs_background": "light"
     },
     "output_type": "display_data"
    }
   ],
   "source": [
    "df.boxplot()"
   ]
  },
  {
   "cell_type": "code",
   "execution_count": 126,
   "id": "52ecb6be",
   "metadata": {},
   "outputs": [
    {
     "name": "stdout",
     "output_type": "stream",
     "text": [
      "age_year     88.536986\n",
      "gender        5.000000\n",
      "ap_hi       200.000000\n",
      "ap_lo       120.000000\n",
      "cardio        4.000000\n",
      "bmi          49.263545\n",
      "dtype: float64\n",
      "age_year    18.287671\n",
      "gender      -2.000000\n",
      "ap_hi       60.000000\n",
      "ap_lo       50.000000\n",
      "cardio      -3.000000\n",
      "bmi          4.833792\n",
      "dtype: float64\n"
     ]
    }
   ],
   "source": [
    "Q1 = df.quantile(0.25)\n",
    "Q3 = df.quantile(0.75)\n",
    "IQR = Q3-Q1\n",
    "\n",
    "upperfense = Q3+3*IQR\n",
    "lowerfense = Q1-3*IQR\n",
    "print(upperfense)\n",
    "print(lowerfense)"
   ]
  },
  {
   "cell_type": "raw",
   "id": "243e7ab4",
   "metadata": {},
   "source": [
    "Q1 = df.quantile(0.25)\n",
    "Q3 = df.quantile(0.75)\n",
    "IQR = Q3-Q1\n",
    "\n",
    "upperfense = Q3+1.5*IQR\n",
    "lowerfense = Q1-1.5*IQR\n",
    "print(upperfense)\n",
    "print(lowerfense)"
   ]
  },
  {
   "cell_type": "code",
   "execution_count": 127,
   "id": "98731f48",
   "metadata": {},
   "outputs": [
    {
     "name": "stderr",
     "output_type": "stream",
     "text": [
      "C:\\Users\\Nilesh Patil\\AppData\\Local\\Temp\\ipykernel_11040\\2609896590.py:1: FutureWarning: Automatic reindexing on DataFrame vs Series comparisons is deprecated and will raise ValueError in a future version. Do `left, right = left.align(right, axis=1, copy=False)` before e.g. `left == right`\n",
      "  df=df[~((df>upperfense)|(df<lowerfense)).any(axis=1)]\n"
     ]
    },
    {
     "data": {
      "text/plain": [
       "(68351, 11)"
      ]
     },
     "execution_count": 127,
     "metadata": {},
     "output_type": "execute_result"
    }
   ],
   "source": [
    "df=df[~((df>upperfense)|(df<lowerfense)).any(axis=1)]\n",
    "df.shape"
   ]
  },
  {
   "cell_type": "raw",
   "id": "738740d0",
   "metadata": {},
   "source": [
    "df1=df[~((df>upperfense)|(df<lowerfense)).any(axis=1)]\n",
    "df1.shape"
   ]
  },
  {
   "cell_type": "markdown",
   "id": "055a650e",
   "metadata": {},
   "source": [
    "# Multivariate analysis"
   ]
  },
  {
   "cell_type": "code",
   "execution_count": 128,
   "id": "4cad729f",
   "metadata": {},
   "outputs": [
    {
     "data": {
      "text/plain": [
       "<AxesSubplot:>"
      ]
     },
     "execution_count": 128,
     "metadata": {},
     "output_type": "execute_result"
    },
    {
     "data": {
      "image/png": "[encoded data removed]",
      "text/plain": [
       "<Figure size 1080x576 with 2 Axes>"
      ]
     },
     "metadata": {
      "needs_background": "light"
     },
     "output_type": "display_data"
    }
   ],
   "source": [
    "X=df.corr()\n",
    "X\n",
    "sns.heatmap(X,annot=True)"
   ]
  },
  {
   "cell_type": "raw",
   "id": "cd22112f",
   "metadata": {},
   "source": [
    "X=df1.corr()\n",
    "X\n",
    "sns.heatmap(X,annot=True)"
   ]
  },
  {
   "cell_type": "code",
   "execution_count": 129,
   "id": "77fe6b85",
   "metadata": {},
   "outputs": [
    {
     "data": {
      "text/html": [
       "<div>\n",
       "<style scoped>\n",
       "    .dataframe tbody tr th:only-of-type {\n",
       "        vertical-align: middle;\n",
       "    }\n",
       "\n",
       "    .dataframe tbody tr th {\n",
       "        vertical-align: top;\n",
       "    }\n",
       "\n",
       "    .dataframe thead th {\n",
       "        text-align: right;\n",
       "    }\n",
       "</style>\n",
       "<table border=\"1\" class=\"dataframe\">\n",
       "  <thead>\n",
       "    <tr style=\"text-align: right;\">\n",
       "      <th></th>\n",
       "      <th>age_year</th>\n",
       "      <th>gender</th>\n",
       "      <th>ap_hi</th>\n",
       "      <th>ap_lo</th>\n",
       "      <th>cholesterol</th>\n",
       "      <th>gluc</th>\n",
       "      <th>smoke</th>\n",
       "      <th>alco</th>\n",
       "      <th>active</th>\n",
       "      <th>cardio</th>\n",
       "      <th>bmi</th>\n",
       "    </tr>\n",
       "  </thead>\n",
       "  <tbody>\n",
       "    <tr>\n",
       "      <th>0</th>\n",
       "      <td>50.391781</td>\n",
       "      <td>2</td>\n",
       "      <td>110</td>\n",
       "      <td>80</td>\n",
       "      <td>normal</td>\n",
       "      <td>normal</td>\n",
       "      <td>no</td>\n",
       "      <td>no</td>\n",
       "      <td>active</td>\n",
       "      <td>0</td>\n",
       "      <td>21.967120</td>\n",
       "    </tr>\n",
       "    <tr>\n",
       "      <th>1</th>\n",
       "      <td>55.419178</td>\n",
       "      <td>1</td>\n",
       "      <td>140</td>\n",
       "      <td>90</td>\n",
       "      <td>high</td>\n",
       "      <td>normal</td>\n",
       "      <td>no</td>\n",
       "      <td>no</td>\n",
       "      <td>active</td>\n",
       "      <td>1</td>\n",
       "      <td>34.927679</td>\n",
       "    </tr>\n",
       "    <tr>\n",
       "      <th>2</th>\n",
       "      <td>51.663014</td>\n",
       "      <td>1</td>\n",
       "      <td>130</td>\n",
       "      <td>70</td>\n",
       "      <td>high</td>\n",
       "      <td>normal</td>\n",
       "      <td>no</td>\n",
       "      <td>no</td>\n",
       "      <td>passive</td>\n",
       "      <td>1</td>\n",
       "      <td>23.507805</td>\n",
       "    </tr>\n",
       "    <tr>\n",
       "      <th>3</th>\n",
       "      <td>48.282192</td>\n",
       "      <td>2</td>\n",
       "      <td>150</td>\n",
       "      <td>100</td>\n",
       "      <td>normal</td>\n",
       "      <td>normal</td>\n",
       "      <td>no</td>\n",
       "      <td>no</td>\n",
       "      <td>active</td>\n",
       "      <td>1</td>\n",
       "      <td>28.710479</td>\n",
       "    </tr>\n",
       "    <tr>\n",
       "      <th>4</th>\n",
       "      <td>47.873973</td>\n",
       "      <td>1</td>\n",
       "      <td>100</td>\n",
       "      <td>60</td>\n",
       "      <td>normal</td>\n",
       "      <td>normal</td>\n",
       "      <td>no</td>\n",
       "      <td>no</td>\n",
       "      <td>passive</td>\n",
       "      <td>0</td>\n",
       "      <td>23.011177</td>\n",
       "    </tr>\n",
       "  </tbody>\n",
       "</table>\n",
       "</div>"
      ],
      "text/plain": [
       "    age_year  gender  ap_hi  ap_lo cholesterol    gluc smoke alco   active  \\\n",
       "0  50.391781       2    110     80      normal  normal    no   no   active   \n",
       "1  55.419178       1    140     90        high  normal    no   no   active   \n",
       "2  51.663014       1    130     70        high  normal    no   no  passive   \n",
       "3  48.282192       2    150    100      normal  normal    no   no   active   \n",
       "4  47.873973       1    100     60      normal  normal    no   no  passive   \n",
       "\n",
       "   cardio        bmi  \n",
       "0       0  21.967120  \n",
       "1       1  34.927679  \n",
       "2       1  23.507805  \n",
       "3       1  28.710479  \n",
       "4       0  23.011177  "
      ]
     },
     "execution_count": 129,
     "metadata": {},
     "output_type": "execute_result"
    }
   ],
   "source": [
    "df.head()"
   ]
  },
  {
   "cell_type": "code",
   "execution_count": 130,
   "id": "ac3465aa",
   "metadata": {},
   "outputs": [
    {
     "data": {
      "text/html": [
       "<div>\n",
       "<style scoped>\n",
       "    .dataframe tbody tr th:only-of-type {\n",
       "        vertical-align: middle;\n",
       "    }\n",
       "\n",
       "    .dataframe tbody tr th {\n",
       "        vertical-align: top;\n",
       "    }\n",
       "\n",
       "    .dataframe thead th {\n",
       "        text-align: right;\n",
       "    }\n",
       "</style>\n",
       "<table border=\"1\" class=\"dataframe\">\n",
       "  <thead>\n",
       "    <tr style=\"text-align: right;\">\n",
       "      <th></th>\n",
       "      <th>age_year</th>\n",
       "      <th>gender</th>\n",
       "      <th>ap_hi</th>\n",
       "      <th>ap_lo</th>\n",
       "      <th>cardio</th>\n",
       "      <th>bmi</th>\n",
       "    </tr>\n",
       "  </thead>\n",
       "  <tbody>\n",
       "    <tr>\n",
       "      <th>age_year</th>\n",
       "      <td>1.000000</td>\n",
       "      <td>-0.022943</td>\n",
       "      <td>0.210815</td>\n",
       "      <td>0.156176</td>\n",
       "      <td>0.239813</td>\n",
       "      <td>0.105195</td>\n",
       "    </tr>\n",
       "    <tr>\n",
       "      <th>gender</th>\n",
       "      <td>-0.022943</td>\n",
       "      <td>1.000000</td>\n",
       "      <td>0.062142</td>\n",
       "      <td>0.067638</td>\n",
       "      <td>0.007453</td>\n",
       "      <td>-0.109681</td>\n",
       "    </tr>\n",
       "    <tr>\n",
       "      <th>ap_hi</th>\n",
       "      <td>0.210815</td>\n",
       "      <td>0.062142</td>\n",
       "      <td>1.000000</td>\n",
       "      <td>0.719512</td>\n",
       "      <td>0.429958</td>\n",
       "      <td>0.268531</td>\n",
       "    </tr>\n",
       "    <tr>\n",
       "      <th>ap_lo</th>\n",
       "      <td>0.156176</td>\n",
       "      <td>0.067638</td>\n",
       "      <td>0.719512</td>\n",
       "      <td>1.000000</td>\n",
       "      <td>0.340254</td>\n",
       "      <td>0.240969</td>\n",
       "    </tr>\n",
       "    <tr>\n",
       "      <th>cardio</th>\n",
       "      <td>0.239813</td>\n",
       "      <td>0.007453</td>\n",
       "      <td>0.429958</td>\n",
       "      <td>0.340254</td>\n",
       "      <td>1.000000</td>\n",
       "      <td>0.191790</td>\n",
       "    </tr>\n",
       "    <tr>\n",
       "      <th>bmi</th>\n",
       "      <td>0.105195</td>\n",
       "      <td>-0.109681</td>\n",
       "      <td>0.268531</td>\n",
       "      <td>0.240969</td>\n",
       "      <td>0.191790</td>\n",
       "      <td>1.000000</td>\n",
       "    </tr>\n",
       "  </tbody>\n",
       "</table>\n",
       "</div>"
      ],
      "text/plain": [
       "          age_year    gender     ap_hi     ap_lo    cardio       bmi\n",
       "age_year  1.000000 -0.022943  0.210815  0.156176  0.239813  0.105195\n",
       "gender   -0.022943  1.000000  0.062142  0.067638  0.007453 -0.109681\n",
       "ap_hi     0.210815  0.062142  1.000000  0.719512  0.429958  0.268531\n",
       "ap_lo     0.156176  0.067638  0.719512  1.000000  0.340254  0.240969\n",
       "cardio    0.239813  0.007453  0.429958  0.340254  1.000000  0.191790\n",
       "bmi       0.105195 -0.109681  0.268531  0.240969  0.191790  1.000000"
      ]
     },
     "execution_count": 130,
     "metadata": {},
     "output_type": "execute_result"
    }
   ],
   "source": [
    "x=df.corr()\n",
    "x"
   ]
  },
  {
   "cell_type": "code",
   "execution_count": 131,
   "id": "160ac612",
   "metadata": {},
   "outputs": [
    {
     "data": {
      "text/plain": [
       "<AxesSubplot:>"
      ]
     },
     "execution_count": 131,
     "metadata": {},
     "output_type": "execute_result"
    },
    {
     "data": {
      "image/png": "[encoded data removed]",
      "text/plain": [
       "<Figure size 1080x576 with 2 Axes>"
      ]
     },
     "metadata": {
      "needs_background": "light"
     },
     "output_type": "display_data"
    }
   ],
   "source": [
    "sns.heatmap(x,annot=True)"
   ]
  },
  {
   "cell_type": "code",
   "execution_count": 132,
   "id": "94ff0612",
   "metadata": {},
   "outputs": [
    {
     "name": "stderr",
     "output_type": "stream",
     "text": [
      "C:\\Users\\Nilesh Patil\\anaconda3\\lib\\site-packages\\seaborn\\_decorators.py:36: FutureWarning: Pass the following variable as a keyword arg: x. From version 0.12, the only valid positional argument will be `data`, and passing other arguments without an explicit keyword will result in an error or misinterpretation.\n",
      "  warnings.warn(\n"
     ]
    },
    {
     "data": {
      "text/plain": [
       "<AxesSubplot:xlabel='bmi'>"
      ]
     },
     "execution_count": 132,
     "metadata": {},
     "output_type": "execute_result"
    },
    {
     "data": {
      "image/png": "[encoded data removed]",
      "text/plain": [
       "<Figure size 1080x576 with 1 Axes>"
      ]
     },
     "metadata": {
      "needs_background": "light"
     },
     "output_type": "display_data"
    }
   ],
   "source": [
    "sns.boxplot(df.bmi)"
   ]
  },
  {
   "cell_type": "code",
   "execution_count": 133,
   "id": "795e77ec",
   "metadata": {},
   "outputs": [
    {
     "data": {
      "text/plain": [
       "array(['normal', 'high', 'borderline high'], dtype=object)"
      ]
     },
     "execution_count": 133,
     "metadata": {},
     "output_type": "execute_result"
    }
   ],
   "source": [
    "df.cholesterol.unique()"
   ]
  },
  {
   "cell_type": "markdown",
   "id": "b0bc1da2",
   "metadata": {},
   "source": [
    "#  Encoding"
   ]
  },
  {
   "cell_type": "code",
   "execution_count": 134,
   "id": "b770feda",
   "metadata": {},
   "outputs": [],
   "source": [
    "df[\"cholesterol\"]=df[\"cholesterol\"].replace(to_replace=\"high\",value=3)\n",
    "df[\"cholesterol\"]=df[\"cholesterol\"].replace(to_replace=\"borderline high\",value=2)\n",
    "df[\"cholesterol\"]=df[\"cholesterol\"].replace(to_replace=\"normal\",value=1)"
   ]
  },
  {
   "cell_type": "code",
   "execution_count": 135,
   "id": "5be4d42d",
   "metadata": {},
   "outputs": [],
   "source": [
    "df[\"gluc\"]=df[\"gluc\"].replace(to_replace=\"well above normal\",value=3)\n",
    "df[\"gluc\"]=df[\"gluc\"].replace(to_replace=\"above normal\",value=2)\n",
    "df[\"gluc\"]=df[\"gluc\"].replace(to_replace=\"normal\",value=1)"
   ]
  },
  {
   "cell_type": "code",
   "execution_count": 136,
   "id": "8ccbfcf3",
   "metadata": {},
   "outputs": [],
   "source": [
    "df[\"smoke\"]=df[\"smoke\"].replace(to_replace=\"no\",value=0)\n",
    "df[\"smoke\"]=df[\"smoke\"].replace(to_replace=\"yes\",value=1)\n"
   ]
  },
  {
   "cell_type": "code",
   "execution_count": 137,
   "id": "4a067ba4",
   "metadata": {},
   "outputs": [],
   "source": [
    "df[\"alco\"]=df[\"alco\"].replace(to_replace=\"no\",value=0)\n",
    "df[\"alco\"]=df[\"alco\"].replace(to_replace=\"yes\",value=1)"
   ]
  },
  {
   "cell_type": "code",
   "execution_count": 138,
   "id": "3f789969",
   "metadata": {},
   "outputs": [],
   "source": [
    "df[\"active\"]=df[\"active\"].replace(to_replace=\"passive\",value=0)\n",
    "df[\"active\"]=df[\"active\"].replace(to_replace=\"active\",value=1)\n"
   ]
  },
  {
   "cell_type": "code",
   "execution_count": 139,
   "id": "c026efd1",
   "metadata": {},
   "outputs": [],
   "source": [
    "df[\"gender\"]=df[\"gender\"].replace(to_replace=\"Female\",value=1)\n",
    "df[\"gender\"]=df[\"gender\"].replace(to_replace=\"male\",value=2)\n"
   ]
  },
  {
   "cell_type": "code",
   "execution_count": 98,
   "id": "0e146390",
   "metadata": {},
   "outputs": [
    {
     "name": "stderr",
     "output_type": "stream",
     "text": [
      "C:\\Users\\Nilesh Patil\\AppData\\Local\\Temp\\ipykernel_11040\\3640689065.py:5: SettingWithCopyWarning: \n",
      "A value is trying to be set on a copy of a slice from a DataFrame.\n",
      "Try using .loc[row_indexer,col_indexer] = value instead\n",
      "\n",
      "See the caveats in the documentation: https://pandas.pydata.org/pandas-docs/stable/user_guide/indexing.html#returning-a-view-versus-a-copy\n",
      "  df.loc[:,[\"age_year\",\"ap_hi\",\"ap_lo\",\"bmi\"]]=PT.fit_transform(pd.DataFrame(df.loc[:,[\"age_year\",\"ap_hi\",\"ap_lo\",\"bmi\"]]))\n"
     ]
    }
   ],
   "source": [
    "#Power transformation - DOnt runn for binning\n",
    "# df_num=df[[\"age_year\",\"ap_hi\",\"ap_lo\",\"bmi\"]]\n",
    "from sklearn.preprocessing import OrdinalEncoder,PowerTransformer\n",
    "PT=PowerTransformer()\n",
    "df.loc[:,[\"age_year\",\"ap_hi\",\"ap_lo\",\"bmi\"]]=PT.fit_transform(pd.DataFrame(df.loc[:,[\"age_year\",\"ap_hi\",\"ap_lo\",\"bmi\"]]))"
   ]
  },
  {
   "cell_type": "code",
   "execution_count": 140,
   "id": "acc3213e",
   "metadata": {},
   "outputs": [
    {
     "data": {
      "text/html": [
       "<div>\n",
       "<style scoped>\n",
       "    .dataframe tbody tr th:only-of-type {\n",
       "        vertical-align: middle;\n",
       "    }\n",
       "\n",
       "    .dataframe tbody tr th {\n",
       "        vertical-align: top;\n",
       "    }\n",
       "\n",
       "    .dataframe thead th {\n",
       "        text-align: right;\n",
       "    }\n",
       "</style>\n",
       "<table border=\"1\" class=\"dataframe\">\n",
       "  <thead>\n",
       "    <tr style=\"text-align: right;\">\n",
       "      <th></th>\n",
       "      <th>age_year</th>\n",
       "      <th>gender</th>\n",
       "      <th>ap_hi</th>\n",
       "      <th>ap_lo</th>\n",
       "      <th>cholesterol</th>\n",
       "      <th>gluc</th>\n",
       "      <th>smoke</th>\n",
       "      <th>alco</th>\n",
       "      <th>active</th>\n",
       "      <th>cardio</th>\n",
       "      <th>bmi</th>\n",
       "    </tr>\n",
       "  </thead>\n",
       "  <tbody>\n",
       "    <tr>\n",
       "      <th>0</th>\n",
       "      <td>50.391781</td>\n",
       "      <td>2</td>\n",
       "      <td>110</td>\n",
       "      <td>80</td>\n",
       "      <td>1</td>\n",
       "      <td>1</td>\n",
       "      <td>0</td>\n",
       "      <td>0</td>\n",
       "      <td>1</td>\n",
       "      <td>0</td>\n",
       "      <td>21.967120</td>\n",
       "    </tr>\n",
       "    <tr>\n",
       "      <th>1</th>\n",
       "      <td>55.419178</td>\n",
       "      <td>1</td>\n",
       "      <td>140</td>\n",
       "      <td>90</td>\n",
       "      <td>3</td>\n",
       "      <td>1</td>\n",
       "      <td>0</td>\n",
       "      <td>0</td>\n",
       "      <td>1</td>\n",
       "      <td>1</td>\n",
       "      <td>34.927679</td>\n",
       "    </tr>\n",
       "    <tr>\n",
       "      <th>2</th>\n",
       "      <td>51.663014</td>\n",
       "      <td>1</td>\n",
       "      <td>130</td>\n",
       "      <td>70</td>\n",
       "      <td>3</td>\n",
       "      <td>1</td>\n",
       "      <td>0</td>\n",
       "      <td>0</td>\n",
       "      <td>0</td>\n",
       "      <td>1</td>\n",
       "      <td>23.507805</td>\n",
       "    </tr>\n",
       "    <tr>\n",
       "      <th>3</th>\n",
       "      <td>48.282192</td>\n",
       "      <td>2</td>\n",
       "      <td>150</td>\n",
       "      <td>100</td>\n",
       "      <td>1</td>\n",
       "      <td>1</td>\n",
       "      <td>0</td>\n",
       "      <td>0</td>\n",
       "      <td>1</td>\n",
       "      <td>1</td>\n",
       "      <td>28.710479</td>\n",
       "    </tr>\n",
       "    <tr>\n",
       "      <th>4</th>\n",
       "      <td>47.873973</td>\n",
       "      <td>1</td>\n",
       "      <td>100</td>\n",
       "      <td>60</td>\n",
       "      <td>1</td>\n",
       "      <td>1</td>\n",
       "      <td>0</td>\n",
       "      <td>0</td>\n",
       "      <td>0</td>\n",
       "      <td>0</td>\n",
       "      <td>23.011177</td>\n",
       "    </tr>\n",
       "  </tbody>\n",
       "</table>\n",
       "</div>"
      ],
      "text/plain": [
       "    age_year  gender  ap_hi  ap_lo  cholesterol  gluc  smoke  alco  active  \\\n",
       "0  50.391781       2    110     80            1     1      0     0       1   \n",
       "1  55.419178       1    140     90            3     1      0     0       1   \n",
       "2  51.663014       1    130     70            3     1      0     0       0   \n",
       "3  48.282192       2    150    100            1     1      0     0       1   \n",
       "4  47.873973       1    100     60            1     1      0     0       0   \n",
       "\n",
       "   cardio        bmi  \n",
       "0       0  21.967120  \n",
       "1       1  34.927679  \n",
       "2       1  23.507805  \n",
       "3       1  28.710479  \n",
       "4       0  23.011177  "
      ]
     },
     "execution_count": 140,
     "metadata": {},
     "output_type": "execute_result"
    }
   ],
   "source": [
    "df.head()"
   ]
  },
  {
   "cell_type": "code",
   "execution_count": 22,
   "id": "17b481ee",
   "metadata": {},
   "outputs": [
    {
     "data": {
      "text/plain": [
       "(68351, 11)"
      ]
     },
     "execution_count": 22,
     "metadata": {},
     "output_type": "execute_result"
    }
   ],
   "source": [
    "df.shape"
   ]
  },
  {
   "cell_type": "code",
   "execution_count": null,
   "id": "d4fc8057",
   "metadata": {},
   "outputs": [],
   "source": []
  },
  {
   "cell_type": "markdown",
   "id": "4805e63a",
   "metadata": {},
   "source": [
    "# Splitting data "
   ]
  },
  {
   "cell_type": "code",
   "execution_count": 23,
   "id": "b07e9f68",
   "metadata": {},
   "outputs": [],
   "source": [
    "X = df.drop(\"cardio\",axis=1)\n",
    "y = df[\"cardio\"]"
   ]
  },
  {
   "cell_type": "raw",
   "id": "74dc444c",
   "metadata": {},
   "source": [
    "#df1\n",
    "X1 = df1.drop(\"cardio\",axis=1)\n",
    "y1 = df1[\"cardio\"]"
   ]
  },
  {
   "cell_type": "code",
   "execution_count": 24,
   "id": "64256930",
   "metadata": {},
   "outputs": [
    {
     "name": "stdout",
     "output_type": "stream",
     "text": [
      "Train set: (47845, 10) (47845,)\n",
      "Test set: (20506, 10) (20506,)\n"
     ]
    }
   ],
   "source": [
    "from sklearn.model_selection import train_test_split\n",
    "X_train, X_test, y_train, y_test = train_test_split(X, y, test_size=0.3, random_state=4)\n",
    "print ('Train set:', X_train.shape,  y_train.shape)\n",
    "print ('Test set:', X_test.shape,  y_test.shape)"
   ]
  },
  {
   "cell_type": "raw",
   "id": "c05c10c1",
   "metadata": {},
   "source": [
    "#df1\n",
    "from sklearn.model_selection import train_test_split\n",
    "X_train, X_test, y_train, y_test = train_test_split(X1, y1, test_size=0.3, random_state=4)\n",
    "print ('Train set:', X_train.shape,  y_train.shape)\n",
    "print ('Test set:', X_test.shape,  y_test.shape)"
   ]
  },
  {
   "cell_type": "code",
   "execution_count": 45,
   "id": "b6eaca2d",
   "metadata": {},
   "outputs": [],
   "source": [
    "#scaling\n"
   ]
  },
  {
   "cell_type": "markdown",
   "id": "43a48851",
   "metadata": {},
   "source": [
    "# KNeighborsClassifier"
   ]
  },
  {
   "cell_type": "code",
   "execution_count": 46,
   "id": "58d93476",
   "metadata": {},
   "outputs": [
    {
     "data": {
      "text/plain": [
       "array([0, 0, 0, ..., 0, 0, 0], dtype=int64)"
      ]
     },
     "execution_count": 46,
     "metadata": {},
     "output_type": "execute_result"
    }
   ],
   "source": [
    "from sklearn.neighbors import KNeighborsClassifier\n",
    "# K = 2 because of cardio (target value 0/1)\n",
    "model = KNeighborsClassifier(n_neighbors=2).fit(X_train,y_train)\n",
    "y_pred = model.predict(X_test)\n",
    "y_pred"
   ]
  },
  {
   "cell_type": "raw",
   "id": "173ff33f",
   "metadata": {},
   "source": [
    "#df1\n",
    "from sklearn.neighbors import KNeighborsClassifier\n",
    "# K = 2 because of cardio (target value 0/1)\n",
    "model = KNeighborsClassifier(n_neighbors=2).fit(X_train,y_train)\n",
    "y_pred = model.predict(X_test)\n",
    "y_pred"
   ]
  },
  {
   "cell_type": "code",
   "execution_count": 47,
   "id": "26aeee1e",
   "metadata": {},
   "outputs": [
    {
     "name": "stdout",
     "output_type": "stream",
     "text": [
      "KNeighborsClassifier\n",
      "[[8708 1705]\n",
      " [5636 4464]]\n",
      "Accurancy: 64%\n"
     ]
    }
   ],
   "source": [
    "### Making the Confusion Matrix\n",
    "from sklearn.metrics import confusion_matrix\n",
    "cm = confusion_matrix(y_test, y_pred)\n",
    "print(\"KNeighborsClassifier\")\n",
    "print(cm)\n",
    "print('Accurancy: {:.0f}%'.format(model.score(X_test, y_test)*100))"
   ]
  },
  {
   "cell_type": "markdown",
   "id": "4714c965",
   "metadata": {},
   "source": [
    "## knn+minmax"
   ]
  },
  {
   "cell_type": "code",
   "execution_count": 37,
   "id": "47c20b11",
   "metadata": {},
   "outputs": [],
   "source": [
    "from sklearn.preprocessing import MinMaxScaler\n",
    "min_max=MinMaxScaler()\n",
    "X_train_scaled=pd.DataFrame(min_max.fit_transform(X_train),columns=X_train.columns)\n",
    "X_test_scaled=pd.DataFrame(min_max.transform(X_test),columns=X_test.columns)"
   ]
  },
  {
   "cell_type": "code",
   "execution_count": 38,
   "id": "a8e0e83e",
   "metadata": {},
   "outputs": [],
   "source": [
    "knn_classification = KNeighborsClassifier(n_neighbors = 3)\n",
    "\n",
    "# fit the model using fit() on train data\n",
    "knn_model_1 = knn_classification.fit(X_train_scaled, y_train)"
   ]
  },
  {
   "cell_type": "code",
   "execution_count": 39,
   "id": "cd2f5052",
   "metadata": {},
   "outputs": [],
   "source": [
    "def get_test_report(model, test_data):\n",
    "      test_pred = model.predict(test_data)\n",
    "     \n",
    "      return(classification_report(y_test, test_pred))"
   ]
  },
  {
   "cell_type": "code",
   "execution_count": 40,
   "id": "8135e02a",
   "metadata": {},
   "outputs": [
    {
     "name": "stdout",
     "output_type": "stream",
     "text": [
      "              precision    recall  f1-score   support\n",
      "\n",
      "           0       0.68      0.69      0.68     10372\n",
      "           1       0.68      0.66      0.67     10134\n",
      "\n",
      "    accuracy                           0.68     20506\n",
      "   macro avg       0.68      0.68      0.68     20506\n",
      "weighted avg       0.68      0.68      0.68     20506\n",
      "\n"
     ]
    }
   ],
   "source": [
    "test_report=get_test_report(knn_model_1,X_test_scaled)\n",
    "print(test_report)"
   ]
  },
  {
   "cell_type": "markdown",
   "id": "ebfdd15d",
   "metadata": {},
   "source": [
    "## Tuning the knn model in the Data set where minmax scaling used"
   ]
  },
  {
   "cell_type": "raw",
   "id": "6d92b2fe",
   "metadata": {},
   "source": [
    "tuned_paramaters = {'n_neighbors': np.arange(1,25,2),\n",
    "                   'metric': ['hamming','euclidean','manhattan','Chebyshev']}\n",
    "knn_classification = KNeighborsClassifier()\n",
    "knn_grid = GridSearchCV(estimator = knn_classification, \n",
    "                        param_grid = tuned_paramaters, \n",
    "                        cv = 5, \n",
    "                        scoring = 'recall')\n",
    "knn_grid.fit(X_train_scaled,y_train)"
   ]
  },
  {
   "cell_type": "markdown",
   "id": "810dc414",
   "metadata": {},
   "source": [
    "print('Best parameters for KNN Classifier: ', knn_grid.best_params_, '\\n')"
   ]
  },
  {
   "cell_type": "code",
   "execution_count": 41,
   "id": "9b0b3740",
   "metadata": {},
   "outputs": [],
   "source": [
    "knn_classification=KNeighborsClassifier(n_neighbors = 11,metric='euclidean')\n",
    "knn_model_2 = knn_classification.fit(X_train_scaled, y_train)"
   ]
  },
  {
   "cell_type": "code",
   "execution_count": 42,
   "id": "022b1f05",
   "metadata": {},
   "outputs": [
    {
     "name": "stdout",
     "output_type": "stream",
     "text": [
      "              precision    recall  f1-score   support\n",
      "\n",
      "           0       0.71      0.75      0.73     10372\n",
      "           1       0.73      0.69      0.71     10134\n",
      "\n",
      "    accuracy                           0.72     20506\n",
      "   macro avg       0.72      0.72      0.72     20506\n",
      "weighted avg       0.72      0.72      0.72     20506\n",
      "\n"
     ]
    }
   ],
   "source": [
    "test_report=get_test_report(knn_model_2,X_test_scaled)\n",
    "print(test_report)"
   ]
  },
  {
   "cell_type": "markdown",
   "id": "82836453",
   "metadata": {},
   "source": [
    "## Building Knn model on standard scaler applied Dataset"
   ]
  },
  {
   "cell_type": "code",
   "execution_count": 43,
   "id": "1684af30",
   "metadata": {},
   "outputs": [],
   "source": [
    "from sklearn.preprocessing import StandardScaler\n",
    "std=StandardScaler()\n",
    "X_train_std=pd.DataFrame(std.fit_transform(X_train),columns=X_train.columns)\n",
    "X_test_std=pd.DataFrame(std.transform(X_test),columns=X_test.columns)"
   ]
  },
  {
   "cell_type": "code",
   "execution_count": 44,
   "id": "b0f0c346",
   "metadata": {},
   "outputs": [
    {
     "name": "stdout",
     "output_type": "stream",
     "text": [
      "              precision    recall  f1-score   support\n",
      "\n",
      "           0       0.68      0.69      0.68     10372\n",
      "           1       0.68      0.67      0.67     10134\n",
      "\n",
      "    accuracy                           0.68     20506\n",
      "   macro avg       0.68      0.68      0.68     20506\n",
      "weighted avg       0.68      0.68      0.68     20506\n",
      "\n"
     ]
    }
   ],
   "source": [
    "knn_classification = KNeighborsClassifier(n_neighbors = 3)\n",
    "\n",
    "# fit the model using fit() on train data\n",
    "knn_model_3 = knn_classification.fit(X_train_std, y_train)\n",
    "test_report=get_test_report(knn_model_3,X_test_std)\n",
    "print(test_report)"
   ]
  },
  {
   "cell_type": "markdown",
   "id": "db6a3143",
   "metadata": {},
   "source": [
    "## Tuning the Knn model in the Data set where Standard scaling used"
   ]
  },
  {
   "cell_type": "raw",
   "id": "e8dd9095",
   "metadata": {},
   "source": [
    "tuned_paramaters = {'n_neighbors': np.arange(1,25,2),\n",
    "                   'metric': ['hamming','euclidean','manhattan','Chebyshev']}\n",
    "knn_classification = KNeighborsClassifier()\n",
    "knn_grid = GridSearchCV(estimator = knn_classification, \n",
    "                        param_grid = tuned_paramaters, \n",
    "                        cv = 5, \n",
    "                        scoring = 'recall')\n",
    "knn_grid.fit(X_train_std,y_train)"
   ]
  },
  {
   "cell_type": "raw",
   "id": "27c91f8a",
   "metadata": {},
   "source": [
    "print('Best parameters for KNN Classifier: ', knn_grid.best_params_, '\\n')"
   ]
  },
  {
   "cell_type": "code",
   "execution_count": 45,
   "id": "ea0234c8",
   "metadata": {},
   "outputs": [],
   "source": [
    "knn_classification=KNeighborsClassifier(n_neighbors = 15,metric='manhattan')\n",
    "knn_model_4 = knn_classification.fit(X_train_std, y_train)\n"
   ]
  },
  {
   "cell_type": "code",
   "execution_count": 46,
   "id": "e825e1ce",
   "metadata": {},
   "outputs": [
    {
     "name": "stdout",
     "output_type": "stream",
     "text": [
      "              precision    recall  f1-score   support\n",
      "\n",
      "           0       0.71      0.76      0.74     10372\n",
      "           1       0.74      0.69      0.71     10134\n",
      "\n",
      "    accuracy                           0.72     20506\n",
      "   macro avg       0.73      0.72      0.72     20506\n",
      "weighted avg       0.73      0.72      0.72     20506\n",
      "\n"
     ]
    }
   ],
   "source": [
    "def get_test_report(model, test_data):\n",
    "      test_pred = model.predict(test_data)\n",
    "     \n",
    "      return(classification_report(y_test, test_pred))\n",
    "test_report=get_test_report(knn_model_4,X_test_std)\n",
    "print(test_report)"
   ]
  },
  {
   "cell_type": "raw",
   "id": "c75c3ef9",
   "metadata": {},
   "source": [
    "#df1\n",
    "from sklearn.metrics import confusion_matrix\n",
    "cm = confusion_matrix(y_test, y_pred)\n",
    "print(\"KNeighborsClassifier\")\n",
    "print(cm)\n",
    "print('Accurancy: {:.0f}%'.format(model.score(X_test, y_test)*100))"
   ]
  },
  {
   "cell_type": "markdown",
   "id": "66fb5b5e",
   "metadata": {},
   "source": [
    "# Naive Bayes"
   ]
  },
  {
   "cell_type": "code",
   "execution_count": 47,
   "id": "b5f84ffd",
   "metadata": {},
   "outputs": [],
   "source": [
    "from sklearn.naive_bayes import GaussianNB\n",
    "classifier = GaussianNB()\n",
    "classifier.fit(X_train, y_train)\n",
    "y_pred = classifier.predict(X_test)"
   ]
  },
  {
   "cell_type": "raw",
   "id": "c5a8f5c7",
   "metadata": {},
   "source": [
    "#df1\n",
    "from sklearn.naive_bayes import GaussianNB\n",
    "classifier = GaussianNB()\n",
    "classifier.fit(X_train, y_train)\n",
    "y_pred = classifier.predict(X_test)"
   ]
  },
  {
   "cell_type": "code",
   "execution_count": 48,
   "id": "50cda4df",
   "metadata": {},
   "outputs": [
    {
     "name": "stdout",
     "output_type": "stream",
     "text": [
      "NAive\n",
      "[[8412 1960]\n",
      " [3808 6326]]\n",
      "Accurancy: 72%\n"
     ]
    }
   ],
   "source": [
    "### Making the Confusion Matrix\n",
    "cm = confusion_matrix(y_test, y_pred)\n",
    "print(\"NAive\")\n",
    "print(cm)\n",
    "print('Accurancy: {:.0f}%'.format(classifier.score(X_test, y_test)*100))"
   ]
  },
  {
   "cell_type": "markdown",
   "id": "0854c75a",
   "metadata": {},
   "source": [
    "## Binning the data and trying Knn and Naive Bayes"
   ]
  },
  {
   "cell_type": "code",
   "execution_count": 141,
   "id": "aa4cf582",
   "metadata": {},
   "outputs": [],
   "source": [
    "df2=df.copy()"
   ]
  },
  {
   "cell_type": "code",
   "execution_count": 142,
   "id": "696e41a8",
   "metadata": {},
   "outputs": [
    {
     "data": {
      "text/html": [
       "<div>\n",
       "<style scoped>\n",
       "    .dataframe tbody tr th:only-of-type {\n",
       "        vertical-align: middle;\n",
       "    }\n",
       "\n",
       "    .dataframe tbody tr th {\n",
       "        vertical-align: top;\n",
       "    }\n",
       "\n",
       "    .dataframe thead th {\n",
       "        text-align: right;\n",
       "    }\n",
       "</style>\n",
       "<table border=\"1\" class=\"dataframe\">\n",
       "  <thead>\n",
       "    <tr style=\"text-align: right;\">\n",
       "      <th></th>\n",
       "      <th>age_year</th>\n",
       "      <th>gender</th>\n",
       "      <th>ap_hi</th>\n",
       "      <th>ap_lo</th>\n",
       "      <th>cholesterol</th>\n",
       "      <th>gluc</th>\n",
       "      <th>smoke</th>\n",
       "      <th>alco</th>\n",
       "      <th>active</th>\n",
       "      <th>cardio</th>\n",
       "      <th>bmi</th>\n",
       "    </tr>\n",
       "  </thead>\n",
       "  <tbody>\n",
       "    <tr>\n",
       "      <th>0</th>\n",
       "      <td>50.391781</td>\n",
       "      <td>2</td>\n",
       "      <td>110</td>\n",
       "      <td>80</td>\n",
       "      <td>1</td>\n",
       "      <td>1</td>\n",
       "      <td>0</td>\n",
       "      <td>0</td>\n",
       "      <td>1</td>\n",
       "      <td>0</td>\n",
       "      <td>21.967120</td>\n",
       "    </tr>\n",
       "    <tr>\n",
       "      <th>1</th>\n",
       "      <td>55.419178</td>\n",
       "      <td>1</td>\n",
       "      <td>140</td>\n",
       "      <td>90</td>\n",
       "      <td>3</td>\n",
       "      <td>1</td>\n",
       "      <td>0</td>\n",
       "      <td>0</td>\n",
       "      <td>1</td>\n",
       "      <td>1</td>\n",
       "      <td>34.927679</td>\n",
       "    </tr>\n",
       "    <tr>\n",
       "      <th>2</th>\n",
       "      <td>51.663014</td>\n",
       "      <td>1</td>\n",
       "      <td>130</td>\n",
       "      <td>70</td>\n",
       "      <td>3</td>\n",
       "      <td>1</td>\n",
       "      <td>0</td>\n",
       "      <td>0</td>\n",
       "      <td>0</td>\n",
       "      <td>1</td>\n",
       "      <td>23.507805</td>\n",
       "    </tr>\n",
       "    <tr>\n",
       "      <th>3</th>\n",
       "      <td>48.282192</td>\n",
       "      <td>2</td>\n",
       "      <td>150</td>\n",
       "      <td>100</td>\n",
       "      <td>1</td>\n",
       "      <td>1</td>\n",
       "      <td>0</td>\n",
       "      <td>0</td>\n",
       "      <td>1</td>\n",
       "      <td>1</td>\n",
       "      <td>28.710479</td>\n",
       "    </tr>\n",
       "    <tr>\n",
       "      <th>4</th>\n",
       "      <td>47.873973</td>\n",
       "      <td>1</td>\n",
       "      <td>100</td>\n",
       "      <td>60</td>\n",
       "      <td>1</td>\n",
       "      <td>1</td>\n",
       "      <td>0</td>\n",
       "      <td>0</td>\n",
       "      <td>0</td>\n",
       "      <td>0</td>\n",
       "      <td>23.011177</td>\n",
       "    </tr>\n",
       "  </tbody>\n",
       "</table>\n",
       "</div>"
      ],
      "text/plain": [
       "    age_year  gender  ap_hi  ap_lo  cholesterol  gluc  smoke  alco  active  \\\n",
       "0  50.391781       2    110     80            1     1      0     0       1   \n",
       "1  55.419178       1    140     90            3     1      0     0       1   \n",
       "2  51.663014       1    130     70            3     1      0     0       0   \n",
       "3  48.282192       2    150    100            1     1      0     0       1   \n",
       "4  47.873973       1    100     60            1     1      0     0       0   \n",
       "\n",
       "   cardio        bmi  \n",
       "0       0  21.967120  \n",
       "1       1  34.927679  \n",
       "2       1  23.507805  \n",
       "3       1  28.710479  \n",
       "4       0  23.011177  "
      ]
     },
     "execution_count": 142,
     "metadata": {},
     "output_type": "execute_result"
    }
   ],
   "source": [
    "df2.head()"
   ]
  },
  {
   "cell_type": "code",
   "execution_count": 143,
   "id": "1a59adb0",
   "metadata": {},
   "outputs": [],
   "source": [
    "# api_hi # systolic\n",
    "\n",
    "# normal-0\n",
    "# Prehypertension-1\n",
    "# Hypertension-2\n",
    "\n",
    "df2.loc[df2['ap_hi']<120,'ap_hi']=0\n",
    "df2.loc[(df2['ap_hi']>=120)&(df2['ap_hi']<=139),'ap_hi']=1\n",
    "df2.loc[df2['ap_hi']>=140,'ap_hi']=2\n",
    "\n",
    "\n",
    "# ap_lo ## diastolic\n",
    "\n",
    "# normal-0\n",
    "# Prehypertension-1\n",
    "# Hypertension-2\n",
    "\n",
    "df2.loc[df2['ap_lo']<80,'ap_lo']=0\n",
    "df2.loc[(df2['ap_lo']>=80)&(df2['ap_lo']<=89),'ap_lo']=1\n",
    "df2.loc[df2['ap_lo']>=90,'ap_lo']=2\n",
    "\n",
    "\n",
    "df2['bmi']=round(df2['bmi'],1)\n",
    "## we round the values to 1 point after the decimal\n",
    "# Bmi\n",
    "# Underweight-0\n",
    "# healthy-1\n",
    "# overweight-2\n",
    "# Obese-3\n",
    "df2.loc[df2['bmi']<18.5,'bmi']=0\n",
    "df2.loc[(df2['bmi']>=18.5)&(df2['bmi']<=24.9),'bmi']=1\n",
    "df2.loc[(df2['bmi']>=25)&(df2['bmi']<=29.9),'bmi']=2\n",
    "df2.loc[df2['bmi']>=30,'bmi']=3\n",
    "\n",
    "\n",
    "##age year\n",
    "# 15–47 years old (youth group)-0\n",
    "# 48–63 years old (middle-aged group)-1\n",
    "# ≥ 64 years old (elderly group)\n",
    "df2.loc[(df2['age_year']>=15)&(df2['age_year']<47),'age_year']=0\n",
    "df2.loc[(df2['age_year']>=47)&(df2['age_year']<64),'age_year']=1\n",
    "df2.loc[df2['age_year']>=64,'age_year']=2\n"
   ]
  },
  {
   "cell_type": "code",
   "execution_count": 144,
   "id": "f5fb409d",
   "metadata": {},
   "outputs": [
    {
     "data": {
      "text/html": [
       "<div>\n",
       "<style scoped>\n",
       "    .dataframe tbody tr th:only-of-type {\n",
       "        vertical-align: middle;\n",
       "    }\n",
       "\n",
       "    .dataframe tbody tr th {\n",
       "        vertical-align: top;\n",
       "    }\n",
       "\n",
       "    .dataframe thead th {\n",
       "        text-align: right;\n",
       "    }\n",
       "</style>\n",
       "<table border=\"1\" class=\"dataframe\">\n",
       "  <thead>\n",
       "    <tr style=\"text-align: right;\">\n",
       "      <th></th>\n",
       "      <th>age_year</th>\n",
       "      <th>gender</th>\n",
       "      <th>ap_hi</th>\n",
       "      <th>ap_lo</th>\n",
       "      <th>cholesterol</th>\n",
       "      <th>gluc</th>\n",
       "      <th>smoke</th>\n",
       "      <th>alco</th>\n",
       "      <th>active</th>\n",
       "      <th>cardio</th>\n",
       "      <th>bmi</th>\n",
       "    </tr>\n",
       "  </thead>\n",
       "  <tbody>\n",
       "    <tr>\n",
       "      <th>0</th>\n",
       "      <td>1.0</td>\n",
       "      <td>2</td>\n",
       "      <td>0</td>\n",
       "      <td>1</td>\n",
       "      <td>1</td>\n",
       "      <td>1</td>\n",
       "      <td>0</td>\n",
       "      <td>0</td>\n",
       "      <td>1</td>\n",
       "      <td>0</td>\n",
       "      <td>1.0</td>\n",
       "    </tr>\n",
       "    <tr>\n",
       "      <th>1</th>\n",
       "      <td>1.0</td>\n",
       "      <td>1</td>\n",
       "      <td>2</td>\n",
       "      <td>2</td>\n",
       "      <td>3</td>\n",
       "      <td>1</td>\n",
       "      <td>0</td>\n",
       "      <td>0</td>\n",
       "      <td>1</td>\n",
       "      <td>1</td>\n",
       "      <td>3.0</td>\n",
       "    </tr>\n",
       "    <tr>\n",
       "      <th>2</th>\n",
       "      <td>1.0</td>\n",
       "      <td>1</td>\n",
       "      <td>1</td>\n",
       "      <td>0</td>\n",
       "      <td>3</td>\n",
       "      <td>1</td>\n",
       "      <td>0</td>\n",
       "      <td>0</td>\n",
       "      <td>0</td>\n",
       "      <td>1</td>\n",
       "      <td>1.0</td>\n",
       "    </tr>\n",
       "    <tr>\n",
       "      <th>3</th>\n",
       "      <td>1.0</td>\n",
       "      <td>2</td>\n",
       "      <td>2</td>\n",
       "      <td>2</td>\n",
       "      <td>1</td>\n",
       "      <td>1</td>\n",
       "      <td>0</td>\n",
       "      <td>0</td>\n",
       "      <td>1</td>\n",
       "      <td>1</td>\n",
       "      <td>2.0</td>\n",
       "    </tr>\n",
       "    <tr>\n",
       "      <th>4</th>\n",
       "      <td>1.0</td>\n",
       "      <td>1</td>\n",
       "      <td>0</td>\n",
       "      <td>0</td>\n",
       "      <td>1</td>\n",
       "      <td>1</td>\n",
       "      <td>0</td>\n",
       "      <td>0</td>\n",
       "      <td>0</td>\n",
       "      <td>0</td>\n",
       "      <td>1.0</td>\n",
       "    </tr>\n",
       "  </tbody>\n",
       "</table>\n",
       "</div>"
      ],
      "text/plain": [
       "   age_year  gender  ap_hi  ap_lo  cholesterol  gluc  smoke  alco  active  \\\n",
       "0       1.0       2      0      1            1     1      0     0       1   \n",
       "1       1.0       1      2      2            3     1      0     0       1   \n",
       "2       1.0       1      1      0            3     1      0     0       0   \n",
       "3       1.0       2      2      2            1     1      0     0       1   \n",
       "4       1.0       1      0      0            1     1      0     0       0   \n",
       "\n",
       "   cardio  bmi  \n",
       "0       0  1.0  \n",
       "1       1  3.0  \n",
       "2       1  1.0  \n",
       "3       1  2.0  \n",
       "4       0  1.0  "
      ]
     },
     "execution_count": 144,
     "metadata": {},
     "output_type": "execute_result"
    }
   ],
   "source": [
    "df2.head()"
   ]
  },
  {
   "cell_type": "code",
   "execution_count": 145,
   "id": "e17033d5",
   "metadata": {},
   "outputs": [],
   "source": [
    "X = df2.drop(\"cardio\",axis=1)\n",
    "y = df2[\"cardio\"]"
   ]
  },
  {
   "cell_type": "code",
   "execution_count": 146,
   "id": "d36fc0c3",
   "metadata": {},
   "outputs": [
    {
     "name": "stdout",
     "output_type": "stream",
     "text": [
      "Train set: (47845, 10) (47845,)\n",
      "Test set: (20506, 10) (20506,)\n"
     ]
    }
   ],
   "source": [
    "from sklearn.model_selection import train_test_split\n",
    "X_train, X_test, y_train, y_test = train_test_split(X, y, test_size=0.3, random_state=4)\n",
    "print ('Train set:', X_train.shape,  y_train.shape)\n",
    "print ('Test set:', X_test.shape,  y_test.shape)"
   ]
  },
  {
   "cell_type": "markdown",
   "id": "175fe217",
   "metadata": {},
   "source": [
    "## Naive Bayes after binning"
   ]
  },
  {
   "cell_type": "code",
   "execution_count": 147,
   "id": "9a3a6e55",
   "metadata": {},
   "outputs": [
    {
     "name": "stdout",
     "output_type": "stream",
     "text": [
      "              precision    recall  f1-score   support\n",
      "\n",
      "           0       0.69      0.80      0.74     10372\n",
      "           1       0.76      0.63      0.69     10134\n",
      "\n",
      "    accuracy                           0.72     20506\n",
      "   macro avg       0.72      0.72      0.72     20506\n",
      "weighted avg       0.72      0.72      0.72     20506\n",
      "\n"
     ]
    }
   ],
   "source": [
    "gnb = GaussianNB()\n",
    "gnb_model = gnb.fit(X_train, y_train)\n",
    "test_report = get_test_report(gnb_model, test_data=X_test)\n",
    "print(test_report)\n",
    "## After binning we can see that naive bias has improved some"
   ]
  },
  {
   "cell_type": "raw",
   "id": "91c57590",
   "metadata": {},
   "source": [
    "#df1\n",
    "cm = confusion_matrix(y_test, y_pred)\n",
    "print(\"DecisionTree\")\n",
    "print(cm)\n",
    "print('Accurancy: {:.0f}%'.format(classifier.score(X_test, y_test)*100))"
   ]
  },
  {
   "cell_type": "markdown",
   "id": "b5dfd592",
   "metadata": {},
   "source": [
    "# Knn after binning(using min max scaler)"
   ]
  },
  {
   "cell_type": "code",
   "execution_count": 148,
   "id": "1b20b09b",
   "metadata": {},
   "outputs": [],
   "source": [
    "from sklearn.preprocessing import MinMaxScaler\n",
    "min_max=MinMaxScaler()\n",
    "X_train_scaled=pd.DataFrame(min_max.fit_transform(X_train),columns=X_train.columns)\n",
    "X_test_scaled=pd.DataFrame(min_max.transform(X_test),columns=X_test.columns)"
   ]
  },
  {
   "cell_type": "code",
   "execution_count": 149,
   "id": "0bce72bf",
   "metadata": {},
   "outputs": [
    {
     "name": "stdout",
     "output_type": "stream",
     "text": [
      "              precision    recall  f1-score   support\n",
      "\n",
      "           0       0.65      0.75      0.70     10372\n",
      "           1       0.70      0.59      0.64     10134\n",
      "\n",
      "    accuracy                           0.67     20506\n",
      "   macro avg       0.67      0.67      0.67     20506\n",
      "weighted avg       0.67      0.67      0.67     20506\n",
      "\n"
     ]
    }
   ],
   "source": [
    "knn_classification = KNeighborsClassifier(n_neighbors = 3)\n",
    "\n",
    "# fit the model using fit() on train data\n",
    "knn_model_3 = knn_classification.fit(X_train_scaled, y_train)\n",
    "test_report=get_test_report(knn_model_3,X_test_scaled)\n",
    "print(test_report)"
   ]
  },
  {
   "cell_type": "markdown",
   "id": "33e54fc4",
   "metadata": {},
   "source": [
    "## knn after binning(using std scaler)"
   ]
  },
  {
   "cell_type": "code",
   "execution_count": 150,
   "id": "ec7d492a",
   "metadata": {},
   "outputs": [
    {
     "data": {
      "text/html": [
       "<div>\n",
       "<style scoped>\n",
       "    .dataframe tbody tr th:only-of-type {\n",
       "        vertical-align: middle;\n",
       "    }\n",
       "\n",
       "    .dataframe tbody tr th {\n",
       "        vertical-align: top;\n",
       "    }\n",
       "\n",
       "    .dataframe thead th {\n",
       "        text-align: right;\n",
       "    }\n",
       "</style>\n",
       "<table border=\"1\" class=\"dataframe\">\n",
       "  <thead>\n",
       "    <tr style=\"text-align: right;\">\n",
       "      <th></th>\n",
       "      <th>age_year</th>\n",
       "      <th>gender</th>\n",
       "      <th>ap_hi</th>\n",
       "      <th>ap_lo</th>\n",
       "      <th>cholesterol</th>\n",
       "      <th>gluc</th>\n",
       "      <th>smoke</th>\n",
       "      <th>alco</th>\n",
       "      <th>active</th>\n",
       "      <th>bmi</th>\n",
       "    </tr>\n",
       "  </thead>\n",
       "  <tbody>\n",
       "    <tr>\n",
       "      <th>0</th>\n",
       "      <td>0.375815</td>\n",
       "      <td>1.364697</td>\n",
       "      <td>-0.123174</td>\n",
       "      <td>-0.112606</td>\n",
       "      <td>0.938073</td>\n",
       "      <td>-0.393481</td>\n",
       "      <td>-0.310737</td>\n",
       "      <td>-0.239913</td>\n",
       "      <td>0.496438</td>\n",
       "      <td>0.149808</td>\n",
       "    </tr>\n",
       "    <tr>\n",
       "      <th>1</th>\n",
       "      <td>0.375815</td>\n",
       "      <td>-0.732763</td>\n",
       "      <td>-0.123174</td>\n",
       "      <td>-0.112606</td>\n",
       "      <td>-0.535936</td>\n",
       "      <td>-0.393481</td>\n",
       "      <td>-0.310737</td>\n",
       "      <td>-0.239913</td>\n",
       "      <td>0.496438</td>\n",
       "      <td>1.393527</td>\n",
       "    </tr>\n",
       "    <tr>\n",
       "      <th>2</th>\n",
       "      <td>0.375815</td>\n",
       "      <td>-0.732763</td>\n",
       "      <td>1.370682</td>\n",
       "      <td>1.332193</td>\n",
       "      <td>-0.535936</td>\n",
       "      <td>-0.393481</td>\n",
       "      <td>-0.310737</td>\n",
       "      <td>-0.239913</td>\n",
       "      <td>0.496438</td>\n",
       "      <td>0.149808</td>\n",
       "    </tr>\n",
       "  </tbody>\n",
       "</table>\n",
       "</div>"
      ],
      "text/plain": [
       "   age_year    gender     ap_hi     ap_lo  cholesterol      gluc     smoke  \\\n",
       "0  0.375815  1.364697 -0.123174 -0.112606     0.938073 -0.393481 -0.310737   \n",
       "1  0.375815 -0.732763 -0.123174 -0.112606    -0.535936 -0.393481 -0.310737   \n",
       "2  0.375815 -0.732763  1.370682  1.332193    -0.535936 -0.393481 -0.310737   \n",
       "\n",
       "       alco    active       bmi  \n",
       "0 -0.239913  0.496438  0.149808  \n",
       "1 -0.239913  0.496438  1.393527  \n",
       "2 -0.239913  0.496438  0.149808  "
      ]
     },
     "execution_count": 150,
     "metadata": {},
     "output_type": "execute_result"
    }
   ],
   "source": [
    "from sklearn.preprocessing import StandardScaler\n",
    "std=StandardScaler()\n",
    "X_train_std=pd.DataFrame(std.fit_transform(X_train),columns=X_train.columns)\n",
    "X_test_std=pd.DataFrame(std.transform(X_test),columns=X_test.columns)\n",
    "X_train_std.head(3)"
   ]
  },
  {
   "cell_type": "code",
   "execution_count": 151,
   "id": "afb01338",
   "metadata": {},
   "outputs": [
    {
     "name": "stdout",
     "output_type": "stream",
     "text": [
      "              precision    recall  f1-score   support\n",
      "\n",
      "           0       0.65      0.74      0.69     10372\n",
      "           1       0.69      0.59      0.64     10134\n",
      "\n",
      "    accuracy                           0.67     20506\n",
      "   macro avg       0.67      0.66      0.66     20506\n",
      "weighted avg       0.67      0.67      0.66     20506\n",
      "\n"
     ]
    }
   ],
   "source": [
    "knn_classification = KNeighborsClassifier(n_neighbors = 3)\n",
    "\n",
    "# fit the model using fit() on train data\n",
    "knn_model_3 = knn_classification.fit(X_train_std, y_train)\n",
    "test_report=get_test_report(knn_model_3,X_test_std)\n",
    "print(test_report)\n",
    "## here we can see that metrix values improved and hence we can tune it "
   ]
  },
  {
   "cell_type": "raw",
   "id": "b8fa7179",
   "metadata": {},
   "source": [
    "tuned_paramaters = {'n_neighbors': np.arange(1,25,2),\n",
    "                   'metric': ['hamming','euclidean','manhattan','Chebyshev']}\n",
    "knn_classification = KNeighborsClassifier()\n",
    "knn_grid = GridSearchCV(estimator = knn_classification, \n",
    "                        param_grid = tuned_paramaters, \n",
    "                        cv = 5, \n",
    "                        scoring = 'recall')\n",
    "knn_grid.fit(X_train_std,y_train)"
   ]
  },
  {
   "cell_type": "raw",
   "id": "8997757f",
   "metadata": {},
   "source": [
    "print('Best parameters for KNN Classifier: ', knn_grid.best_params_, '\\n')"
   ]
  },
  {
   "cell_type": "code",
   "execution_count": 153,
   "id": "b3886b7c",
   "metadata": {},
   "outputs": [],
   "source": [
    "knn_classification=KNeighborsClassifier(n_neighbors = 9,metric='manhattan')\n",
    "knn_model_4 = knn_classification.fit(X_train_std, y_train)"
   ]
  },
  {
   "cell_type": "code",
   "execution_count": 154,
   "id": "4813bb63",
   "metadata": {},
   "outputs": [
    {
     "name": "stdout",
     "output_type": "stream",
     "text": [
      "              precision    recall  f1-score   support\n",
      "\n",
      "           0       0.69      0.72      0.70     10372\n",
      "           1       0.70      0.66      0.68     10134\n",
      "\n",
      "    accuracy                           0.69     20506\n",
      "   macro avg       0.69      0.69      0.69     20506\n",
      "weighted avg       0.69      0.69      0.69     20506\n",
      "\n"
     ]
    }
   ],
   "source": [
    "def get_test_report(model, test_data):\n",
    "      test_pred = model.predict(test_data)\n",
    "     \n",
    "      return(classification_report(y_test, test_pred))\n",
    "test_report=get_test_report(knn_model_4,X_test_std)\n",
    "print(test_report)"
   ]
  },
  {
   "cell_type": "markdown",
   "id": "ae29bed3",
   "metadata": {},
   "source": [
    "# DecisionTree"
   ]
  },
  {
   "cell_type": "code",
   "execution_count": 107,
   "id": "2c17e736",
   "metadata": {},
   "outputs": [
    {
     "name": "stdout",
     "output_type": "stream",
     "text": [
      "Train set: (47863, 12) (47863,)\n",
      "Test set: (20513, 12) (20513,)\n"
     ]
    }
   ],
   "source": [
    "X = df.drop(\"cardio\",axis=1)\n",
    "y = df[\"cardio\"]\n",
    "from sklearn.model_selection import train_test_split\n",
    "X_train, X_test, y_train, y_test = train_test_split(X, y, test_size=0.3, random_state=4)\n",
    "print ('Train set:', X_train.shape,  y_train.shape)\n",
    "print ('Test set:', X_test.shape,  y_test.shape)"
   ]
  },
  {
   "cell_type": "code",
   "execution_count": 108,
   "id": "c4617e9a",
   "metadata": {},
   "outputs": [],
   "source": [
    "from sklearn.tree import DecisionTreeClassifier\n",
    "model_tree = DecisionTreeClassifier(criterion=\"entropy\", max_depth = 10)\n",
    "model_tree.fit(X_train, y_train)\n",
    "y_pred = model_tree.predict(X_test)"
   ]
  },
  {
   "cell_type": "raw",
   "id": "d61437a5",
   "metadata": {},
   "source": [
    "#df1\n",
    "from sklearn.tree import DecisionTreeClassifier\n",
    "model_tree = DecisionTreeClassifier(criterion=\"entropy\", max_depth = 10)\n",
    "model_tree.fit(X_train, y_train)\n",
    "y_pred = model_tree.predict(X_test)"
   ]
  },
  {
   "cell_type": "code",
   "execution_count": 109,
   "id": "ce7336ff",
   "metadata": {},
   "outputs": [
    {
     "name": "stdout",
     "output_type": "stream",
     "text": [
      "DecisionTree\n",
      "[[8187 2226]\n",
      " [3339 6761]]\n",
      "Accurancy: 73%\n"
     ]
    }
   ],
   "source": [
    "cm = confusion_matrix(y_test, y_pred)\n",
    "print(\"DecisionTree\")\n",
    "print(cm)\n",
    "print('Accurancy: {:.0f}%'.format(model_tree.score(X_test, y_test)*100))"
   ]
  },
  {
   "cell_type": "code",
   "execution_count": 110,
   "id": "8046a6e7",
   "metadata": {},
   "outputs": [
    {
     "name": "stdout",
     "output_type": "stream",
     "text": [
      "              precision    recall  f1-score   support\n",
      "\n",
      "           0       0.71      0.79      0.75     10413\n",
      "           1       0.75      0.67      0.71     10100\n",
      "\n",
      "    accuracy                           0.73     20513\n",
      "   macro avg       0.73      0.73      0.73     20513\n",
      "weighted avg       0.73      0.73      0.73     20513\n",
      "\n"
     ]
    }
   ],
   "source": [
    "print(classification_report(y_test, y_pred))"
   ]
  },
  {
   "cell_type": "markdown",
   "id": "813629a8",
   "metadata": {},
   "source": [
    "## Decision Tree tuning"
   ]
  },
  {
   "cell_type": "raw",
   "id": "24f6af21",
   "metadata": {},
   "source": [
    "tuned_paramaters = [{'criterion': ['entropy', 'gini'], \n",
    "                     'max_depth': range(2, 15),\n",
    "                    'max_features': [\"sqrt\", \"log2\"],\n",
    "                     'min_samples_split': range(2,10),\n",
    "                     'min_samples_leaf': range(1,10)\n",
    "                     #'max_leaf_nodes': range(1, 10)\n",
    "}]\n",
    "decision_tree_classification=DecisionTreeClassifier(random_state = 10)\n",
    "tree_grid = GridSearchCV(estimator = decision_tree_classification, param_grid = tuned_paramaters, cv =20)\n",
    "tree_grid_model = tree_grid.fit(X_train, y_train)\n",
    "print('Best parameters for decision tree classifier: ', tree_grid_model.best_params_, '\\n')"
   ]
  },
  {
   "cell_type": "code",
   "execution_count": null,
   "id": "49540005",
   "metadata": {},
   "outputs": [],
   "source": []
  },
  {
   "cell_type": "code",
   "execution_count": 31,
   "id": "afaaad7e",
   "metadata": {},
   "outputs": [
    {
     "name": "stdout",
     "output_type": "stream",
     "text": [
      "Classification report-test:\n",
      "              precision    recall  f1-score   support\n",
      "\n",
      "           0       0.70      0.79      0.74     10372\n",
      "           1       0.76      0.65      0.70     10134\n",
      "\n",
      "    accuracy                           0.72     20506\n",
      "   macro avg       0.73      0.72      0.72     20506\n",
      "weighted avg       0.73      0.72      0.72     20506\n",
      "\n"
     ]
    }
   ],
   "source": [
    "dt_tuned=DecisionTreeClassifier(criterion=\"gini\",max_depth=8,max_features=\"sqrt\",min_samples_split=6,min_samples_leaf=2)\n",
    "dt_tuned.fit(X_train,y_train)\n",
    "y_pred=dt_tuned.predict(X_test)\n",
    "print(\"Classification report-test:\")\n",
    "print(classification_report(y_test,y_pred))"
   ]
  },
  {
   "cell_type": "code",
   "execution_count": 27,
   "id": "61403287",
   "metadata": {},
   "outputs": [
    {
     "name": "stdout",
     "output_type": "stream",
     "text": [
      "              precision    recall  f1-score   support\n",
      "\n",
      "           0       0.72      0.75      0.74     24243\n",
      "           1       0.73      0.70      0.72     23602\n",
      "\n",
      "    accuracy                           0.73     47845\n",
      "   macro avg       0.73      0.73      0.73     47845\n",
      "weighted avg       0.73      0.73      0.73     47845\n",
      "\n"
     ]
    }
   ],
   "source": [
    "dt_tuned=DecisionTreeClassifier(criterion=\"gini\",max_depth=8,max_features=\"sqrt\",min_samples_split=6,min_samples_leaf=2)\n",
    "dt_tuned.fit(X_train,y_train)\n",
    "y_pred=dt_tuned.predict(X_train)\n",
    "print(classification_report(y_train,y_pred))"
   ]
  },
  {
   "cell_type": "code",
   "execution_count": null,
   "id": "0e8b0c6b",
   "metadata": {},
   "outputs": [],
   "source": []
  },
  {
   "cell_type": "raw",
   "id": "dbbe43d2",
   "metadata": {},
   "source": [
    "#df1\n",
    "cm = confusion_matrix(y_test, y_pred)\n",
    "print(\"DecisionTree\")\n",
    "print(cm)\n",
    "print('Accurancy: {:.0f}%'.format(model_tree.score(X_test, y_test)*100))"
   ]
  },
  {
   "cell_type": "markdown",
   "id": "a3573803",
   "metadata": {},
   "source": [
    "# RandomForestClassifier"
   ]
  },
  {
   "cell_type": "code",
   "execution_count": 53,
   "id": "e9eb09e5",
   "metadata": {},
   "outputs": [],
   "source": [
    "from sklearn.ensemble import RandomForestClassifier\n",
    "model_rf = RandomForestClassifier(n_estimators = 100, random_state = 1)\n",
    "model_rf.fit(X_train, y_train)\n",
    "y_pred = model_rf.predict(X_test).round(0)"
   ]
  },
  {
   "cell_type": "raw",
   "id": "7cbd5337",
   "metadata": {},
   "source": [
    "#df1\n",
    "from sklearn.ensemble import RandomForestClassifier\n",
    "model_rf = RandomForestClassifier(n_estimators = 100, random_state = 1)\n",
    "model_rf.fit(X_train, y_train)\n",
    "y_pred = model_rf.predict(X_test).round(0)"
   ]
  },
  {
   "cell_type": "code",
   "execution_count": 54,
   "id": "28c98c30",
   "metadata": {},
   "outputs": [
    {
     "name": "stdout",
     "output_type": "stream",
     "text": [
      "DecisionTree\n",
      "[[7650 2763]\n",
      " [3088 7012]]\n",
      "Accurancy: 71%\n"
     ]
    }
   ],
   "source": [
    "cm = confusion_matrix(y_test, y_pred)\n",
    "print(\"DecisionTree\")\n",
    "print(cm)\n",
    "print('Accurancy: {:.0f}%'.format(model_rf.score(X_test, y_test)*100))"
   ]
  },
  {
   "cell_type": "raw",
   "id": "a0ca4806",
   "metadata": {},
   "source": [
    "#df1\n",
    "cm = confusion_matrix(y_test, y_pred)\n",
    "print(\"DecisionTree\")\n",
    "print(cm)\n",
    "print('Accurancy: {:.0f}%'.format(model_rf.score(X_test, y_test)*100))"
   ]
  },
  {
   "cell_type": "markdown",
   "id": "a509b92b",
   "metadata": {},
   "source": [
    "# Another way - need to complete"
   ]
  },
  {
   "cell_type": "code",
   "execution_count": 55,
   "id": "63a5ae1c",
   "metadata": {},
   "outputs": [],
   "source": [
    "def metrics(y_test,y_pred,model_name):\n",
    "    print(\"The metrics for the model\",model_name)\n",
    "    print('')\n",
    "    print(\"Accuracy score:\",accuracy_score(y_test,y_pred))\n",
    "    print('')\n",
    "        \n",
    "\n",
    "    print(\"recall score:\",recall_score(y_test,y_pred))\n",
    "    print('')\n",
    "\n",
    "    print(\"precision score:\",precision_score(y_test,y_pred))\n",
    "    print('')\n",
    "\n",
    "    print(\"f1 score:\",f1_score(y_test,y_pred))\n",
    "    print('')\n",
    "\n",
    "    print(\"roc auc score:\",roc_auc_score(y_test,y_pred))\n",
    "    \n",
    "    print(\"Classification Report\")\n",
    "    print(classification_report(y_test,y_pred))"
   ]
  },
  {
   "cell_type": "code",
   "execution_count": 56,
   "id": "131ceaad",
   "metadata": {},
   "outputs": [],
   "source": [
    "def plot_metrics(clf,x_test,y_test):\n",
    "    plot_confusion_matrix(clf,x_test,y_test,display_labels=[0,1])\n",
    "    plot_roc_curve(clf,x_test,y_test)\n",
    "    plot_precision_recall_curve(clf,x_test,y_test)"
   ]
  },
  {
   "cell_type": "code",
   "execution_count": 57,
   "id": "5ee224ab",
   "metadata": {},
   "outputs": [
    {
     "name": "stdout",
     "output_type": "stream",
     "text": [
      "The metrics for the model KNN\n",
      "\n",
      "Accuracy score: 0.6949739189782089\n",
      "\n",
      "recall score: 0.6685148514851486\n",
      "\n",
      "precision score: 0.6988924541972881\n",
      "\n",
      "f1 score: 0.6833662264055462\n",
      "\n",
      "roc auc score: 0.6945762579715189\n",
      "Classification Report\n",
      "              precision    recall  f1-score   support\n",
      "\n",
      "           0       0.69      0.72      0.71     10413\n",
      "           1       0.70      0.67      0.68     10100\n",
      "\n",
      "    accuracy                           0.69     20513\n",
      "   macro avg       0.70      0.69      0.69     20513\n",
      "weighted avg       0.70      0.69      0.69     20513\n",
      "\n"
     ]
    }
   ],
   "source": [
    "knn=KNeighborsClassifier()\n",
    "knn.fit(X_train,y_train)\n",
    "y_pred=knn.predict(X_test)\n",
    "metrics(y_test,y_pred,\"KNN\")"
   ]
  },
  {
   "cell_type": "markdown",
   "id": "9760ed59",
   "metadata": {},
   "source": [
    "#plot model complexity score\n",
    "neighbors=np.arange(1,20)\n",
    "train=np.empty(len(neighbors))\n",
    "test=np.empty(len(neighbors))\n",
    "\n",
    "for i,k in enumerate(neighbors):\n",
    "    knn=KNeighborsClassifier(k)\n",
    "    knn.fit(X_train,y_train)\n",
    "    train[i]=knn.score(X_train,y_train)\n",
    "    test[i]=knn.score(X_test,y_test)\n",
    "    \n",
    "plt.title(\"KNN model complete plots\")\n",
    "plt.plot(neighbors,train,label=\"Train Accuracies\")\n",
    "plt.plot(neighbors,test,label=\"Test Accuracies\")\n",
    "plt.legend()\n",
    "plt.xlabel(\"K values\")\n",
    "plt.ylabel(\"Accuracy score\")\n",
    "plt.show()"
   ]
  },
  {
   "cell_type": "code",
   "execution_count": 58,
   "id": "626ab8fa",
   "metadata": {},
   "outputs": [
    {
     "name": "stdout",
     "output_type": "stream",
     "text": [
      "The metrics for the model RFC\n",
      "\n",
      "Accuracy score: 0.7146687466484668\n",
      "\n",
      "recall score: 0.6976237623762376\n",
      "\n",
      "precision score: 0.7156932453021838\n",
      "\n",
      "f1 score: 0.7065429932313863\n",
      "\n",
      "roc auc score: 0.7144125726315068\n",
      "Classification Report\n",
      "              precision    recall  f1-score   support\n",
      "\n",
      "           0       0.71      0.73      0.72     10413\n",
      "           1       0.72      0.70      0.71     10100\n",
      "\n",
      "    accuracy                           0.71     20513\n",
      "   macro avg       0.71      0.71      0.71     20513\n",
      "weighted avg       0.71      0.71      0.71     20513\n",
      "\n"
     ]
    }
   ],
   "source": [
    "# fit a random forest model and optimize\n",
    "rfc=RandomForestClassifier()\n",
    "rfc.fit(X_train,y_train)\n",
    "y_pred=rfc.predict(X_test)\n",
    "metrics(y_test,y_pred,\"RFC\")"
   ]
  },
  {
   "cell_type": "markdown",
   "id": "53c9fabb",
   "metadata": {},
   "source": [
    "plot_metrics(rfc,X_test,y_test)"
   ]
  },
  {
   "cell_type": "code",
   "execution_count": 1,
   "id": "94586937",
   "metadata": {},
   "outputs": [
    {
     "ename": "NameError",
     "evalue": "name 'LogisticRegression' is not defined",
     "output_type": "error",
     "traceback": [
      "\u001b[1;31m---------------------------------------------------------------------------\u001b[0m",
      "\u001b[1;31mNameError\u001b[0m                                 Traceback (most recent call last)",
      "Input \u001b[1;32mIn [1]\u001b[0m, in \u001b[0;36m<cell line: 2>\u001b[1;34m()\u001b[0m\n\u001b[0;32m      1\u001b[0m clfs\u001b[38;5;241m=\u001b[39m{\n\u001b[1;32m----> 2\u001b[0m     \u001b[38;5;124m\"\u001b[39m\u001b[38;5;124mLogreg\u001b[39m\u001b[38;5;124m\"\u001b[39m:\u001b[43mLogisticRegression\u001b[49m(),\n\u001b[0;32m      3\u001b[0m     \u001b[38;5;124m\"\u001b[39m\u001b[38;5;124mKNN\u001b[39m\u001b[38;5;124m\"\u001b[39m:KNeighborsClassifier(),\n\u001b[0;32m      4\u001b[0m     \u001b[38;5;124m\"\u001b[39m\u001b[38;5;124mNaive Beyes\u001b[39m\u001b[38;5;124m\"\u001b[39m:GaussianNB(),\n\u001b[0;32m      5\u001b[0m     \u001b[38;5;124m\"\u001b[39m\u001b[38;5;124mDecision Tree\u001b[39m\u001b[38;5;124m\"\u001b[39m:DecisionTreeClassifier(),\n\u001b[0;32m      6\u001b[0m     \u001b[38;5;124m\"\u001b[39m\u001b[38;5;124mRandom Forest\u001b[39m\u001b[38;5;124m\"\u001b[39m:RandomForestClassifier(),\n\u001b[0;32m      7\u001b[0m     \u001b[38;5;124m\"\u001b[39m\u001b[38;5;124mAda boost\u001b[39m\u001b[38;5;124m\"\u001b[39m:AdaBoostClassifier(),\n\u001b[0;32m      8\u001b[0m     \u001b[38;5;124m\"\u001b[39m\u001b[38;5;124mGradient Boost\u001b[39m\u001b[38;5;124m\"\u001b[39m:GradientBoostingClassifier(),\n\u001b[0;32m      9\u001b[0m     \u001b[38;5;124m\"\u001b[39m\u001b[38;5;124mxgboost\u001b[39m\u001b[38;5;124m\"\u001b[39m:XGBClassifier()\n\u001b[0;32m     10\u001b[0m }\n\u001b[0;32m     11\u001b[0m models_report\u001b[38;5;241m=\u001b[39mpd\u001b[38;5;241m.\u001b[39mDataFrame(columns\u001b[38;5;241m=\u001b[39m[\u001b[38;5;124m\"\u001b[39m\u001b[38;5;124mmodel\u001b[39m\u001b[38;5;124m\"\u001b[39m,\u001b[38;5;124m\"\u001b[39m\u001b[38;5;124maccuracy\u001b[39m\u001b[38;5;124m\"\u001b[39m,\u001b[38;5;124m\"\u001b[39m\u001b[38;5;124mrecall\u001b[39m\u001b[38;5;124m\"\u001b[39m,\u001b[38;5;124m\"\u001b[39m\u001b[38;5;124mprecision\u001b[39m\u001b[38;5;124m\"\u001b[39m,\u001b[38;5;124m\"\u001b[39m\u001b[38;5;124mroc auc\u001b[39m\u001b[38;5;124m\"\u001b[39m,\u001b[38;5;124m\"\u001b[39m\u001b[38;5;124mf1 score\u001b[39m\u001b[38;5;124m\"\u001b[39m])\n\u001b[0;32m     14\u001b[0m \u001b[38;5;28;01mfor\u001b[39;00m clf,clf_name \u001b[38;5;129;01min\u001b[39;00m \u001b[38;5;28mlist\u001b[39m(\u001b[38;5;28mzip\u001b[39m(clfs\u001b[38;5;241m.\u001b[39mvalues(),clfs\u001b[38;5;241m.\u001b[39mkeys())):\n",
      "\u001b[1;31mNameError\u001b[0m: name 'LogisticRegression' is not defined"
     ]
    }
   ],
   "source": [
    "clfs={\n",
    "    \"Logreg\":LogisticRegression(),\n",
    "    \"KNN\":KNeighborsClassifier(),\n",
    "    \"Naive Beyes\":GaussianNB(),\n",
    "    \"Decision Tree\":DecisionTreeClassifier(),\n",
    "    \"Random Forest\":RandomForestClassifier(),\n",
    "    \"Ada boost\":AdaBoostClassifier(),\n",
    "    \"Gradient Boost\":GradientBoostingClassifier(),\n",
    "    \"xgboost\":XGBClassifier()\n",
    "}\n",
    "models_report=pd.DataFrame(columns=[\"model\",\"accuracy\",\"recall\",\"precision\",\"roc auc\",\"f1 score\"])\n",
    "\n",
    "\n",
    "for clf,clf_name in list(zip(clfs.values(),clfs.keys())):\n",
    "    clf.fit(X_train,y_train)\n",
    "    y_pred=clf.predict(X_test)\n",
    "    print(\"Fitting the model...\",clf_name)\n",
    "    t={\n",
    "        \"model name\":clf_name,\n",
    "        \"accuracy\":accuracy_score(y_test,y_pred),\n",
    "        \"recall\":recall_score(y_test,y_pred),\n",
    "        \"precision\":precision_score(y_test,y_pred),\n",
    "        \"roc auc\":roc_auc_score(y_test,y_pred),\n",
    "        \"f1 score\":f1_score(y_test,y_pred)\n",
    "    }\n",
    "    models_report=models_report.append(t,ignore_index=True)\n",
    "models_report=models_report.sort_values(by=\"f1 score\",ascending=False)\n",
    "models_report"
   ]
  },
  {
   "cell_type": "markdown",
   "id": "1e7a0d79",
   "metadata": {},
   "source": [
    "# RFC Tuning"
   ]
  },
  {
   "cell_type": "raw",
   "id": "4ef8fb46",
   "metadata": {},
   "source": [
    "param_grid={\n",
    "    \"n_estimators\":range(1,100),\n",
    "    #\"min_samples_leaf\":range(1,5,1),\n",
    "    \"min_samples_split\":range(2,10,2),\n",
    "    \"max_features\":[\"sqrt\",\"log2\"],\n",
    "    \"criterion\":[\"gini\",\"entropy\"]\n",
    "   # \"max_depth\":[2,4,None]\n",
    "    \n",
    "}\n",
    "\n",
    "n_folds=20\n",
    "cv=GridSearchCV(estimator=rfc,cv=n_folds,param_grid=param_grid,verbose=3,return_train_score=False,n_jobs=-1)\n",
    "cv.fit(X_train,y_train)"
   ]
  },
  {
   "cell_type": "code",
   "execution_count": 61,
   "id": "2b4355ed",
   "metadata": {},
   "outputs": [
    {
     "data": {
      "text/plain": [
       "0.7240666152627434"
      ]
     },
     "execution_count": 61,
     "metadata": {},
     "output_type": "execute_result"
    }
   ],
   "source": [
    "cv.best_score_"
   ]
  },
  {
   "cell_type": "code",
   "execution_count": 62,
   "id": "5777ebc1",
   "metadata": {},
   "outputs": [
    {
     "data": {
      "text/plain": [
       "{'criterion': 'gini',\n",
       " 'max_features': 'log2',\n",
       " 'min_samples_split': 8,\n",
       " 'n_estimators': 200}"
      ]
     },
     "execution_count": 62,
     "metadata": {},
     "output_type": "execute_result"
    }
   ],
   "source": [
    "cv.best_params_"
   ]
  },
  {
   "cell_type": "code",
   "execution_count": null,
   "id": "a52759ab",
   "metadata": {},
   "outputs": [],
   "source": [
    "cv.best_estimator_"
   ]
  },
  {
   "cell_type": "code",
   "execution_count": 64,
   "id": "a6d3773a",
   "metadata": {},
   "outputs": [
    {
     "name": "stdout",
     "output_type": "stream",
     "text": [
      "The metrics for the model RFC\n",
      "\n",
      "Accuracy score: 0.7270023887290986\n",
      "\n",
      "recall score: 0.6988118811881188\n",
      "\n",
      "precision score: 0.7339850249584027\n",
      "\n",
      "f1 score: 0.7159667275309393\n",
      "\n",
      "roc auc score: 0.7265787054072737\n",
      "Classification Report\n",
      "              precision    recall  f1-score   support\n",
      "\n",
      "           0       0.72      0.75      0.74     10413\n",
      "           1       0.73      0.70      0.72     10100\n",
      "\n",
      "    accuracy                           0.73     20513\n",
      "   macro avg       0.73      0.73      0.73     20513\n",
      "weighted avg       0.73      0.73      0.73     20513\n",
      "\n"
     ]
    }
   ],
   "source": [
    "rfc_tuned=RandomForestClassifier(n_estimators=200,criterion=\"gini\",max_features=\"sqrt\",min_samples_split=8)\n",
    "rfc_tuned.fit(X_train,y_train)\n",
    "y_pred=rfc_tuned.predict(X_test)\n",
    "metrics(y_test,y_pred,\"RFC\")"
   ]
  },
  {
   "cell_type": "code",
   "execution_count": 65,
   "id": "12393932",
   "metadata": {},
   "outputs": [],
   "source": [
    "sc=StandardScaler()\n",
    "x_std=sc.fit_transform(X_train)"
   ]
  },
  {
   "cell_type": "code",
   "execution_count": 66,
   "id": "15695e88",
   "metadata": {},
   "outputs": [],
   "source": [
    "from sklearn.model_selection import cross_val_score,KFold"
   ]
  },
  {
   "cell_type": "raw",
   "id": "8d786ac6",
   "metadata": {
    "scrolled": true
   },
   "source": [
    "#Let us boost the RF model\n",
    "Ab=AdaBoostClassifier(base_estimator=rfc_tuned,random_state=10)\n",
    "params={'n_estimators':np.arange(1,50)}\n",
    "kf=KFold(n_splits=3,shuffle=True,random_state=0)\n",
    "GS=GridSearchCV(Ab,params,cv=kf,scoring='f1_weighted')\n",
    "GS.fit(x_std,y_train)"
   ]
  },
  {
   "cell_type": "code",
   "execution_count": null,
   "id": "e92049db",
   "metadata": {},
   "outputs": [],
   "source": [
    "GS.best_params_"
   ]
  },
  {
   "cell_type": "markdown",
   "id": "faa54fa6",
   "metadata": {},
   "source": [
    "# Logistic Regression"
   ]
  },
  {
   "cell_type": "code",
   "execution_count": 68,
   "id": "d7fea9f1",
   "metadata": {},
   "outputs": [],
   "source": [
    "import statsmodels\n",
    "import statsmodels.api as sm"
   ]
  },
  {
   "cell_type": "code",
   "execution_count": 69,
   "id": "db8062b2",
   "metadata": {},
   "outputs": [
    {
     "name": "stdout",
     "output_type": "stream",
     "text": [
      "Optimization terminated successfully.\n",
      "         Current function value: 0.560386\n",
      "         Iterations 6\n"
     ]
    },
    {
     "data": {
      "text/html": [
       "<table class=\"simpletable\">\n",
       "<caption>Logit Regression Results</caption>\n",
       "<tr>\n",
       "  <th>Dep. Variable:</th>        <td>cardio</td>      <th>  No. Observations:  </th>  <td> 47863</td> \n",
       "</tr>\n",
       "<tr>\n",
       "  <th>Model:</th>                 <td>Logit</td>      <th>  Df Residuals:      </th>  <td> 47850</td> \n",
       "</tr>\n",
       "<tr>\n",
       "  <th>Method:</th>                 <td>MLE</td>       <th>  Df Model:          </th>  <td>    12</td> \n",
       "</tr>\n",
       "<tr>\n",
       "  <th>Date:</th>            <td>Tue, 24 Jan 2023</td> <th>  Pseudo R-squ.:     </th>  <td>0.1915</td> \n",
       "</tr>\n",
       "<tr>\n",
       "  <th>Time:</th>                <td>13:14:18</td>     <th>  Log-Likelihood:    </th> <td> -26822.</td>\n",
       "</tr>\n",
       "<tr>\n",
       "  <th>converged:</th>             <td>True</td>       <th>  LL-Null:           </th> <td> -33173.</td>\n",
       "</tr>\n",
       "<tr>\n",
       "  <th>Covariance Type:</th>     <td>nonrobust</td>    <th>  LLR p-value:       </th>  <td> 0.000</td> \n",
       "</tr>\n",
       "</table>\n",
       "<table class=\"simpletable\">\n",
       "<tr>\n",
       "       <td></td>          <th>coef</th>     <th>std err</th>      <th>z</th>      <th>P>|z|</th>  <th>[0.025</th>    <th>0.975]</th>  \n",
       "</tr>\n",
       "<tr>\n",
       "  <th>const</th>       <td>  -10.7203</td> <td>    1.255</td> <td>   -8.542</td> <td> 0.000</td> <td>  -13.180</td> <td>   -8.261</td>\n",
       "</tr>\n",
       "<tr>\n",
       "  <th>age_year</th>    <td>    0.0516</td> <td>    0.002</td> <td>   31.716</td> <td> 0.000</td> <td>    0.048</td> <td>    0.055</td>\n",
       "</tr>\n",
       "<tr>\n",
       "  <th>gender</th>      <td>   -0.0211</td> <td>    0.027</td> <td>   -0.791</td> <td> 0.429</td> <td>   -0.073</td> <td>    0.031</td>\n",
       "</tr>\n",
       "<tr>\n",
       "  <th>height</th>      <td>   -0.0075</td> <td>    0.008</td> <td>   -0.984</td> <td> 0.325</td> <td>   -0.022</td> <td>    0.007</td>\n",
       "</tr>\n",
       "<tr>\n",
       "  <th>weight</th>      <td>    0.0148</td> <td>    0.008</td> <td>    1.783</td> <td> 0.075</td> <td>   -0.001</td> <td>    0.031</td>\n",
       "</tr>\n",
       "<tr>\n",
       "  <th>ap_hi</th>       <td>    0.0553</td> <td>    0.001</td> <td>   50.273</td> <td> 0.000</td> <td>    0.053</td> <td>    0.057</td>\n",
       "</tr>\n",
       "<tr>\n",
       "  <th>ap_lo</th>       <td>    0.0130</td> <td>    0.002</td> <td>    7.484</td> <td> 0.000</td> <td>    0.010</td> <td>    0.016</td>\n",
       "</tr>\n",
       "<tr>\n",
       "  <th>cholesterol</th> <td>    0.5170</td> <td>    0.019</td> <td>   27.416</td> <td> 0.000</td> <td>    0.480</td> <td>    0.554</td>\n",
       "</tr>\n",
       "<tr>\n",
       "  <th>gluc</th>        <td>   -0.1234</td> <td>    0.021</td> <td>   -5.798</td> <td> 0.000</td> <td>   -0.165</td> <td>   -0.082</td>\n",
       "</tr>\n",
       "<tr>\n",
       "  <th>smoke</th>       <td>   -0.1395</td> <td>    0.042</td> <td>   -3.333</td> <td> 0.001</td> <td>   -0.221</td> <td>   -0.057</td>\n",
       "</tr>\n",
       "<tr>\n",
       "  <th>alco</th>        <td>   -0.1900</td> <td>    0.051</td> <td>   -3.737</td> <td> 0.000</td> <td>   -0.290</td> <td>   -0.090</td>\n",
       "</tr>\n",
       "<tr>\n",
       "  <th>active</th>      <td>   -0.2144</td> <td>    0.026</td> <td>   -8.144</td> <td> 0.000</td> <td>   -0.266</td> <td>   -0.163</td>\n",
       "</tr>\n",
       "<tr>\n",
       "  <th>bmi</th>         <td>   -0.0091</td> <td>    0.022</td> <td>   -0.413</td> <td> 0.679</td> <td>   -0.052</td> <td>    0.034</td>\n",
       "</tr>\n",
       "</table>"
      ],
      "text/plain": [
       "<class 'statsmodels.iolib.summary.Summary'>\n",
       "\"\"\"\n",
       "                           Logit Regression Results                           \n",
       "==============================================================================\n",
       "Dep. Variable:                 cardio   No. Observations:                47863\n",
       "Model:                          Logit   Df Residuals:                    47850\n",
       "Method:                           MLE   Df Model:                           12\n",
       "Date:                Tue, 24 Jan 2023   Pseudo R-squ.:                  0.1915\n",
       "Time:                        13:14:18   Log-Likelihood:                -26822.\n",
       "converged:                       True   LL-Null:                       -33173.\n",
       "Covariance Type:            nonrobust   LLR p-value:                     0.000\n",
       "===============================================================================\n",
       "                  coef    std err          z      P>|z|      [0.025      0.975]\n",
       "-------------------------------------------------------------------------------\n",
       "const         -10.7203      1.255     -8.542      0.000     -13.180      -8.261\n",
       "age_year        0.0516      0.002     31.716      0.000       0.048       0.055\n",
       "gender         -0.0211      0.027     -0.791      0.429      -0.073       0.031\n",
       "height         -0.0075      0.008     -0.984      0.325      -0.022       0.007\n",
       "weight          0.0148      0.008      1.783      0.075      -0.001       0.031\n",
       "ap_hi           0.0553      0.001     50.273      0.000       0.053       0.057\n",
       "ap_lo           0.0130      0.002      7.484      0.000       0.010       0.016\n",
       "cholesterol     0.5170      0.019     27.416      0.000       0.480       0.554\n",
       "gluc           -0.1234      0.021     -5.798      0.000      -0.165      -0.082\n",
       "smoke          -0.1395      0.042     -3.333      0.001      -0.221      -0.057\n",
       "alco           -0.1900      0.051     -3.737      0.000      -0.290      -0.090\n",
       "active         -0.2144      0.026     -8.144      0.000      -0.266      -0.163\n",
       "bmi            -0.0091      0.022     -0.413      0.679      -0.052       0.034\n",
       "===============================================================================\n",
       "\"\"\""
      ]
     },
     "execution_count": 69,
     "metadata": {},
     "output_type": "execute_result"
    }
   ],
   "source": [
    "log=LogisticRegression()\n",
    "x=sm.add_constant(X_train)\n",
    "logreg=sm.Logit(y_train,x).fit()\n",
    "logreg.summary()"
   ]
  },
  {
   "cell_type": "code",
   "execution_count": 70,
   "id": "6c054fe4",
   "metadata": {},
   "outputs": [],
   "source": [
    "X_test=sm.add_constant(X_test)\n",
    "y_pred_prob = logreg.predict(X_test)\n",
    "\n"
   ]
  },
  {
   "cell_type": "code",
   "execution_count": 71,
   "id": "9ff02860",
   "metadata": {},
   "outputs": [],
   "source": [
    "y_pred = [ 0 if x < 0.5 else 1 for x in y_pred_prob]"
   ]
  },
  {
   "cell_type": "code",
   "execution_count": 72,
   "id": "9f459b8f",
   "metadata": {},
   "outputs": [
    {
     "name": "stdout",
     "output_type": "stream",
     "text": [
      "              precision    recall  f1-score   support\n",
      "\n",
      "           0       0.71      0.79      0.75     10413\n",
      "           1       0.76      0.67      0.71     10100\n",
      "\n",
      "    accuracy                           0.73     20513\n",
      "   macro avg       0.73      0.73      0.73     20513\n",
      "weighted avg       0.73      0.73      0.73     20513\n",
      "\n"
     ]
    }
   ],
   "source": [
    "acc_table = classification_report(y_test, y_pred)\n",
    "print(acc_table)"
   ]
  },
  {
   "cell_type": "code",
   "execution_count": null,
   "id": "f7499395",
   "metadata": {},
   "outputs": [],
   "source": [
    "print"
   ]
  },
  {
   "cell_type": "code",
   "execution_count": 73,
   "id": "29acad01",
   "metadata": {},
   "outputs": [],
   "source": [
    "score_card = pd.DataFrame(columns=['Probability Cutoff', 'AUC Score', 'Precision Score', 'Recall Score',\n",
    "                                       'Accuracy Score', 'Kappa Score', 'f1-score'])\n",
    "\n",
    "# append the result table for all performance scores\n",
    "# performance measures considered for model comparision are 'AUC Score', 'Precision Score', 'Recall Score','Accuracy Score',\n",
    "# 'Kappa Score', and 'f1-score'\n",
    "# compile the required information in a user defined function \n",
    "def update_score_card(model, cutoff):\n",
    "    \n",
    "    # let 'y_pred_prob' be the predicted values of y\n",
    "    y_pred_prob = logreg.predict(X_test)\n",
    "\n",
    "    # convert probabilities to 0 and 1 using 'if_else'\n",
    "    y_pred = [ 0 if x < cutoff else 1 for x in y_pred_prob]\n",
    "    \n",
    "    # assign 'score_card' as global variable\n",
    "    global score_card\n",
    "\n",
    "    # append the results to the dataframe 'score_card'\n",
    "    # 'ignore_index = True' do not consider the index labels\n",
    "    score_card = score_card.append({'Probability Cutoff': cutoff,\n",
    "                                    'AUC Score' : roc_auc_score(y_test, y_pred_prob),   #pass probability\n",
    "                                    'Precision Score': precision_score(y_test, y_pred),\n",
    "                                    'Recall Score': recall_score(y_test, y_pred),\n",
    "                                    'Accuracy Score': accuracy_score(y_test, y_pred),\n",
    "                                    'Kappa Score':cohen_kappa_score(y_test, y_pred),\n",
    "                                    'f1-score': f1_score(y_test, y_pred)}, \n",
    "                                    ignore_index = True)"
   ]
  },
  {
   "cell_type": "code",
   "execution_count": 74,
   "id": "b02cfaf0",
   "metadata": {},
   "outputs": [
    {
     "name": "stderr",
     "output_type": "stream",
     "text": [
      "C:\\Users\\Nilesh Patil\\AppData\\Local\\Temp\\ipykernel_1348\\2027473632.py:21: FutureWarning: The frame.append method is deprecated and will be removed from pandas in a future version. Use pandas.concat instead.\n",
      "  score_card = score_card.append({'Probability Cutoff': cutoff,\n",
      "C:\\Users\\Nilesh Patil\\AppData\\Local\\Temp\\ipykernel_1348\\2027473632.py:21: FutureWarning: The frame.append method is deprecated and will be removed from pandas in a future version. Use pandas.concat instead.\n",
      "  score_card = score_card.append({'Probability Cutoff': cutoff,\n",
      "C:\\Users\\Nilesh Patil\\AppData\\Local\\Temp\\ipykernel_1348\\2027473632.py:21: FutureWarning: The frame.append method is deprecated and will be removed from pandas in a future version. Use pandas.concat instead.\n",
      "  score_card = score_card.append({'Probability Cutoff': cutoff,\n",
      "C:\\Users\\Nilesh Patil\\AppData\\Local\\Temp\\ipykernel_1348\\2027473632.py:21: FutureWarning: The frame.append method is deprecated and will be removed from pandas in a future version. Use pandas.concat instead.\n",
      "  score_card = score_card.append({'Probability Cutoff': cutoff,\n",
      "C:\\Users\\Nilesh Patil\\AppData\\Local\\Temp\\ipykernel_1348\\2027473632.py:21: FutureWarning: The frame.append method is deprecated and will be removed from pandas in a future version. Use pandas.concat instead.\n",
      "  score_card = score_card.append({'Probability Cutoff': cutoff,\n",
      "C:\\Users\\Nilesh Patil\\AppData\\Local\\Temp\\ipykernel_1348\\2027473632.py:21: FutureWarning: The frame.append method is deprecated and will be removed from pandas in a future version. Use pandas.concat instead.\n",
      "  score_card = score_card.append({'Probability Cutoff': cutoff,\n",
      "C:\\Users\\Nilesh Patil\\AppData\\Local\\Temp\\ipykernel_1348\\2027473632.py:21: FutureWarning: The frame.append method is deprecated and will be removed from pandas in a future version. Use pandas.concat instead.\n",
      "  score_card = score_card.append({'Probability Cutoff': cutoff,\n",
      "C:\\Users\\Nilesh Patil\\AppData\\Local\\Temp\\ipykernel_1348\\2027473632.py:21: FutureWarning: The frame.append method is deprecated and will be removed from pandas in a future version. Use pandas.concat instead.\n",
      "  score_card = score_card.append({'Probability Cutoff': cutoff,\n",
      "C:\\Users\\Nilesh Patil\\AppData\\Local\\Temp\\ipykernel_1348\\2027473632.py:21: FutureWarning: The frame.append method is deprecated and will be removed from pandas in a future version. Use pandas.concat instead.\n",
      "  score_card = score_card.append({'Probability Cutoff': cutoff,\n"
     ]
    }
   ],
   "source": [
    "cutoff = [0.1, 0.2, 0.3, 0.4, 0.5, 0.6, 0.7, 0.8, 0.9]\n",
    "\n",
    "# use the for loop to compute performance measures for each value of the cut-off\n",
    "# call the update_score_card() to update the score card for each cut-off\n",
    "# pass the model and cut-off value to the function\n",
    "for value in cutoff:\n",
    "    update_score_card(logreg, value)"
   ]
  },
  {
   "cell_type": "code",
   "execution_count": 75,
   "id": "be396576",
   "metadata": {},
   "outputs": [
    {
     "name": "stdout",
     "output_type": "stream",
     "text": [
      "Score Card for Logistic regression:\n"
     ]
    },
    {
     "data": {
      "text/html": [
       "<style type=\"text/css\">\n",
       "#T_71486_row0_col1, #T_71486_row1_col1, #T_71486_row2_col1, #T_71486_row3_col1, #T_71486_row3_col6, #T_71486_row4_col1, #T_71486_row4_col4, #T_71486_row4_col5, #T_71486_row5_col1, #T_71486_row6_col1, #T_71486_row7_col1, #T_71486_row8_col1 {\n",
       "  background-color: lightblue;\n",
       "}\n",
       "</style>\n",
       "<table id=\"T_71486\">\n",
       "  <thead>\n",
       "    <tr>\n",
       "      <th class=\"blank level0\" >&nbsp;</th>\n",
       "      <th id=\"T_71486_level0_col0\" class=\"col_heading level0 col0\" >Probability Cutoff</th>\n",
       "      <th id=\"T_71486_level0_col1\" class=\"col_heading level0 col1\" >AUC Score</th>\n",
       "      <th id=\"T_71486_level0_col2\" class=\"col_heading level0 col2\" >Precision Score</th>\n",
       "      <th id=\"T_71486_level0_col3\" class=\"col_heading level0 col3\" >Recall Score</th>\n",
       "      <th id=\"T_71486_level0_col4\" class=\"col_heading level0 col4\" >Accuracy Score</th>\n",
       "      <th id=\"T_71486_level0_col5\" class=\"col_heading level0 col5\" >Kappa Score</th>\n",
       "      <th id=\"T_71486_level0_col6\" class=\"col_heading level0 col6\" >f1-score</th>\n",
       "    </tr>\n",
       "  </thead>\n",
       "  <tbody>\n",
       "    <tr>\n",
       "      <th id=\"T_71486_level0_row0\" class=\"row_heading level0 row0\" >0</th>\n",
       "      <td id=\"T_71486_row0_col0\" class=\"data row0 col0\" >0.100000</td>\n",
       "      <td id=\"T_71486_row0_col1\" class=\"data row0 col1\" >0.792205</td>\n",
       "      <td id=\"T_71486_row0_col2\" class=\"data row0 col2\" >0.502781</td>\n",
       "      <td id=\"T_71486_row0_col3\" class=\"data row0 col3\" >0.993366</td>\n",
       "      <td id=\"T_71486_row0_col4\" class=\"data row0 col4\" >0.513041</td>\n",
       "      <td id=\"T_71486_row0_col5\" class=\"data row0 col5\" >0.039933</td>\n",
       "      <td id=\"T_71486_row0_col6\" class=\"data row0 col6\" >0.667643</td>\n",
       "    </tr>\n",
       "    <tr>\n",
       "      <th id=\"T_71486_level0_row1\" class=\"row_heading level0 row1\" >1</th>\n",
       "      <td id=\"T_71486_row1_col0\" class=\"data row1 col0\" >0.200000</td>\n",
       "      <td id=\"T_71486_row1_col1\" class=\"data row1 col1\" >0.792205</td>\n",
       "      <td id=\"T_71486_row1_col2\" class=\"data row1 col2\" >0.535738</td>\n",
       "      <td id=\"T_71486_row1_col3\" class=\"data row1 col3\" >0.969208</td>\n",
       "      <td id=\"T_71486_row1_col4\" class=\"data row1 col4\" >0.571296</td>\n",
       "      <td id=\"T_71486_row1_col5\" class=\"data row1 col5\" >0.152696</td>\n",
       "      <td id=\"T_71486_row1_col6\" class=\"data row1 col6\" >0.690047</td>\n",
       "    </tr>\n",
       "    <tr>\n",
       "      <th id=\"T_71486_level0_row2\" class=\"row_heading level0 row2\" >2</th>\n",
       "      <td id=\"T_71486_row2_col0\" class=\"data row2 col0\" >0.300000</td>\n",
       "      <td id=\"T_71486_row2_col1\" class=\"data row2 col1\" >0.792205</td>\n",
       "      <td id=\"T_71486_row2_col2\" class=\"data row2 col2\" >0.594179</td>\n",
       "      <td id=\"T_71486_row2_col3\" class=\"data row2 col3\" >0.907624</td>\n",
       "      <td id=\"T_71486_row2_col4\" class=\"data row2 col4\" >0.649296</td>\n",
       "      <td id=\"T_71486_row2_col5\" class=\"data row2 col5\" >0.303946</td>\n",
       "      <td id=\"T_71486_row2_col6\" class=\"data row2 col6\" >0.718192</td>\n",
       "    </tr>\n",
       "    <tr>\n",
       "      <th id=\"T_71486_level0_row3\" class=\"row_heading level0 row3\" >3</th>\n",
       "      <td id=\"T_71486_row3_col0\" class=\"data row3 col0\" >0.400000</td>\n",
       "      <td id=\"T_71486_row3_col1\" class=\"data row3 col1\" >0.792205</td>\n",
       "      <td id=\"T_71486_row3_col2\" class=\"data row3 col2\" >0.677042</td>\n",
       "      <td id=\"T_71486_row3_col3\" class=\"data row3 col3\" >0.796832</td>\n",
       "      <td id=\"T_71486_row3_col4\" class=\"data row3 col4\" >0.712816</td>\n",
       "      <td id=\"T_71486_row3_col5\" class=\"data row3 col5\" >0.427022</td>\n",
       "      <td id=\"T_71486_row3_col6\" class=\"data row3 col6\" >0.732069</td>\n",
       "    </tr>\n",
       "    <tr>\n",
       "      <th id=\"T_71486_level0_row4\" class=\"row_heading level0 row4\" >4</th>\n",
       "      <td id=\"T_71486_row4_col0\" class=\"data row4 col0\" >0.500000</td>\n",
       "      <td id=\"T_71486_row4_col1\" class=\"data row4 col1\" >0.792205</td>\n",
       "      <td id=\"T_71486_row4_col2\" class=\"data row4 col2\" >0.755011</td>\n",
       "      <td id=\"T_71486_row4_col3\" class=\"data row4 col3\" >0.671287</td>\n",
       "      <td id=\"T_71486_row4_col4\" class=\"data row4 col4\" >0.730902</td>\n",
       "      <td id=\"T_71486_row4_col5\" class=\"data row4 col5\" >0.460781</td>\n",
       "      <td id=\"T_71486_row4_col6\" class=\"data row4 col6\" >0.710692</td>\n",
       "    </tr>\n",
       "    <tr>\n",
       "      <th id=\"T_71486_level0_row5\" class=\"row_heading level0 row5\" >5</th>\n",
       "      <td id=\"T_71486_row5_col0\" class=\"data row5 col0\" >0.600000</td>\n",
       "      <td id=\"T_71486_row5_col1\" class=\"data row5 col1\" >0.792205</td>\n",
       "      <td id=\"T_71486_row5_col2\" class=\"data row5 col2\" >0.802199</td>\n",
       "      <td id=\"T_71486_row5_col3\" class=\"data row5 col3\" >0.556139</td>\n",
       "      <td id=\"T_71486_row5_col4\" class=\"data row5 col4\" >0.713938</td>\n",
       "      <td id=\"T_71486_row5_col5\" class=\"data row5 col5\" >0.425091</td>\n",
       "      <td id=\"T_71486_row5_col6\" class=\"data row5 col6\" >0.656882</td>\n",
       "    </tr>\n",
       "    <tr>\n",
       "      <th id=\"T_71486_level0_row6\" class=\"row_heading level0 row6\" >6</th>\n",
       "      <td id=\"T_71486_row6_col0\" class=\"data row6 col0\" >0.700000</td>\n",
       "      <td id=\"T_71486_row6_col1\" class=\"data row6 col1\" >0.792205</td>\n",
       "      <td id=\"T_71486_row6_col2\" class=\"data row6 col2\" >0.830512</td>\n",
       "      <td id=\"T_71486_row6_col3\" class=\"data row6 col3\" >0.422574</td>\n",
       "      <td id=\"T_71486_row6_col4\" class=\"data row6 col4\" >0.673232</td>\n",
       "      <td id=\"T_71486_row6_col5\" class=\"data row6 col5\" >0.341449</td>\n",
       "      <td id=\"T_71486_row6_col6\" class=\"data row6 col6\" >0.560142</td>\n",
       "    </tr>\n",
       "    <tr>\n",
       "      <th id=\"T_71486_level0_row7\" class=\"row_heading level0 row7\" >7</th>\n",
       "      <td id=\"T_71486_row7_col0\" class=\"data row7 col0\" >0.800000</td>\n",
       "      <td id=\"T_71486_row7_col1\" class=\"data row7 col1\" >0.792205</td>\n",
       "      <td id=\"T_71486_row7_col2\" class=\"data row7 col2\" >0.845017</td>\n",
       "      <td id=\"T_71486_row7_col3\" class=\"data row7 col3\" >0.266139</td>\n",
       "      <td id=\"T_71486_row7_col4\" class=\"data row7 col4\" >0.614635</td>\n",
       "      <td id=\"T_71486_row7_col5\" class=\"data row7 col5\" >0.221070</td>\n",
       "      <td id=\"T_71486_row7_col6\" class=\"data row7 col6\" >0.404789</td>\n",
       "    </tr>\n",
       "    <tr>\n",
       "      <th id=\"T_71486_level0_row8\" class=\"row_heading level0 row8\" >8</th>\n",
       "      <td id=\"T_71486_row8_col0\" class=\"data row8 col0\" >0.900000</td>\n",
       "      <td id=\"T_71486_row8_col1\" class=\"data row8 col1\" >0.792205</td>\n",
       "      <td id=\"T_71486_row8_col2\" class=\"data row8 col2\" >0.852964</td>\n",
       "      <td id=\"T_71486_row8_col3\" class=\"data row8 col3\" >0.106832</td>\n",
       "      <td id=\"T_71486_row8_col4\" class=\"data row8 col4\" >0.551163</td>\n",
       "      <td id=\"T_71486_row8_col5\" class=\"data row8 col5\" >0.090155</td>\n",
       "      <td id=\"T_71486_row8_col6\" class=\"data row8 col6\" >0.189881</td>\n",
       "    </tr>\n",
       "  </tbody>\n",
       "</table>\n"
      ],
      "text/plain": [
       "<pandas.io.formats.style.Styler at 0x1b56fe56fd0>"
      ]
     },
     "execution_count": 75,
     "metadata": {},
     "output_type": "execute_result"
    }
   ],
   "source": [
    "print('Score Card for Logistic regression:')\n",
    "score_card = score_card.sort_values('Probability Cutoff').reset_index(drop = True)\n",
    "score_card.style.highlight_max(color = 'lightblue', subset = ['AUC Score', 'Accuracy Score', 'Kappa Score', 'f1-score'])"
   ]
  },
  {
   "cell_type": "markdown",
   "id": "09cd5990",
   "metadata": {},
   "source": [
    "## Youden's index"
   ]
  },
  {
   "cell_type": "code",
   "execution_count": 76,
   "id": "591eea08",
   "metadata": {},
   "outputs": [],
   "source": [
    "fpr, tpr, thresholds = roc_curve(y_test, y_pred_prob) \n"
   ]
  },
  {
   "cell_type": "code",
   "execution_count": 77,
   "id": "cdd0f4a4",
   "metadata": {},
   "outputs": [
    {
     "data": {
      "text/html": [
       "<div>\n",
       "<style scoped>\n",
       "    .dataframe tbody tr th:only-of-type {\n",
       "        vertical-align: middle;\n",
       "    }\n",
       "\n",
       "    .dataframe tbody tr th {\n",
       "        vertical-align: top;\n",
       "    }\n",
       "\n",
       "    .dataframe thead th {\n",
       "        text-align: right;\n",
       "    }\n",
       "</style>\n",
       "<table border=\"1\" class=\"dataframe\">\n",
       "  <thead>\n",
       "    <tr style=\"text-align: right;\">\n",
       "      <th></th>\n",
       "      <th>TPR</th>\n",
       "      <th>FPR</th>\n",
       "      <th>Threshold</th>\n",
       "      <th>Difference</th>\n",
       "    </tr>\n",
       "  </thead>\n",
       "  <tbody>\n",
       "    <tr>\n",
       "      <th>0</th>\n",
       "      <td>0.693366</td>\n",
       "      <td>0.230385</td>\n",
       "      <td>0.480969</td>\n",
       "      <td>0.462981</td>\n",
       "    </tr>\n",
       "  </tbody>\n",
       "</table>\n",
       "</div>"
      ],
      "text/plain": [
       "        TPR       FPR  Threshold  Difference\n",
       "0  0.693366  0.230385   0.480969    0.462981"
      ]
     },
     "execution_count": 77,
     "metadata": {},
     "output_type": "execute_result"
    }
   ],
   "source": [
    "youdens_table = pd.DataFrame({'TPR': tpr,\n",
    "                             'FPR': fpr,\n",
    "                             'Threshold': thresholds})\n",
    "youdens_table['Difference'] = youdens_table.TPR - youdens_table.FPR\n",
    "youdens_table = youdens_table.sort_values('Difference', ascending = False).reset_index(drop = True)\n",
    "youdens_table.head(1) #first value will give best value"
   ]
  },
  {
   "cell_type": "code",
   "execution_count": 78,
   "id": "aa383e67",
   "metadata": {},
   "outputs": [],
   "source": [
    "y_pred_youden = [ 0 if x < 0.48 else 1 for x in y_pred_prob]"
   ]
  },
  {
   "cell_type": "code",
   "execution_count": 79,
   "id": "f5840f75",
   "metadata": {},
   "outputs": [
    {
     "data": {
      "text/plain": [
       "array([[7999, 2414],\n",
       "       [3093, 7007]], dtype=int64)"
      ]
     },
     "execution_count": 79,
     "metadata": {},
     "output_type": "execute_result"
    }
   ],
   "source": [
    "cm = confusion_matrix(y_test, y_pred_youden)\n",
    "cm"
   ]
  },
  {
   "cell_type": "code",
   "execution_count": 80,
   "id": "73f8e8c8",
   "metadata": {},
   "outputs": [
    {
     "name": "stdout",
     "output_type": "stream",
     "text": [
      "              precision    recall  f1-score   support\n",
      "\n",
      "           0       0.72      0.77      0.74     10413\n",
      "           1       0.74      0.69      0.72     10100\n",
      "\n",
      "    accuracy                           0.73     20513\n",
      "   macro avg       0.73      0.73      0.73     20513\n",
      "weighted avg       0.73      0.73      0.73     20513\n",
      "\n"
     ]
    }
   ],
   "source": [
    "acc_table = classification_report(y_test, y_pred_youden)\n",
    "\n",
    "# print the table\n",
    "print(acc_table)"
   ]
  },
  {
   "cell_type": "code",
   "execution_count": 81,
   "id": "b88defbc",
   "metadata": {},
   "outputs": [
    {
     "name": "stdout",
     "output_type": "stream",
     "text": [
      "kappa value: 0.4624039796531171\n"
     ]
    }
   ],
   "source": [
    "print('kappa value:',cohen_kappa_score(y_test, y_pred_youden))"
   ]
  },
  {
   "cell_type": "code",
   "execution_count": 82,
   "id": "733ec6ca",
   "metadata": {},
   "outputs": [],
   "source": [
    "#RFE\n",
    "from sklearn.feature_selection import RFE"
   ]
  },
  {
   "cell_type": "code",
   "execution_count": 83,
   "id": "da981c2c",
   "metadata": {},
   "outputs": [
    {
     "data": {
      "text/html": [
       "<div>\n",
       "<style scoped>\n",
       "    .dataframe tbody tr th:only-of-type {\n",
       "        vertical-align: middle;\n",
       "    }\n",
       "\n",
       "    .dataframe tbody tr th {\n",
       "        vertical-align: top;\n",
       "    }\n",
       "\n",
       "    .dataframe thead th {\n",
       "        text-align: right;\n",
       "    }\n",
       "</style>\n",
       "<table border=\"1\" class=\"dataframe\">\n",
       "  <thead>\n",
       "    <tr style=\"text-align: right;\">\n",
       "      <th></th>\n",
       "      <th>age_year</th>\n",
       "      <th>gender</th>\n",
       "      <th>height</th>\n",
       "      <th>weight</th>\n",
       "      <th>ap_hi</th>\n",
       "      <th>ap_lo</th>\n",
       "      <th>cholesterol</th>\n",
       "      <th>gluc</th>\n",
       "      <th>smoke</th>\n",
       "      <th>alco</th>\n",
       "      <th>active</th>\n",
       "      <th>bmi</th>\n",
       "    </tr>\n",
       "  </thead>\n",
       "  <tbody>\n",
       "    <tr>\n",
       "      <th>10853</th>\n",
       "      <td>62.476712</td>\n",
       "      <td>2</td>\n",
       "      <td>163</td>\n",
       "      <td>64.0</td>\n",
       "      <td>120</td>\n",
       "      <td>80</td>\n",
       "      <td>1</td>\n",
       "      <td>1</td>\n",
       "      <td>0</td>\n",
       "      <td>0</td>\n",
       "      <td>1</td>\n",
       "      <td>24.088223</td>\n",
       "    </tr>\n",
       "    <tr>\n",
       "      <th>32275</th>\n",
       "      <td>39.600000</td>\n",
       "      <td>2</td>\n",
       "      <td>173</td>\n",
       "      <td>73.0</td>\n",
       "      <td>110</td>\n",
       "      <td>80</td>\n",
       "      <td>2</td>\n",
       "      <td>2</td>\n",
       "      <td>0</td>\n",
       "      <td>0</td>\n",
       "      <td>1</td>\n",
       "      <td>24.391059</td>\n",
       "    </tr>\n",
       "    <tr>\n",
       "      <th>49431</th>\n",
       "      <td>60.249315</td>\n",
       "      <td>2</td>\n",
       "      <td>170</td>\n",
       "      <td>64.0</td>\n",
       "      <td>160</td>\n",
       "      <td>90</td>\n",
       "      <td>1</td>\n",
       "      <td>1</td>\n",
       "      <td>0</td>\n",
       "      <td>0</td>\n",
       "      <td>0</td>\n",
       "      <td>22.145329</td>\n",
       "    </tr>\n",
       "    <tr>\n",
       "      <th>48096</th>\n",
       "      <td>50.123288</td>\n",
       "      <td>2</td>\n",
       "      <td>171</td>\n",
       "      <td>92.0</td>\n",
       "      <td>110</td>\n",
       "      <td>70</td>\n",
       "      <td>1</td>\n",
       "      <td>3</td>\n",
       "      <td>1</td>\n",
       "      <td>0</td>\n",
       "      <td>1</td>\n",
       "      <td>31.462672</td>\n",
       "    </tr>\n",
       "    <tr>\n",
       "      <th>56361</th>\n",
       "      <td>63.882192</td>\n",
       "      <td>2</td>\n",
       "      <td>165</td>\n",
       "      <td>85.0</td>\n",
       "      <td>120</td>\n",
       "      <td>80</td>\n",
       "      <td>1</td>\n",
       "      <td>1</td>\n",
       "      <td>0</td>\n",
       "      <td>0</td>\n",
       "      <td>0</td>\n",
       "      <td>31.221304</td>\n",
       "    </tr>\n",
       "  </tbody>\n",
       "</table>\n",
       "</div>"
      ],
      "text/plain": [
       "        age_year  gender  height  weight  ap_hi  ap_lo  cholesterol  gluc  \\\n",
       "10853  62.476712       2     163    64.0    120     80            1     1   \n",
       "32275  39.600000       2     173    73.0    110     80            2     2   \n",
       "49431  60.249315       2     170    64.0    160     90            1     1   \n",
       "48096  50.123288       2     171    92.0    110     70            1     3   \n",
       "56361  63.882192       2     165    85.0    120     80            1     1   \n",
       "\n",
       "       smoke  alco  active        bmi  \n",
       "10853      0     0       1  24.088223  \n",
       "32275      0     0       1  24.391059  \n",
       "49431      0     0       0  22.145329  \n",
       "48096      1     0       1  31.462672  \n",
       "56361      0     0       0  31.221304  "
      ]
     },
     "execution_count": 83,
     "metadata": {},
     "output_type": "execute_result"
    }
   ],
   "source": [
    "X_train.head()"
   ]
  },
  {
   "cell_type": "code",
   "execution_count": 84,
   "id": "8390d9d8",
   "metadata": {},
   "outputs": [
    {
     "name": "stderr",
     "output_type": "stream",
     "text": [
      "C:\\Users\\Nilesh Patil\\anaconda3\\lib\\site-packages\\sklearn\\linear_model\\_logistic.py:458: ConvergenceWarning: lbfgs failed to converge (status=1):\n",
      "STOP: TOTAL NO. of ITERATIONS REACHED LIMIT.\n",
      "\n",
      "Increase the number of iterations (max_iter) or scale the data as shown in:\n",
      "    https://scikit-learn.org/stable/modules/preprocessing.html\n",
      "Please also refer to the documentation for alternative solver options:\n",
      "    https://scikit-learn.org/stable/modules/linear_model.html#logistic-regression\n",
      "  n_iter_i = _check_optimize_result(\n",
      "C:\\Users\\Nilesh Patil\\anaconda3\\lib\\site-packages\\sklearn\\linear_model\\_logistic.py:458: ConvergenceWarning: lbfgs failed to converge (status=1):\n",
      "STOP: TOTAL NO. of ITERATIONS REACHED LIMIT.\n",
      "\n",
      "Increase the number of iterations (max_iter) or scale the data as shown in:\n",
      "    https://scikit-learn.org/stable/modules/preprocessing.html\n",
      "Please also refer to the documentation for alternative solver options:\n",
      "    https://scikit-learn.org/stable/modules/linear_model.html#logistic-regression\n",
      "  n_iter_i = _check_optimize_result(\n",
      "C:\\Users\\Nilesh Patil\\anaconda3\\lib\\site-packages\\sklearn\\linear_model\\_logistic.py:458: ConvergenceWarning: lbfgs failed to converge (status=1):\n",
      "STOP: TOTAL NO. of ITERATIONS REACHED LIMIT.\n",
      "\n",
      "Increase the number of iterations (max_iter) or scale the data as shown in:\n",
      "    https://scikit-learn.org/stable/modules/preprocessing.html\n",
      "Please also refer to the documentation for alternative solver options:\n",
      "    https://scikit-learn.org/stable/modules/linear_model.html#logistic-regression\n",
      "  n_iter_i = _check_optimize_result(\n",
      "C:\\Users\\Nilesh Patil\\anaconda3\\lib\\site-packages\\sklearn\\linear_model\\_logistic.py:458: ConvergenceWarning: lbfgs failed to converge (status=1):\n",
      "STOP: TOTAL NO. of ITERATIONS REACHED LIMIT.\n",
      "\n",
      "Increase the number of iterations (max_iter) or scale the data as shown in:\n",
      "    https://scikit-learn.org/stable/modules/preprocessing.html\n",
      "Please also refer to the documentation for alternative solver options:\n",
      "    https://scikit-learn.org/stable/modules/linear_model.html#logistic-regression\n",
      "  n_iter_i = _check_optimize_result(\n",
      "C:\\Users\\Nilesh Patil\\anaconda3\\lib\\site-packages\\sklearn\\linear_model\\_logistic.py:458: ConvergenceWarning: lbfgs failed to converge (status=1):\n",
      "STOP: TOTAL NO. of ITERATIONS REACHED LIMIT.\n",
      "\n",
      "Increase the number of iterations (max_iter) or scale the data as shown in:\n",
      "    https://scikit-learn.org/stable/modules/preprocessing.html\n",
      "Please also refer to the documentation for alternative solver options:\n",
      "    https://scikit-learn.org/stable/modules/linear_model.html#logistic-regression\n",
      "  n_iter_i = _check_optimize_result(\n"
     ]
    },
    {
     "name": "stdout",
     "output_type": "stream",
     "text": [
      "Index(['cholesterol', 'smoke', 'active'], dtype='object')\n"
     ]
    }
   ],
   "source": [
    "logreg = LogisticRegression()\n",
    "rfe_model = RFE(estimator = logreg, n_features_to_select = 3)\n",
    "\n",
    "# fit the RFE model on the train dataset using fit()\n",
    "rfe_model = rfe_model.fit(X_train, y_train)\n",
    "feat_index = pd.Series(data = rfe_model.ranking_, index = X_train.columns)\n",
    "signi_feat_rfe = feat_index[feat_index==1].index\n",
    "print(signi_feat_rfe)"
   ]
  },
  {
   "cell_type": "code",
   "execution_count": 85,
   "id": "f3b2672e",
   "metadata": {},
   "outputs": [
    {
     "name": "stdout",
     "output_type": "stream",
     "text": [
      "Optimization terminated successfully.\n",
      "         Current function value: 0.666187\n",
      "         Iterations 5\n",
      "                           Logit Regression Results                           \n",
      "==============================================================================\n",
      "Dep. Variable:                 cardio   No. Observations:                47863\n",
      "Model:                          Logit   Df Residuals:                    47859\n",
      "Method:                           MLE   Df Model:                            3\n",
      "Date:                Tue, 24 Jan 2023   Pseudo R-squ.:                 0.03880\n",
      "Time:                        13:14:29   Log-Likelihood:                -31886.\n",
      "converged:                       True   LL-Null:                       -33173.\n",
      "Covariance Type:            nonrobust   LLR p-value:                     0.000\n",
      "===============================================================================\n",
      "                  coef    std err          z      P>|z|      [0.025      0.975]\n",
      "-------------------------------------------------------------------------------\n",
      "const          -0.8126      0.029    -28.196      0.000      -0.869      -0.756\n",
      "cholesterol     0.7130      0.015     47.316      0.000       0.683       0.743\n",
      "smoke          -0.1316      0.033     -3.933      0.000      -0.197      -0.066\n",
      "active         -0.1964      0.024     -8.293      0.000      -0.243      -0.150\n",
      "===============================================================================\n"
     ]
    }
   ],
   "source": [
    "X=X_train[['cholesterol', 'smoke', 'active']]\n",
    "X=sm.add_constant(X)\n",
    "logreg_rfe = sm.Logit(y_train,X ).fit()\n",
    "print(logreg_rfe.summary())"
   ]
  },
  {
   "cell_type": "code",
   "execution_count": 86,
   "id": "3ef054b3",
   "metadata": {},
   "outputs": [
    {
     "data": {
      "text/plain": [
       "30334    0.426546\n",
       "36914    0.426546\n",
       "58824    0.426546\n",
       "63213    0.426546\n",
       "34787    0.475127\n",
       "dtype: float64"
      ]
     },
     "execution_count": 86,
     "metadata": {},
     "output_type": "execute_result"
    }
   ],
   "source": [
    "x_t=X_test[['cholesterol', 'smoke', 'active']]\n",
    "X_t=sm.add_constant(x_t)\n",
    "y_pred_prob_rfe = logreg_rfe.predict(X_t)\n",
    "\n",
    "# print the y_pred_prob_rfe\n",
    "y_pred_prob_rfe.head()"
   ]
  },
  {
   "cell_type": "code",
   "execution_count": 87,
   "id": "00dde7dc",
   "metadata": {},
   "outputs": [],
   "source": [
    "y_pred_rfe = [ 0 if x < 0.48 else 1 for x in y_pred_prob_rfe]"
   ]
  },
  {
   "cell_type": "code",
   "execution_count": 88,
   "id": "417fda6f",
   "metadata": {},
   "outputs": [
    {
     "data": {
      "text/plain": [
       "[0, 0, 0, 0, 0]"
      ]
     },
     "execution_count": 88,
     "metadata": {},
     "output_type": "execute_result"
    }
   ],
   "source": [
    "y_pred_rfe[0:5]"
   ]
  },
  {
   "cell_type": "code",
   "execution_count": 89,
   "id": "5ec56267",
   "metadata": {},
   "outputs": [
    {
     "name": "stdout",
     "output_type": "stream",
     "text": [
      "              precision    recall  f1-score   support\n",
      "\n",
      "           0       0.57      0.84      0.68     10413\n",
      "           1       0.67      0.34      0.45     10100\n",
      "\n",
      "    accuracy                           0.59     20513\n",
      "   macro avg       0.62      0.59      0.56     20513\n",
      "weighted avg       0.62      0.59      0.56     20513\n",
      "\n"
     ]
    }
   ],
   "source": [
    "print(classification_report(y_test, y_pred_rfe))"
   ]
  },
  {
   "cell_type": "code",
   "execution_count": 90,
   "id": "cdedb336",
   "metadata": {},
   "outputs": [
    {
     "name": "stdout",
     "output_type": "stream",
     "text": [
      "kappa value: 0.4624039796531171\n"
     ]
    }
   ],
   "source": [
    "print('kappa value:',cohen_kappa_score(y_test, y_pred_youden))"
   ]
  },
  {
   "cell_type": "code",
   "execution_count": 92,
   "id": "be1180ff",
   "metadata": {},
   "outputs": [],
   "source": [
    "LR=LogisticRegression()"
   ]
  },
  {
   "cell_type": "raw",
   "id": "b7796f76",
   "metadata": {},
   "source": [
    "#Boosting LR\n",
    "#Let us boost the LR model\n",
    "Ab=AdaBoostClassifier(base_estimator=LR,random_state=0)\n",
    "params={'n_estimators':np.arange(1,100)}\n",
    "kf=KFold(n_splits=3,shuffle=True,random_state=0)\n",
    "GS=GridSearchCV(Ab,params,cv=kf,scoring='f1_weighted')\n",
    "GS.fit(x_std,y_train)"
   ]
  },
  {
   "cell_type": "code",
   "execution_count": 94,
   "id": "3c73baf6",
   "metadata": {},
   "outputs": [
    {
     "data": {
      "text/plain": [
       "{'n_estimators': 41}"
      ]
     },
     "execution_count": 94,
     "metadata": {},
     "output_type": "execute_result"
    }
   ],
   "source": [
    "GS.best_params_"
   ]
  },
  {
   "cell_type": "code",
   "execution_count": 95,
   "id": "26075259",
   "metadata": {},
   "outputs": [
    {
     "data": {
      "text/html": [
       "<style>#sk-container-id-4 {color: black;background-color: white;}#sk-container-id-4 pre{padding: 0;}#sk-container-id-4 div.sk-toggleable {background-color: white;}#sk-container-id-4 label.sk-toggleable__label {cursor: pointer;display: block;width: 100%;margin-bottom: 0;padding: 0.3em;box-sizing: border-box;text-align: center;}#sk-container-id-4 label.sk-toggleable__label-arrow:before {content: \"▸\";float: left;margin-right: 0.25em;color: #696969;}#sk-container-id-4 label.sk-toggleable__label-arrow:hover:before {color: black;}#sk-container-id-4 div.sk-estimator:hover label.sk-toggleable__label-arrow:before {color: black;}#sk-container-id-4 div.sk-toggleable__content {max-height: 0;max-width: 0;overflow: hidden;text-align: left;background-color: #f0f8ff;}#sk-container-id-4 div.sk-toggleable__content pre {margin: 0.2em;color: black;border-radius: 0.25em;background-color: #f0f8ff;}#sk-container-id-4 input.sk-toggleable__control:checked~div.sk-toggleable__content {max-height: 200px;max-width: 100%;overflow: auto;}#sk-container-id-4 input.sk-toggleable__control:checked~label.sk-toggleable__label-arrow:before {content: \"▾\";}#sk-container-id-4 div.sk-estimator input.sk-toggleable__control:checked~label.sk-toggleable__label {background-color: #d4ebff;}#sk-container-id-4 div.sk-label input.sk-toggleable__control:checked~label.sk-toggleable__label {background-color: #d4ebff;}#sk-container-id-4 input.sk-hidden--visually {border: 0;clip: rect(1px 1px 1px 1px);clip: rect(1px, 1px, 1px, 1px);height: 1px;margin: -1px;overflow: hidden;padding: 0;position: absolute;width: 1px;}#sk-container-id-4 div.sk-estimator {font-family: monospace;background-color: #f0f8ff;border: 1px dotted black;border-radius: 0.25em;box-sizing: border-box;margin-bottom: 0.5em;}#sk-container-id-4 div.sk-estimator:hover {background-color: #d4ebff;}#sk-container-id-4 div.sk-parallel-item::after {content: \"\";width: 100%;border-bottom: 1px solid gray;flex-grow: 1;}#sk-container-id-4 div.sk-label:hover label.sk-toggleable__label {background-color: #d4ebff;}#sk-container-id-4 div.sk-serial::before {content: \"\";position: absolute;border-left: 1px solid gray;box-sizing: border-box;top: 0;bottom: 0;left: 50%;z-index: 0;}#sk-container-id-4 div.sk-serial {display: flex;flex-direction: column;align-items: center;background-color: white;padding-right: 0.2em;padding-left: 0.2em;position: relative;}#sk-container-id-4 div.sk-item {position: relative;z-index: 1;}#sk-container-id-4 div.sk-parallel {display: flex;align-items: stretch;justify-content: center;background-color: white;position: relative;}#sk-container-id-4 div.sk-item::before, #sk-container-id-4 div.sk-parallel-item::before {content: \"\";position: absolute;border-left: 1px solid gray;box-sizing: border-box;top: 0;bottom: 0;left: 50%;z-index: -1;}#sk-container-id-4 div.sk-parallel-item {display: flex;flex-direction: column;z-index: 1;position: relative;background-color: white;}#sk-container-id-4 div.sk-parallel-item:first-child::after {align-self: flex-end;width: 50%;}#sk-container-id-4 div.sk-parallel-item:last-child::after {align-self: flex-start;width: 50%;}#sk-container-id-4 div.sk-parallel-item:only-child::after {width: 0;}#sk-container-id-4 div.sk-dashed-wrapped {border: 1px dashed gray;margin: 0 0.4em 0.5em 0.4em;box-sizing: border-box;padding-bottom: 0.4em;background-color: white;}#sk-container-id-4 div.sk-label label {font-family: monospace;font-weight: bold;display: inline-block;line-height: 1.2em;}#sk-container-id-4 div.sk-label-container {text-align: center;}#sk-container-id-4 div.sk-container {/* jupyter's `normalize.less` sets `[hidden] { display: none; }` but bootstrap.min.css set `[hidden] { display: none !important; }` so we also need the `!important` here to be able to override the default hidden behavior on the sphinx rendered scikit-learn.org. See: https://github.com/scikit-learn/scikit-learn/issues/21755 */display: inline-block !important;position: relative;}#sk-container-id-4 div.sk-text-repr-fallback {display: none;}</style><div id=\"sk-container-id-4\" class=\"sk-top-container\"><div class=\"sk-text-repr-fallback\"><pre>AdaBoostClassifier(base_estimator=LogisticRegression(), n_estimators=41,\n",
       "                   random_state=0)</pre><b>In a Jupyter environment, please rerun this cell to show the HTML representation or trust the notebook. <br />On GitHub, the HTML representation is unable to render, please try loading this page with nbviewer.org.</b></div><div class=\"sk-container\" hidden><div class=\"sk-item sk-dashed-wrapped\"><div class=\"sk-label-container\"><div class=\"sk-label sk-toggleable\"><input class=\"sk-toggleable__control sk-hidden--visually\" id=\"sk-estimator-id-9\" type=\"checkbox\" ><label for=\"sk-estimator-id-9\" class=\"sk-toggleable__label sk-toggleable__label-arrow\">AdaBoostClassifier</label><div class=\"sk-toggleable__content\"><pre>AdaBoostClassifier(base_estimator=LogisticRegression(), n_estimators=41,\n",
       "                   random_state=0)</pre></div></div></div><div class=\"sk-parallel\"><div class=\"sk-parallel-item\"><div class=\"sk-item\"><div class=\"sk-label-container\"><div class=\"sk-label sk-toggleable\"><input class=\"sk-toggleable__control sk-hidden--visually\" id=\"sk-estimator-id-10\" type=\"checkbox\" ><label for=\"sk-estimator-id-10\" class=\"sk-toggleable__label sk-toggleable__label-arrow\">base_estimator: LogisticRegression</label><div class=\"sk-toggleable__content\"><pre>LogisticRegression()</pre></div></div></div><div class=\"sk-serial\"><div class=\"sk-item\"><div class=\"sk-estimator sk-toggleable\"><input class=\"sk-toggleable__control sk-hidden--visually\" id=\"sk-estimator-id-11\" type=\"checkbox\" ><label for=\"sk-estimator-id-11\" class=\"sk-toggleable__label sk-toggleable__label-arrow\">LogisticRegression</label><div class=\"sk-toggleable__content\"><pre>LogisticRegression()</pre></div></div></div></div></div></div></div></div></div></div>"
      ],
      "text/plain": [
       "AdaBoostClassifier(base_estimator=LogisticRegression(), n_estimators=41,\n",
       "                   random_state=0)"
      ]
     },
     "execution_count": 95,
     "metadata": {},
     "output_type": "execute_result"
    }
   ],
   "source": [
    "GS.best_estimator_"
   ]
  },
  {
   "cell_type": "code",
   "execution_count": 96,
   "id": "3fbbe2fa",
   "metadata": {},
   "outputs": [
    {
     "data": {
      "text/plain": [
       "0.7232501213493049"
      ]
     },
     "execution_count": 96,
     "metadata": {},
     "output_type": "execute_result"
    }
   ],
   "source": [
    "GS.best_score_"
   ]
  },
  {
   "cell_type": "markdown",
   "id": "5e377bd3",
   "metadata": {},
   "source": [
    "AB_LR=AdaBoostClassifier(base_estimator=LR,n_estimators=41,random_state=0)"
   ]
  },
  {
   "cell_type": "markdown",
   "id": "b1a3cdb0",
   "metadata": {},
   "source": [
    "score=cross_val_score(AB_LR,X_train,y_train,cv=kf,scoring='f1_weighted')\n",
    "print(classification_report(score))"
   ]
  },
  {
   "cell_type": "markdown",
   "id": "dadee884",
   "metadata": {},
   "source": [
    "# XGBoost"
   ]
  },
  {
   "cell_type": "code",
   "execution_count": 33,
   "id": "67131887",
   "metadata": {},
   "outputs": [
    {
     "name": "stdout",
     "output_type": "stream",
     "text": [
      "              precision    recall  f1-score   support\n",
      "\n",
      "           0       0.72      0.78      0.75     10372\n",
      "           1       0.75      0.69      0.72     10134\n",
      "\n",
      "    accuracy                           0.73     20506\n",
      "   macro avg       0.74      0.73      0.73     20506\n",
      "weighted avg       0.74      0.73      0.73     20506\n",
      "\n"
     ]
    }
   ],
   "source": [
    "xg=XGBClassifier()\n",
    "xg.fit(X_train,y_train)\n",
    "y_pred=xg.predict(X_test)\n",
    "print(classification_report(y_test,y_pred))"
   ]
  },
  {
   "cell_type": "code",
   "execution_count": 34,
   "id": "77499a18",
   "metadata": {},
   "outputs": [
    {
     "name": "stdout",
     "output_type": "stream",
     "text": [
      "              precision    recall  f1-score   support\n",
      "\n",
      "           0       0.75      0.81      0.78     24243\n",
      "           1       0.79      0.73      0.75     23602\n",
      "\n",
      "    accuracy                           0.77     47845\n",
      "   macro avg       0.77      0.77      0.77     47845\n",
      "weighted avg       0.77      0.77      0.77     47845\n",
      "\n"
     ]
    }
   ],
   "source": [
    "xg=XGBClassifier()\n",
    "xg.fit(X_train,y_train)\n",
    "y_pred=xg.predict(X_train)\n",
    "print(classification_report(y_train,y_pred))"
   ]
  },
  {
   "cell_type": "raw",
   "id": "13e7a901",
   "metadata": {},
   "source": [
    "tuning_parameters = {\"n_estimators\": range(1,100),\n",
    "                    'learning_rate': [0.1, 0.2, 0.3, 0.4, 0.5, 0.6],\n",
    "                     'max_depth': range(3,10),\n",
    "                     'gamma': [0, 1, 2, 3, 4]}\n",
    "xgb_model = XGBClassifier()\n",
    "xgb_grid = GridSearchCV(estimator = xgb_model, param_grid = tuning_parameters, cv =20, scoring = 'recall')\n",
    "xgb_grid.fit(X_train, y_train)\n",
    "print('Best parameters for XGBoost classifier: ', xgb_grid.best_params_, '\\n')"
   ]
  },
  {
   "cell_type": "code",
   "execution_count": 35,
   "id": "bee2ee41",
   "metadata": {},
   "outputs": [
    {
     "name": "stdout",
     "output_type": "stream",
     "text": [
      "              precision    recall  f1-score   support\n",
      "\n",
      "           0       0.72      0.78      0.75     10372\n",
      "           1       0.75      0.69      0.72     10134\n",
      "\n",
      "    accuracy                           0.73     20506\n",
      "   macro avg       0.74      0.73      0.73     20506\n",
      "weighted avg       0.74      0.73      0.73     20506\n",
      "\n"
     ]
    }
   ],
   "source": [
    "xg_tuned=XGBClassifier(max_depth = 3, gamma = 0,n_estimators=1,learning_rate=0.1)\n",
    "xg.fit(X_train,y_train)\n",
    "y_pred=xg.predict(X_test)\n",
    "print(classification_report(y_test,y_pred))"
   ]
  },
  {
   "cell_type": "code",
   "execution_count": 36,
   "id": "a624886c",
   "metadata": {},
   "outputs": [
    {
     "name": "stdout",
     "output_type": "stream",
     "text": [
      "              precision    recall  f1-score   support\n",
      "\n",
      "           0       0.75      0.81      0.78     24243\n",
      "           1       0.79      0.73      0.75     23602\n",
      "\n",
      "    accuracy                           0.77     47845\n",
      "   macro avg       0.77      0.77      0.77     47845\n",
      "weighted avg       0.77      0.77      0.77     47845\n",
      "\n"
     ]
    }
   ],
   "source": [
    "xg_tuned=XGBClassifier(max_depth = 3, gamma = 0,n_estimators=1,learning_rate=0.1)\n",
    "xg.fit(X_train,y_train)\n",
    "y_pred=xg.predict(X_train)\n",
    "print(classification_report(y_train,y_pred))"
   ]
  },
  {
   "cell_type": "code",
   "execution_count": null,
   "id": "0ef6e9e4",
   "metadata": {},
   "outputs": [],
   "source": []
  },
  {
   "cell_type": "code",
   "execution_count": null,
   "id": "1a5cc07d",
   "metadata": {},
   "outputs": [],
   "source": []
  },
  {
   "cell_type": "code",
   "execution_count": null,
   "id": "c7ad30fe",
   "metadata": {},
   "outputs": [],
   "source": []
  },
  {
   "cell_type": "code",
   "execution_count": null,
   "id": "36aa79f9",
   "metadata": {},
   "outputs": [],
   "source": []
  },
  {
   "cell_type": "code",
   "execution_count": null,
   "id": "6fdd9a89",
   "metadata": {},
   "outputs": [],
   "source": []
  },
  {
   "cell_type": "code",
   "execution_count": null,
   "id": "57e07abb",
   "metadata": {},
   "outputs": [],
   "source": []
  },
  {
   "cell_type": "code",
   "execution_count": null,
   "id": "8b3067c9",
   "metadata": {},
   "outputs": [],
   "source": []
  },
  {
   "cell_type": "code",
   "execution_count": null,
   "id": "a782e6d4",
   "metadata": {},
   "outputs": [],
   "source": []
  },
  {
   "cell_type": "code",
   "execution_count": null,
   "id": "e1a7a9c0",
   "metadata": {},
   "outputs": [],
   "source": []
  },
  {
   "cell_type": "code",
   "execution_count": null,
   "id": "646f0e23",
   "metadata": {},
   "outputs": [],
   "source": []
  },
  {
   "cell_type": "code",
   "execution_count": null,
   "id": "58336e71",
   "metadata": {},
   "outputs": [],
   "source": []
  },
  {
   "cell_type": "code",
   "execution_count": null,
   "id": "2fe753ca",
   "metadata": {},
   "outputs": [],
   "source": []
  },
  {
   "cell_type": "code",
   "execution_count": null,
   "id": "2f096e39",
   "metadata": {},
   "outputs": [],
   "source": []
  },
  {
   "cell_type": "code",
   "execution_count": null,
   "id": "d895aae0",
   "metadata": {},
   "outputs": [],
   "source": []
  },
  {
   "cell_type": "code",
   "execution_count": null,
   "id": "9e380f89",
   "metadata": {},
   "outputs": [],
   "source": []
  },
  {
   "cell_type": "code",
   "execution_count": null,
   "id": "bfb36189",
   "metadata": {},
   "outputs": [],
   "source": []
  },
  {
   "cell_type": "code",
   "execution_count": null,
   "id": "c2ec2249",
   "metadata": {},
   "outputs": [],
   "source": []
  },
  {
   "cell_type": "code",
   "execution_count": null,
   "id": "a2672bd2",
   "metadata": {},
   "outputs": [],
   "source": []
  },
  {
   "cell_type": "code",
   "execution_count": null,
   "id": "898e5f94",
   "metadata": {},
   "outputs": [],
   "source": []
  },
  {
   "cell_type": "code",
   "execution_count": null,
   "id": "fa9b423c",
   "metadata": {},
   "outputs": [],
   "source": []
  },
  {
   "cell_type": "code",
   "execution_count": null,
   "id": "48fc9f53",
   "metadata": {},
   "outputs": [],
   "source": []
  },
  {
   "cell_type": "code",
   "execution_count": null,
   "id": "a1304f92",
   "metadata": {},
   "outputs": [],
   "source": []
  },
  {
   "cell_type": "code",
   "execution_count": null,
   "id": "bc34bf9e",
   "metadata": {},
   "outputs": [],
   "source": []
  },
  {
   "cell_type": "code",
   "execution_count": null,
   "id": "4732e6e9",
   "metadata": {},
   "outputs": [],
   "source": []
  },
  {
   "cell_type": "code",
   "execution_count": null,
   "id": "5117132e",
   "metadata": {},
   "outputs": [],
   "source": []
  },
  {
   "cell_type": "code",
   "execution_count": null,
   "id": "18a12f49",
   "metadata": {},
   "outputs": [],
   "source": []
  },
  {
   "cell_type": "code",
   "execution_count": null,
   "id": "0a35bca2",
   "metadata": {},
   "outputs": [],
   "source": []
  },
  {
   "cell_type": "code",
   "execution_count": null,
   "id": "295eff4d",
   "metadata": {},
   "outputs": [],
   "source": []
  },
  {
   "cell_type": "code",
   "execution_count": null,
   "id": "ce181c05",
   "metadata": {},
   "outputs": [],
   "source": []
  },
  {
   "cell_type": "code",
   "execution_count": null,
   "id": "e9627a05",
   "metadata": {},
   "outputs": [],
   "source": []
  },
  {
   "cell_type": "code",
   "execution_count": null,
   "id": "d9f5165b",
   "metadata": {},
   "outputs": [],
   "source": []
  },
  {
   "cell_type": "code",
   "execution_count": null,
   "id": "1166bb10",
   "metadata": {},
   "outputs": [],
   "source": []
  },
  {
   "cell_type": "code",
   "execution_count": null,
   "id": "998b1b0b",
   "metadata": {},
   "outputs": [],
   "source": []
  },
  {
   "cell_type": "code",
   "execution_count": null,
   "id": "50630e9e",
   "metadata": {},
   "outputs": [],
   "source": []
  },
  {
   "cell_type": "code",
   "execution_count": null,
   "id": "79b65146",
   "metadata": {},
   "outputs": [],
   "source": []
  },
  {
   "cell_type": "code",
   "execution_count": null,
   "id": "dbdb6684",
   "metadata": {},
   "outputs": [],
   "source": []
  },
  {
   "cell_type": "code",
   "execution_count": null,
   "id": "9f0d6b1a",
   "metadata": {},
   "outputs": [],
   "source": []
  },
  {
   "cell_type": "code",
   "execution_count": null,
   "id": "526b4851",
   "metadata": {},
   "outputs": [],
   "source": []
  },
  {
   "cell_type": "code",
   "execution_count": null,
   "id": "e402375f",
   "metadata": {},
   "outputs": [],
   "source": []
  },
  {
   "cell_type": "code",
   "execution_count": null,
   "id": "436faa10",
   "metadata": {},
   "outputs": [],
   "source": []
  }
 ],
 "metadata": {
  "kernelspec": {
   "display_name": "Python 3 (ipykernel)",
   "language": "python",
   "name": "python3"
  },
  "language_info": {
   "codemirror_mode": {
    "name": "ipython",
    "version": 3
   },
   "file_extension": ".py",
   "mimetype": "text/x-python",
   "name": "python",
   "nbconvert_exporter": "python",
   "pygments_lexer": "ipython3",
   "version": "3.9.12"
  }
 },
 "nbformat": 4,
 "nbformat_minor": 5
}
