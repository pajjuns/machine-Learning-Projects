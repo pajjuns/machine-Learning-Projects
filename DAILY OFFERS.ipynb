{
 "cells": [
  {
   "cell_type": "code",
   "execution_count": 3,
   "id": "b44688e8",
   "metadata": {},
   "outputs": [
    {
     "name": "stdout",
     "output_type": "stream",
     "text": [
      "Requirement already satisfied: xgboost in c:\\users\\pajju\\anaconda3\\lib\\site-packages (1.7.4)\n",
      "Requirement already satisfied: scipy in c:\\users\\pajju\\anaconda3\\lib\\site-packages (from xgboost) (1.7.3)\n",
      "Requirement already satisfied: numpy in c:\\users\\pajju\\anaconda3\\lib\\site-packages (from xgboost) (1.21.5)\n"
     ]
    }
   ],
   "source": [
    "import pandas as pd\n",
    "import numpy as np\n",
    "import matplotlib.pyplot as plt\n",
    "import seaborn as sns\n",
    "\n",
    "from sklearn.linear_model import LinearRegression, Lasso, Ridge\n",
    "from sklearn.tree import DecisionTreeRegressor\n",
    "from sklearn.svm import SVR\n",
    "from sklearn.neighbors import KNeighborsRegressor\n",
    "from sklearn.ensemble import RandomForestRegressor, AdaBoostRegressor, GradientBoostingRegressor\n",
    "import sys\n",
    "!{sys.executable} -m pip install xgboost"
   ]
  },
  {
   "cell_type": "code",
   "execution_count": 4,
   "id": "4c55ff97",
   "metadata": {},
   "outputs": [],
   "source": [
    "import xgboost"
   ]
  },
  {
   "cell_type": "code",
   "execution_count": 5,
   "id": "20ea67c1",
   "metadata": {
    "scrolled": true
   },
   "outputs": [],
   "source": [
    "df=pd.read_excel(\"~\\Desktop\\daily_offers.xlsx\")"
   ]
  },
  {
   "cell_type": "code",
   "execution_count": 6,
   "id": "581ef7ce",
   "metadata": {},
   "outputs": [
    {
     "data": {
      "text/html": [
       "<div>\n",
       "<style scoped>\n",
       "    .dataframe tbody tr th:only-of-type {\n",
       "        vertical-align: middle;\n",
       "    }\n",
       "\n",
       "    .dataframe tbody tr th {\n",
       "        vertical-align: top;\n",
       "    }\n",
       "\n",
       "    .dataframe thead th {\n",
       "        text-align: right;\n",
       "    }\n",
       "</style>\n",
       "<table border=\"1\" class=\"dataframe\">\n",
       "  <thead>\n",
       "    <tr style=\"text-align: right;\">\n",
       "      <th></th>\n",
       "      <th>id</th>\n",
       "      <th>item_date</th>\n",
       "      <th>quantity tons</th>\n",
       "      <th>customer</th>\n",
       "      <th>country</th>\n",
       "      <th>status</th>\n",
       "      <th>item type</th>\n",
       "      <th>application</th>\n",
       "      <th>thickness</th>\n",
       "      <th>width</th>\n",
       "      <th>material_ref</th>\n",
       "      <th>product_ref</th>\n",
       "      <th>delivery date</th>\n",
       "      <th>selling_price</th>\n",
       "    </tr>\n",
       "  </thead>\n",
       "  <tbody>\n",
       "    <tr>\n",
       "      <th>0</th>\n",
       "      <td>EC06F063-9DF0-440C-8764-0B0C05A4F6AE</td>\n",
       "      <td>20210401.0</td>\n",
       "      <td>54.151139</td>\n",
       "      <td>30156308.0</td>\n",
       "      <td>28.0</td>\n",
       "      <td>Won</td>\n",
       "      <td>W</td>\n",
       "      <td>10.0</td>\n",
       "      <td>2.00</td>\n",
       "      <td>1500.0</td>\n",
       "      <td>DEQ1 S460MC</td>\n",
       "      <td>1670798778</td>\n",
       "      <td>20210701.0</td>\n",
       "      <td>854.00</td>\n",
       "    </tr>\n",
       "    <tr>\n",
       "      <th>1</th>\n",
       "      <td>4E5F4B3D-DDDF-499D-AFDE-A3227EC49425</td>\n",
       "      <td>20210401.0</td>\n",
       "      <td>768.024839</td>\n",
       "      <td>30202938.0</td>\n",
       "      <td>25.0</td>\n",
       "      <td>Won</td>\n",
       "      <td>W</td>\n",
       "      <td>41.0</td>\n",
       "      <td>0.80</td>\n",
       "      <td>1210.0</td>\n",
       "      <td>0000000000000000000000000000000000104991</td>\n",
       "      <td>1668701718</td>\n",
       "      <td>20210401.0</td>\n",
       "      <td>1047.00</td>\n",
       "    </tr>\n",
       "    <tr>\n",
       "      <th>2</th>\n",
       "      <td>E140FF1B-2407-4C02-A0DD-780A093B1158</td>\n",
       "      <td>20210401.0</td>\n",
       "      <td>386.127949</td>\n",
       "      <td>30153963.0</td>\n",
       "      <td>30.0</td>\n",
       "      <td>Won</td>\n",
       "      <td>WI</td>\n",
       "      <td>28.0</td>\n",
       "      <td>0.38</td>\n",
       "      <td>952.0</td>\n",
       "      <td>S0380700</td>\n",
       "      <td>628377</td>\n",
       "      <td>20210101.0</td>\n",
       "      <td>644.33</td>\n",
       "    </tr>\n",
       "    <tr>\n",
       "      <th>3</th>\n",
       "      <td>F8D507A0-9C62-4EFE-831E-33E1DA53BB50</td>\n",
       "      <td>20210401.0</td>\n",
       "      <td>202.411065</td>\n",
       "      <td>30349574.0</td>\n",
       "      <td>32.0</td>\n",
       "      <td>Won</td>\n",
       "      <td>S</td>\n",
       "      <td>59.0</td>\n",
       "      <td>2.30</td>\n",
       "      <td>1317.0</td>\n",
       "      <td>DX51D+ZM310MAO 2.3X1317</td>\n",
       "      <td>1668701718</td>\n",
       "      <td>20210101.0</td>\n",
       "      <td>768.00</td>\n",
       "    </tr>\n",
       "    <tr>\n",
       "      <th>4</th>\n",
       "      <td>4E1C4E78-152B-430A-8094-ADD889C9D0AD</td>\n",
       "      <td>20210401.0</td>\n",
       "      <td>785.526262</td>\n",
       "      <td>30211560.0</td>\n",
       "      <td>28.0</td>\n",
       "      <td>Won</td>\n",
       "      <td>W</td>\n",
       "      <td>10.0</td>\n",
       "      <td>4.00</td>\n",
       "      <td>2000.0</td>\n",
       "      <td>2_S275JR+AR-CL1</td>\n",
       "      <td>640665</td>\n",
       "      <td>20210301.0</td>\n",
       "      <td>577.00</td>\n",
       "    </tr>\n",
       "  </tbody>\n",
       "</table>\n",
       "</div>"
      ],
      "text/plain": [
       "                                     id   item_date quantity tons    customer  \\\n",
       "0  EC06F063-9DF0-440C-8764-0B0C05A4F6AE  20210401.0     54.151139  30156308.0   \n",
       "1  4E5F4B3D-DDDF-499D-AFDE-A3227EC49425  20210401.0    768.024839  30202938.0   \n",
       "2  E140FF1B-2407-4C02-A0DD-780A093B1158  20210401.0    386.127949  30153963.0   \n",
       "3  F8D507A0-9C62-4EFE-831E-33E1DA53BB50  20210401.0    202.411065  30349574.0   \n",
       "4  4E1C4E78-152B-430A-8094-ADD889C9D0AD  20210401.0    785.526262  30211560.0   \n",
       "\n",
       "   country status item type  application  thickness   width  \\\n",
       "0     28.0    Won         W         10.0       2.00  1500.0   \n",
       "1     25.0    Won         W         41.0       0.80  1210.0   \n",
       "2     30.0    Won        WI         28.0       0.38   952.0   \n",
       "3     32.0    Won         S         59.0       2.30  1317.0   \n",
       "4     28.0    Won         W         10.0       4.00  2000.0   \n",
       "\n",
       "                               material_ref  product_ref  delivery date  \\\n",
       "0                               DEQ1 S460MC   1670798778     20210701.0   \n",
       "1  0000000000000000000000000000000000104991   1668701718     20210401.0   \n",
       "2                                  S0380700       628377     20210101.0   \n",
       "3                   DX51D+ZM310MAO 2.3X1317   1668701718     20210101.0   \n",
       "4                           2_S275JR+AR-CL1       640665     20210301.0   \n",
       "\n",
       "   selling_price  \n",
       "0         854.00  \n",
       "1        1047.00  \n",
       "2         644.33  \n",
       "3         768.00  \n",
       "4         577.00  "
      ]
     },
     "execution_count": 6,
     "metadata": {},
     "output_type": "execute_result"
    }
   ],
   "source": [
    "df.head()"
   ]
  },
  {
   "cell_type": "code",
   "execution_count": 7,
   "id": "3a6c1422",
   "metadata": {},
   "outputs": [
    {
     "data": {
      "text/plain": [
       "(181673, 14)"
      ]
     },
     "execution_count": 7,
     "metadata": {},
     "output_type": "execute_result"
    }
   ],
   "source": [
    "df.shape"
   ]
  },
  {
   "cell_type": "code",
   "execution_count": 8,
   "id": "64ea7ee6",
   "metadata": {
    "scrolled": true
   },
   "outputs": [
    {
     "data": {
      "text/html": [
       "<div>\n",
       "<style scoped>\n",
       "    .dataframe tbody tr th:only-of-type {\n",
       "        vertical-align: middle;\n",
       "    }\n",
       "\n",
       "    .dataframe tbody tr th {\n",
       "        vertical-align: top;\n",
       "    }\n",
       "\n",
       "    .dataframe thead th {\n",
       "        text-align: right;\n",
       "    }\n",
       "</style>\n",
       "<table border=\"1\" class=\"dataframe\">\n",
       "  <thead>\n",
       "    <tr style=\"text-align: right;\">\n",
       "      <th></th>\n",
       "      <th>count</th>\n",
       "      <th>mean</th>\n",
       "      <th>std</th>\n",
       "      <th>min</th>\n",
       "      <th>25%</th>\n",
       "      <th>50%</th>\n",
       "      <th>75%</th>\n",
       "      <th>max</th>\n",
       "    </tr>\n",
       "  </thead>\n",
       "  <tbody>\n",
       "    <tr>\n",
       "      <th>item_date</th>\n",
       "      <td>181672.0</td>\n",
       "      <td>2.020459e+07</td>\n",
       "      <td>4.551119e+03</td>\n",
       "      <td>19950000.00</td>\n",
       "      <td>20200929.0</td>\n",
       "      <td>20201130.0</td>\n",
       "      <td>2.021020e+07</td>\n",
       "      <td>2.021040e+07</td>\n",
       "    </tr>\n",
       "    <tr>\n",
       "      <th>customer</th>\n",
       "      <td>181672.0</td>\n",
       "      <td>3.051221e+07</td>\n",
       "      <td>2.433382e+07</td>\n",
       "      <td>12458.00</td>\n",
       "      <td>30196884.0</td>\n",
       "      <td>30205242.0</td>\n",
       "      <td>3.028042e+07</td>\n",
       "      <td>2.147484e+09</td>\n",
       "    </tr>\n",
       "    <tr>\n",
       "      <th>country</th>\n",
       "      <td>181645.0</td>\n",
       "      <td>4.489302e+01</td>\n",
       "      <td>2.440421e+01</td>\n",
       "      <td>25.00</td>\n",
       "      <td>26.0</td>\n",
       "      <td>30.0</td>\n",
       "      <td>7.800000e+01</td>\n",
       "      <td>1.130000e+02</td>\n",
       "    </tr>\n",
       "    <tr>\n",
       "      <th>application</th>\n",
       "      <td>181649.0</td>\n",
       "      <td>2.561581e+01</td>\n",
       "      <td>1.775417e+01</td>\n",
       "      <td>2.00</td>\n",
       "      <td>10.0</td>\n",
       "      <td>15.0</td>\n",
       "      <td>4.100000e+01</td>\n",
       "      <td>9.900000e+01</td>\n",
       "    </tr>\n",
       "    <tr>\n",
       "      <th>thickness</th>\n",
       "      <td>181672.0</td>\n",
       "      <td>2.564827e+00</td>\n",
       "      <td>6.572321e+00</td>\n",
       "      <td>0.18</td>\n",
       "      <td>0.7</td>\n",
       "      <td>1.5</td>\n",
       "      <td>3.000000e+00</td>\n",
       "      <td>2.500000e+03</td>\n",
       "    </tr>\n",
       "    <tr>\n",
       "      <th>width</th>\n",
       "      <td>181673.0</td>\n",
       "      <td>1.295287e+03</td>\n",
       "      <td>2.616318e+02</td>\n",
       "      <td>1.00</td>\n",
       "      <td>1180.0</td>\n",
       "      <td>1250.0</td>\n",
       "      <td>1.500000e+03</td>\n",
       "      <td>2.990000e+03</td>\n",
       "    </tr>\n",
       "    <tr>\n",
       "      <th>product_ref</th>\n",
       "      <td>181673.0</td>\n",
       "      <td>4.739679e+08</td>\n",
       "      <td>7.175101e+08</td>\n",
       "      <td>611728.00</td>\n",
       "      <td>611993.0</td>\n",
       "      <td>640665.0</td>\n",
       "      <td>1.332077e+09</td>\n",
       "      <td>1.722208e+09</td>\n",
       "    </tr>\n",
       "    <tr>\n",
       "      <th>delivery date</th>\n",
       "      <td>181672.0</td>\n",
       "      <td>2.020738e+07</td>\n",
       "      <td>2.411059e+04</td>\n",
       "      <td>20190401.00</td>\n",
       "      <td>20201101.0</td>\n",
       "      <td>20210101.0</td>\n",
       "      <td>2.021040e+07</td>\n",
       "      <td>3.031010e+07</td>\n",
       "    </tr>\n",
       "    <tr>\n",
       "      <th>selling_price</th>\n",
       "      <td>181672.0</td>\n",
       "      <td>1.918036e+03</td>\n",
       "      <td>3.317956e+05</td>\n",
       "      <td>-1160.00</td>\n",
       "      <td>669.0</td>\n",
       "      <td>812.0</td>\n",
       "      <td>9.530000e+02</td>\n",
       "      <td>1.000010e+08</td>\n",
       "    </tr>\n",
       "  </tbody>\n",
       "</table>\n",
       "</div>"
      ],
      "text/plain": [
       "                  count          mean           std          min         25%  \\\n",
       "item_date      181672.0  2.020459e+07  4.551119e+03  19950000.00  20200929.0   \n",
       "customer       181672.0  3.051221e+07  2.433382e+07     12458.00  30196884.0   \n",
       "country        181645.0  4.489302e+01  2.440421e+01        25.00        26.0   \n",
       "application    181649.0  2.561581e+01  1.775417e+01         2.00        10.0   \n",
       "thickness      181672.0  2.564827e+00  6.572321e+00         0.18         0.7   \n",
       "width          181673.0  1.295287e+03  2.616318e+02         1.00      1180.0   \n",
       "product_ref    181673.0  4.739679e+08  7.175101e+08    611728.00    611993.0   \n",
       "delivery date  181672.0  2.020738e+07  2.411059e+04  20190401.00  20201101.0   \n",
       "selling_price  181672.0  1.918036e+03  3.317956e+05     -1160.00       669.0   \n",
       "\n",
       "                      50%           75%           max  \n",
       "item_date      20201130.0  2.021020e+07  2.021040e+07  \n",
       "customer       30205242.0  3.028042e+07  2.147484e+09  \n",
       "country              30.0  7.800000e+01  1.130000e+02  \n",
       "application          15.0  4.100000e+01  9.900000e+01  \n",
       "thickness             1.5  3.000000e+00  2.500000e+03  \n",
       "width              1250.0  1.500000e+03  2.990000e+03  \n",
       "product_ref      640665.0  1.332077e+09  1.722208e+09  \n",
       "delivery date  20210101.0  2.021040e+07  3.031010e+07  \n",
       "selling_price       812.0  9.530000e+02  1.000010e+08  "
      ]
     },
     "execution_count": 8,
     "metadata": {},
     "output_type": "execute_result"
    }
   ],
   "source": [
    "df.describe().T"
   ]
  },
  {
   "cell_type": "code",
   "execution_count": 9,
   "id": "47df16b3",
   "metadata": {},
   "outputs": [
    {
     "name": "stdout",
     "output_type": "stream",
     "text": [
      "<class 'pandas.core.frame.DataFrame'>\n",
      "RangeIndex: 181673 entries, 0 to 181672\n",
      "Data columns (total 14 columns):\n",
      " #   Column         Non-Null Count   Dtype  \n",
      "---  ------         --------------   -----  \n",
      " 0   id             181671 non-null  object \n",
      " 1   item_date      181672 non-null  float64\n",
      " 2   quantity tons  181673 non-null  object \n",
      " 3   customer       181672 non-null  float64\n",
      " 4   country        181645 non-null  float64\n",
      " 5   status         181671 non-null  object \n",
      " 6   item type      181673 non-null  object \n",
      " 7   application    181649 non-null  float64\n",
      " 8   thickness      181672 non-null  float64\n",
      " 9   width          181673 non-null  float64\n",
      " 10  material_ref   103754 non-null  object \n",
      " 11  product_ref    181673 non-null  int64  \n",
      " 12  delivery date  181672 non-null  float64\n",
      " 13  selling_price  181672 non-null  float64\n",
      "dtypes: float64(8), int64(1), object(5)\n",
      "memory usage: 19.4+ MB\n"
     ]
    }
   ],
   "source": [
    "df.info()"
   ]
  },
  {
   "cell_type": "code",
   "execution_count": 10,
   "id": "3214befa",
   "metadata": {},
   "outputs": [
    {
     "data": {
      "text/plain": [
       "id                0.001101\n",
       "item_date         0.000550\n",
       "quantity tons     0.000000\n",
       "customer          0.000550\n",
       "country           0.015412\n",
       "status            0.001101\n",
       "item type         0.000000\n",
       "application       0.013211\n",
       "thickness         0.000550\n",
       "width             0.000000\n",
       "material_ref     42.889697\n",
       "product_ref       0.000000\n",
       "delivery date     0.000550\n",
       "selling_price     0.000550\n",
       "dtype: float64"
      ]
     },
     "execution_count": 10,
     "metadata": {},
     "output_type": "execute_result"
    }
   ],
   "source": [
    "(df.isnull().sum()/len(df))*100\n"
   ]
  },
  {
   "cell_type": "code",
   "execution_count": 11,
   "id": "5910000a",
   "metadata": {},
   "outputs": [],
   "source": [
    "df.drop(['material_ref','product_ref','quantity tons'],axis=1,inplace=True)"
   ]
  },
  {
   "cell_type": "code",
   "execution_count": 12,
   "id": "4f94107b",
   "metadata": {},
   "outputs": [
    {
     "data": {
      "text/plain": [
       "Index(['id', 'item_date', 'customer', 'country', 'status', 'item type',\n",
       "       'application', 'thickness', 'width', 'delivery date', 'selling_price'],\n",
       "      dtype='object')"
      ]
     },
     "execution_count": 12,
     "metadata": {},
     "output_type": "execute_result"
    }
   ],
   "source": [
    "df.columns"
   ]
  },
  {
   "cell_type": "code",
   "execution_count": 13,
   "id": "4ab2f2b6",
   "metadata": {},
   "outputs": [
    {
     "data": {
      "text/plain": [
       "Int64Index([104640], dtype='int64')"
      ]
     },
     "execution_count": 13,
     "metadata": {},
     "output_type": "execute_result"
    }
   ],
   "source": [
    "df[df['item_date'].isnull()].index"
   ]
  },
  {
   "cell_type": "code",
   "execution_count": 14,
   "id": "61bb307b",
   "metadata": {},
   "outputs": [
    {
     "data": {
      "text/plain": [
       "1"
      ]
     },
     "execution_count": 14,
     "metadata": {},
     "output_type": "execute_result"
    }
   ],
   "source": [
    "df['item_date'].isnull().sum()"
   ]
  },
  {
   "cell_type": "code",
   "execution_count": 15,
   "id": "44b38e6e",
   "metadata": {},
   "outputs": [
    {
     "data": {
      "text/plain": [
       "0         20210401\n",
       "1         20210401\n",
       "2         20210401\n",
       "3         20210401\n",
       "4         20210401\n",
       "            ...   \n",
       "181668    20200702\n",
       "181669    20200702\n",
       "181670    20200702\n",
       "181671    20200702\n",
       "181672    20200702\n",
       "Name: item_date, Length: 181673, dtype: object"
      ]
     },
     "execution_count": 15,
     "metadata": {},
     "output_type": "execute_result"
    }
   ],
   "source": [
    "df['item_date'] = df['item_date'].apply(lambda x:str(x).split(\".\")[0])\n",
    "df['item_date'] "
   ]
  },
  {
   "cell_type": "code",
   "execution_count": 16,
   "id": "213a548a",
   "metadata": {},
   "outputs": [
    {
     "data": {
      "text/plain": [
       "Int64Index([52], dtype='int64')"
      ]
     },
     "execution_count": 16,
     "metadata": {},
     "output_type": "execute_result"
    }
   ],
   "source": [
    "df[df['item_date'] == '19950000'].index"
   ]
  },
  {
   "cell_type": "code",
   "execution_count": 17,
   "id": "17f8a833",
   "metadata": {},
   "outputs": [],
   "source": [
    "df.drop(52,axis= 0,inplace=True)"
   ]
  },
  {
   "cell_type": "code",
   "execution_count": 18,
   "id": "c8b28249",
   "metadata": {},
   "outputs": [
    {
     "data": {
      "text/html": [
       "<div>\n",
       "<style scoped>\n",
       "    .dataframe tbody tr th:only-of-type {\n",
       "        vertical-align: middle;\n",
       "    }\n",
       "\n",
       "    .dataframe tbody tr th {\n",
       "        vertical-align: top;\n",
       "    }\n",
       "\n",
       "    .dataframe thead th {\n",
       "        text-align: right;\n",
       "    }\n",
       "</style>\n",
       "<table border=\"1\" class=\"dataframe\">\n",
       "  <thead>\n",
       "    <tr style=\"text-align: right;\">\n",
       "      <th></th>\n",
       "      <th>id</th>\n",
       "      <th>item_date</th>\n",
       "      <th>customer</th>\n",
       "      <th>country</th>\n",
       "      <th>status</th>\n",
       "      <th>item type</th>\n",
       "      <th>application</th>\n",
       "      <th>thickness</th>\n",
       "      <th>width</th>\n",
       "      <th>delivery date</th>\n",
       "      <th>selling_price</th>\n",
       "    </tr>\n",
       "  </thead>\n",
       "  <tbody>\n",
       "  </tbody>\n",
       "</table>\n",
       "</div>"
      ],
      "text/plain": [
       "Empty DataFrame\n",
       "Columns: [id, item_date, customer, country, status, item type, application, thickness, width, delivery date, selling_price]\n",
       "Index: []"
      ]
     },
     "execution_count": 18,
     "metadata": {},
     "output_type": "execute_result"
    }
   ],
   "source": [
    "df[df['item_date'] == '19950000']"
   ]
  },
  {
   "cell_type": "code",
   "execution_count": 19,
   "id": "af871562",
   "metadata": {},
   "outputs": [
    {
     "data": {
      "text/plain": [
       "Int64Index([105485], dtype='int64')"
      ]
     },
     "execution_count": 19,
     "metadata": {},
     "output_type": "execute_result"
    }
   ],
   "source": [
    "df[df['item_date'] == '20191919'].index"
   ]
  },
  {
   "cell_type": "code",
   "execution_count": 20,
   "id": "c215443a",
   "metadata": {},
   "outputs": [],
   "source": [
    "df.drop(105485,axis= 0,inplace=True)"
   ]
  },
  {
   "cell_type": "code",
   "execution_count": 21,
   "id": "36c26c58",
   "metadata": {},
   "outputs": [
    {
     "data": {
      "text/plain": [
       "0        2021-04-01\n",
       "1        2021-04-01\n",
       "2        2021-04-01\n",
       "3        2021-04-01\n",
       "4        2021-04-01\n",
       "            ...    \n",
       "181668   2020-07-02\n",
       "181669   2020-07-02\n",
       "181670   2020-07-02\n",
       "181671   2020-07-02\n",
       "181672   2020-07-02\n",
       "Name: item_date, Length: 181671, dtype: datetime64[ns]"
      ]
     },
     "execution_count": 21,
     "metadata": {},
     "output_type": "execute_result"
    }
   ],
   "source": [
    "df['item_date'] = pd.to_datetime(df['item_date'],errors='coerce')\n",
    "df['item_date']"
   ]
  },
  {
   "cell_type": "code",
   "execution_count": 22,
   "id": "99de2e78",
   "metadata": {},
   "outputs": [
    {
     "data": {
      "text/plain": [
       "0         20210701\n",
       "1         20210401\n",
       "2         20210101\n",
       "3         20210101\n",
       "4         20210301\n",
       "            ...   \n",
       "181668    20200701\n",
       "181669    20200701\n",
       "181670    20200701\n",
       "181671    20200701\n",
       "181672    20200701\n",
       "Name: delivery date, Length: 181671, dtype: object"
      ]
     },
     "execution_count": 22,
     "metadata": {},
     "output_type": "execute_result"
    }
   ],
   "source": [
    "df['delivery date'] = df['delivery date'].apply(lambda x:str(x).split(\".\")[0])\n",
    "df['delivery date']"
   ]
  },
  {
   "cell_type": "code",
   "execution_count": 23,
   "id": "1bbb6528",
   "metadata": {},
   "outputs": [
    {
     "data": {
      "text/plain": [
       "array(['20210701', '20210401', '20210101', '20210301', '20210601',\n",
       "       '20210501', '20210801', '30310101', '20210901', '20211001',\n",
       "       '20211101', '20220101', '20200701', '20201001', '20200101',\n",
       "       '20210201', '20211201', '20190701', '20200801', '20201101',\n",
       "       '20201201', '20190401', '20200601', '20200401', '20200901',\n",
       "       '20200501', 'nan', '20212222', '20191001'], dtype=object)"
      ]
     },
     "execution_count": 23,
     "metadata": {},
     "output_type": "execute_result"
    }
   ],
   "source": [
    "df['delivery date'].unique()"
   ]
  },
  {
   "cell_type": "code",
   "execution_count": 24,
   "id": "2f816082",
   "metadata": {},
   "outputs": [
    {
     "data": {
      "text/plain": [
       "Int64Index([104761], dtype='int64')"
      ]
     },
     "execution_count": 24,
     "metadata": {},
     "output_type": "execute_result"
    }
   ],
   "source": [
    "df[df['delivery date'] == 'nan'].index"
   ]
  },
  {
   "cell_type": "code",
   "execution_count": 25,
   "id": "d94e1e39",
   "metadata": {},
   "outputs": [],
   "source": [
    "df.drop(104761,axis= 0,inplace=True)"
   ]
  },
  {
   "cell_type": "code",
   "execution_count": 26,
   "id": "9a0f2af5",
   "metadata": {},
   "outputs": [
    {
     "data": {
      "text/plain": [
       "array(['20210701', '20210401', '20210101', '20210301', '20210601',\n",
       "       '20210501', '20210801', '30310101', '20210901', '20211001',\n",
       "       '20211101', '20220101', '20200701', '20201001', '20200101',\n",
       "       '20210201', '20211201', '20190701', '20200801', '20201101',\n",
       "       '20201201', '20190401', '20200601', '20200401', '20200901',\n",
       "       '20200501', '20212222', '20191001'], dtype=object)"
      ]
     },
     "execution_count": 26,
     "metadata": {},
     "output_type": "execute_result"
    }
   ],
   "source": [
    "df['delivery date'].unique()"
   ]
  },
  {
   "cell_type": "code",
   "execution_count": 27,
   "id": "04d8a7d3",
   "metadata": {},
   "outputs": [
    {
     "data": {
      "text/plain": [
       "Int64Index([105421], dtype='int64')"
      ]
     },
     "execution_count": 27,
     "metadata": {},
     "output_type": "execute_result"
    }
   ],
   "source": [
    "df[df['delivery date'] == '20212222'].index"
   ]
  },
  {
   "cell_type": "code",
   "execution_count": 28,
   "id": "1ea72d02",
   "metadata": {},
   "outputs": [
    {
     "data": {
      "text/plain": [
       "0        2021-07-01\n",
       "1        2021-04-01\n",
       "2        2021-01-01\n",
       "3        2021-01-01\n",
       "4        2021-03-01\n",
       "            ...    \n",
       "181668   2020-07-01\n",
       "181669   2020-07-01\n",
       "181670   2020-07-01\n",
       "181671   2020-07-01\n",
       "181672   2020-07-01\n",
       "Name: delivery date, Length: 181670, dtype: datetime64[ns]"
      ]
     },
     "execution_count": 28,
     "metadata": {},
     "output_type": "execute_result"
    }
   ],
   "source": [
    "df['delivery date'] = pd.to_datetime(df['delivery date'],errors='coerce')\n",
    "df['delivery date']"
   ]
  },
  {
   "cell_type": "code",
   "execution_count": 29,
   "id": "8a44c219",
   "metadata": {},
   "outputs": [
    {
     "name": "stdout",
     "output_type": "stream",
     "text": [
      "<class 'pandas.core.frame.DataFrame'>\n",
      "Int64Index: 181670 entries, 0 to 181672\n",
      "Data columns (total 11 columns):\n",
      " #   Column         Non-Null Count   Dtype         \n",
      "---  ------         --------------   -----         \n",
      " 0   id             181668 non-null  object        \n",
      " 1   item_date      181669 non-null  datetime64[ns]\n",
      " 2   customer       181669 non-null  float64       \n",
      " 3   country        181642 non-null  float64       \n",
      " 4   status         181668 non-null  object        \n",
      " 5   item type      181670 non-null  object        \n",
      " 6   application    181646 non-null  float64       \n",
      " 7   thickness      181669 non-null  float64       \n",
      " 8   width          181670 non-null  float64       \n",
      " 9   delivery date  181668 non-null  datetime64[ns]\n",
      " 10  selling_price  181669 non-null  float64       \n",
      "dtypes: datetime64[ns](2), float64(6), object(3)\n",
      "memory usage: 16.6+ MB\n"
     ]
    }
   ],
   "source": [
    "df.info()"
   ]
  },
  {
   "cell_type": "code",
   "execution_count": 30,
   "id": "b51a0544",
   "metadata": {},
   "outputs": [
    {
     "data": {
      "text/plain": [
       "True"
      ]
     },
     "execution_count": 30,
     "metadata": {},
     "output_type": "execute_result"
    }
   ],
   "source": [
    "df['customer'].isnull().any()"
   ]
  },
  {
   "cell_type": "code",
   "execution_count": 31,
   "id": "41a64c02",
   "metadata": {},
   "outputs": [
    {
     "data": {
      "text/html": [
       "<div>\n",
       "<style scoped>\n",
       "    .dataframe tbody tr th:only-of-type {\n",
       "        vertical-align: middle;\n",
       "    }\n",
       "\n",
       "    .dataframe tbody tr th {\n",
       "        vertical-align: top;\n",
       "    }\n",
       "\n",
       "    .dataframe thead th {\n",
       "        text-align: right;\n",
       "    }\n",
       "</style>\n",
       "<table border=\"1\" class=\"dataframe\">\n",
       "  <thead>\n",
       "    <tr style=\"text-align: right;\">\n",
       "      <th></th>\n",
       "      <th>id</th>\n",
       "      <th>item_date</th>\n",
       "      <th>customer</th>\n",
       "      <th>country</th>\n",
       "      <th>status</th>\n",
       "      <th>item type</th>\n",
       "      <th>application</th>\n",
       "      <th>thickness</th>\n",
       "      <th>width</th>\n",
       "      <th>delivery date</th>\n",
       "      <th>selling_price</th>\n",
       "    </tr>\n",
       "  </thead>\n",
       "  <tbody>\n",
       "    <tr>\n",
       "      <th>104684</th>\n",
       "      <td>6E764168-3F32-4E5D-BD67-4B1D959C75E3</td>\n",
       "      <td>2020-11-12</td>\n",
       "      <td>NaN</td>\n",
       "      <td>39.0</td>\n",
       "      <td>Won</td>\n",
       "      <td>W</td>\n",
       "      <td>10.0</td>\n",
       "      <td>3.5</td>\n",
       "      <td>1270.0</td>\n",
       "      <td>2021-02-01</td>\n",
       "      <td>650.0</td>\n",
       "    </tr>\n",
       "  </tbody>\n",
       "</table>\n",
       "</div>"
      ],
      "text/plain": [
       "                                          id  item_date  customer  country  \\\n",
       "104684  6E764168-3F32-4E5D-BD67-4B1D959C75E3 2020-11-12       NaN     39.0   \n",
       "\n",
       "       status item type  application  thickness   width delivery date  \\\n",
       "104684    Won         W         10.0        3.5  1270.0    2021-02-01   \n",
       "\n",
       "        selling_price  \n",
       "104684          650.0  "
      ]
     },
     "execution_count": 31,
     "metadata": {},
     "output_type": "execute_result"
    }
   ],
   "source": [
    "df[df['customer'].isnull()]"
   ]
  },
  {
   "cell_type": "code",
   "execution_count": 32,
   "id": "8c9b5fcd",
   "metadata": {},
   "outputs": [],
   "source": [
    "df.drop(104684,axis=0,inplace=True)"
   ]
  },
  {
   "cell_type": "code",
   "execution_count": 33,
   "id": "4ea53c0d",
   "metadata": {},
   "outputs": [
    {
     "data": {
      "text/plain": [
       "False"
      ]
     },
     "execution_count": 33,
     "metadata": {},
     "output_type": "execute_result"
    }
   ],
   "source": [
    "df['customer'].isnull().any()"
   ]
  },
  {
   "cell_type": "code",
   "execution_count": 34,
   "id": "c7c64aee",
   "metadata": {},
   "outputs": [
    {
     "data": {
      "text/plain": [
       "30157111.0    4988\n",
       "30161088.0    3733\n",
       "30201846.0    3152\n",
       "30165529.0    2728\n",
       "30202938.0    2570\n",
       "              ... \n",
       "30271383.0       1\n",
       "30356502.0       1\n",
       "30357481.0       1\n",
       "30156053.0       1\n",
       "30271291.0       1\n",
       "Name: customer, Length: 1169, dtype: int64"
      ]
     },
     "execution_count": 34,
     "metadata": {},
     "output_type": "execute_result"
    }
   ],
   "source": [
    "df['customer'].value_counts()"
   ]
  },
  {
   "cell_type": "code",
   "execution_count": 35,
   "id": "a2dd6fbf",
   "metadata": {},
   "outputs": [
    {
     "data": {
      "text/plain": [
       "dtype('float64')"
      ]
     },
     "execution_count": 35,
     "metadata": {},
     "output_type": "execute_result"
    }
   ],
   "source": [
    "df['customer'].dtypes"
   ]
  },
  {
   "cell_type": "code",
   "execution_count": 36,
   "id": "e618fbca",
   "metadata": {},
   "outputs": [
    {
     "data": {
      "text/plain": [
       "id                2\n",
       "item_date         1\n",
       "customer          0\n",
       "country          28\n",
       "status            2\n",
       "item type         0\n",
       "application      24\n",
       "thickness         1\n",
       "width             0\n",
       "delivery date     2\n",
       "selling_price     1\n",
       "dtype: int64"
      ]
     },
     "execution_count": 36,
     "metadata": {},
     "output_type": "execute_result"
    }
   ],
   "source": [
    "df.isnull().sum()"
   ]
  },
  {
   "cell_type": "code",
   "execution_count": 37,
   "id": "cd7d4773",
   "metadata": {},
   "outputs": [],
   "source": [
    "df.dropna(axis=0,inplace=True)"
   ]
  },
  {
   "cell_type": "code",
   "execution_count": 38,
   "id": "db40cc69",
   "metadata": {},
   "outputs": [
    {
     "data": {
      "text/plain": [
       "id               0\n",
       "item_date        0\n",
       "customer         0\n",
       "country          0\n",
       "status           0\n",
       "item type        0\n",
       "application      0\n",
       "thickness        0\n",
       "width            0\n",
       "delivery date    0\n",
       "selling_price    0\n",
       "dtype: int64"
      ]
     },
     "execution_count": 38,
     "metadata": {},
     "output_type": "execute_result"
    }
   ],
   "source": [
    "df.isnull().sum()"
   ]
  },
  {
   "cell_type": "code",
   "execution_count": 39,
   "id": "e0746b05",
   "metadata": {},
   "outputs": [
    {
     "data": {
      "text/plain": [
       "78.0     32084\n",
       "26.0     27514\n",
       "25.0     23361\n",
       "27.0     21508\n",
       "32.0     18658\n",
       "28.0     15821\n",
       "84.0     12776\n",
       "77.0      9713\n",
       "30.0      8702\n",
       "39.0      3730\n",
       "79.0      2742\n",
       "38.0      1712\n",
       "40.0      1683\n",
       "80.0       817\n",
       "113.0      714\n",
       "89.0        92\n",
       "107.0        5\n",
       "Name: country, dtype: int64"
      ]
     },
     "execution_count": 39,
     "metadata": {},
     "output_type": "execute_result"
    }
   ],
   "source": [
    "df['country'].value_counts()"
   ]
  },
  {
   "cell_type": "code",
   "execution_count": 40,
   "id": "6eee3bf7",
   "metadata": {},
   "outputs": [
    {
     "data": {
      "text/plain": [
       "Won                116005\n",
       "Lost                34431\n",
       "Not lost for AM     19568\n",
       "Revised              4276\n",
       "To be approved       4167\n",
       "Draft                3121\n",
       "Offered                53\n",
       "Offerable              10\n",
       "Wonderful               1\n",
       "Name: status, dtype: int64"
      ]
     },
     "execution_count": 40,
     "metadata": {},
     "output_type": "execute_result"
    }
   ],
   "source": [
    "df['status'].value_counts()"
   ]
  },
  {
   "cell_type": "code",
   "execution_count": 41,
   "id": "548c5048",
   "metadata": {},
   "outputs": [
    {
     "name": "stdout",
     "output_type": "stream",
     "text": [
      "<class 'pandas.core.frame.DataFrame'>\n",
      "Int64Index: 181632 entries, 0 to 181672\n",
      "Data columns (total 11 columns):\n",
      " #   Column         Non-Null Count   Dtype         \n",
      "---  ------         --------------   -----         \n",
      " 0   id             181632 non-null  object        \n",
      " 1   item_date      181632 non-null  datetime64[ns]\n",
      " 2   customer       181632 non-null  float64       \n",
      " 3   country        181632 non-null  float64       \n",
      " 4   status         181632 non-null  object        \n",
      " 5   item type      181632 non-null  object        \n",
      " 6   application    181632 non-null  float64       \n",
      " 7   thickness      181632 non-null  float64       \n",
      " 8   width          181632 non-null  float64       \n",
      " 9   delivery date  181632 non-null  datetime64[ns]\n",
      " 10  selling_price  181632 non-null  float64       \n",
      "dtypes: datetime64[ns](2), float64(6), object(3)\n",
      "memory usage: 16.6+ MB\n"
     ]
    }
   ],
   "source": [
    "df.info()"
   ]
  },
  {
   "cell_type": "code",
   "execution_count": 42,
   "id": "865c94c6",
   "metadata": {},
   "outputs": [
    {
     "data": {
      "text/plain": [
       "W         105608\n",
       "S          69202\n",
       "PL          5660\n",
       "Others       610\n",
       "WI           524\n",
       "IPL           27\n",
       "SLAWR          1\n",
       "Name: item type, dtype: int64"
      ]
     },
     "execution_count": 42,
     "metadata": {},
     "output_type": "execute_result"
    }
   ],
   "source": [
    "df['item type'].value_counts()"
   ]
  },
  {
   "cell_type": "code",
   "execution_count": 43,
   "id": "fd807810",
   "metadata": {},
   "outputs": [
    {
     "data": {
      "text/plain": [
       "array([10., 41., 28., 59., 15.,  4., 38., 56., 42., 26., 27., 19., 20.,\n",
       "       66., 29., 22., 40., 25., 67., 79.,  3., 99.,  2.,  5., 39., 69.,\n",
       "       70., 65., 58., 68.])"
      ]
     },
     "execution_count": 43,
     "metadata": {},
     "output_type": "execute_result"
    }
   ],
   "source": [
    "df['application'].unique()"
   ]
  },
  {
   "cell_type": "code",
   "execution_count": 44,
   "id": "bb5e2342",
   "metadata": {},
   "outputs": [
    {
     "data": {
      "text/plain": [
       "2.00     13468\n",
       "3.00     13206\n",
       "0.50     12247\n",
       "1.50     11731\n",
       "1.00      9473\n",
       "         ...  \n",
       "7.06         1\n",
       "9.39         1\n",
       "15.66        1\n",
       "2.28         1\n",
       "15.60        1\n",
       "Name: thickness, Length: 594, dtype: int64"
      ]
     },
     "execution_count": 44,
     "metadata": {},
     "output_type": "execute_result"
    }
   ],
   "source": [
    "df['thickness'].value_counts()"
   ]
  },
  {
   "cell_type": "code",
   "execution_count": 45,
   "id": "8763897c",
   "metadata": {},
   "outputs": [],
   "source": [
    "df.drop(['id'],axis=1,inplace=True)"
   ]
  },
  {
   "cell_type": "code",
   "execution_count": 46,
   "id": "4f2a0f7a",
   "metadata": {},
   "outputs": [
    {
     "data": {
      "text/html": [
       "<div>\n",
       "<style scoped>\n",
       "    .dataframe tbody tr th:only-of-type {\n",
       "        vertical-align: middle;\n",
       "    }\n",
       "\n",
       "    .dataframe tbody tr th {\n",
       "        vertical-align: top;\n",
       "    }\n",
       "\n",
       "    .dataframe thead th {\n",
       "        text-align: right;\n",
       "    }\n",
       "</style>\n",
       "<table border=\"1\" class=\"dataframe\">\n",
       "  <thead>\n",
       "    <tr style=\"text-align: right;\">\n",
       "      <th></th>\n",
       "      <th>item_date</th>\n",
       "      <th>customer</th>\n",
       "      <th>country</th>\n",
       "      <th>status</th>\n",
       "      <th>item type</th>\n",
       "      <th>application</th>\n",
       "      <th>thickness</th>\n",
       "      <th>width</th>\n",
       "      <th>delivery date</th>\n",
       "      <th>selling_price</th>\n",
       "    </tr>\n",
       "  </thead>\n",
       "  <tbody>\n",
       "    <tr>\n",
       "      <th>0</th>\n",
       "      <td>2021-04-01</td>\n",
       "      <td>30156308.0</td>\n",
       "      <td>28.0</td>\n",
       "      <td>Won</td>\n",
       "      <td>W</td>\n",
       "      <td>10.0</td>\n",
       "      <td>2.00</td>\n",
       "      <td>1500.0</td>\n",
       "      <td>2021-07-01</td>\n",
       "      <td>854.00</td>\n",
       "    </tr>\n",
       "    <tr>\n",
       "      <th>1</th>\n",
       "      <td>2021-04-01</td>\n",
       "      <td>30202938.0</td>\n",
       "      <td>25.0</td>\n",
       "      <td>Won</td>\n",
       "      <td>W</td>\n",
       "      <td>41.0</td>\n",
       "      <td>0.80</td>\n",
       "      <td>1210.0</td>\n",
       "      <td>2021-04-01</td>\n",
       "      <td>1047.00</td>\n",
       "    </tr>\n",
       "    <tr>\n",
       "      <th>2</th>\n",
       "      <td>2021-04-01</td>\n",
       "      <td>30153963.0</td>\n",
       "      <td>30.0</td>\n",
       "      <td>Won</td>\n",
       "      <td>WI</td>\n",
       "      <td>28.0</td>\n",
       "      <td>0.38</td>\n",
       "      <td>952.0</td>\n",
       "      <td>2021-01-01</td>\n",
       "      <td>644.33</td>\n",
       "    </tr>\n",
       "    <tr>\n",
       "      <th>3</th>\n",
       "      <td>2021-04-01</td>\n",
       "      <td>30349574.0</td>\n",
       "      <td>32.0</td>\n",
       "      <td>Won</td>\n",
       "      <td>S</td>\n",
       "      <td>59.0</td>\n",
       "      <td>2.30</td>\n",
       "      <td>1317.0</td>\n",
       "      <td>2021-01-01</td>\n",
       "      <td>768.00</td>\n",
       "    </tr>\n",
       "    <tr>\n",
       "      <th>4</th>\n",
       "      <td>2021-04-01</td>\n",
       "      <td>30211560.0</td>\n",
       "      <td>28.0</td>\n",
       "      <td>Won</td>\n",
       "      <td>W</td>\n",
       "      <td>10.0</td>\n",
       "      <td>4.00</td>\n",
       "      <td>2000.0</td>\n",
       "      <td>2021-03-01</td>\n",
       "      <td>577.00</td>\n",
       "    </tr>\n",
       "  </tbody>\n",
       "</table>\n",
       "</div>"
      ],
      "text/plain": [
       "   item_date    customer  country status item type  application  thickness  \\\n",
       "0 2021-04-01  30156308.0     28.0    Won         W         10.0       2.00   \n",
       "1 2021-04-01  30202938.0     25.0    Won         W         41.0       0.80   \n",
       "2 2021-04-01  30153963.0     30.0    Won        WI         28.0       0.38   \n",
       "3 2021-04-01  30349574.0     32.0    Won         S         59.0       2.30   \n",
       "4 2021-04-01  30211560.0     28.0    Won         W         10.0       4.00   \n",
       "\n",
       "    width delivery date  selling_price  \n",
       "0  1500.0    2021-07-01         854.00  \n",
       "1  1210.0    2021-04-01        1047.00  \n",
       "2   952.0    2021-01-01         644.33  \n",
       "3  1317.0    2021-01-01         768.00  \n",
       "4  2000.0    2021-03-01         577.00  "
      ]
     },
     "execution_count": 46,
     "metadata": {},
     "output_type": "execute_result"
    }
   ],
   "source": [
    "df.head()"
   ]
  },
  {
   "cell_type": "code",
   "execution_count": 47,
   "id": "29db7366",
   "metadata": {},
   "outputs": [],
   "source": [
    "object_columns = [i for i in df.columns if df[i].dtypes == 'object']\n",
    "numerical_columns = [i for i in df.columns if df[i].dtypes in ('int','float')]"
   ]
  },
  {
   "cell_type": "code",
   "execution_count": 48,
   "id": "172200d1",
   "metadata": {},
   "outputs": [
    {
     "data": {
      "text/plain": [
       "['status', 'item type']"
      ]
     },
     "execution_count": 48,
     "metadata": {},
     "output_type": "execute_result"
    }
   ],
   "source": [
    "object_columns"
   ]
  },
  {
   "cell_type": "code",
   "execution_count": 49,
   "id": "52ad2a9b",
   "metadata": {},
   "outputs": [
    {
     "data": {
      "text/plain": [
       "['customer', 'country', 'application', 'thickness', 'width', 'selling_price']"
      ]
     },
     "execution_count": 49,
     "metadata": {},
     "output_type": "execute_result"
    }
   ],
   "source": [
    "numerical_columns"
   ]
  },
  {
   "cell_type": "code",
   "execution_count": 50,
   "id": "fea7ee20",
   "metadata": {},
   "outputs": [],
   "source": [
    "df['no_of_days_toprocess'] = (df['delivery date'] - df['item_date']).dt.days"
   ]
  },
  {
   "cell_type": "code",
   "execution_count": 51,
   "id": "a3991843",
   "metadata": {},
   "outputs": [
    {
     "data": {
      "text/plain": [
       "0         91\n",
       "1          0\n",
       "2        -90\n",
       "3        -90\n",
       "4        -31\n",
       "          ..\n",
       "181668    -1\n",
       "181669    -1\n",
       "181670    -1\n",
       "181671    -1\n",
       "181672    -1\n",
       "Name: no_of_days_toprocess, Length: 181632, dtype: int64"
      ]
     },
     "execution_count": 51,
     "metadata": {},
     "output_type": "execute_result"
    }
   ],
   "source": [
    "df['no_of_days_toprocess']"
   ]
  },
  {
   "cell_type": "code",
   "execution_count": 52,
   "id": "393fb757",
   "metadata": {},
   "outputs": [
    {
     "data": {
      "text/plain": [
       "True"
      ]
     },
     "execution_count": 52,
     "metadata": {},
     "output_type": "execute_result"
    }
   ],
   "source": [
    "df.duplicated().any()"
   ]
  },
  {
   "cell_type": "code",
   "execution_count": 53,
   "id": "00ca7337",
   "metadata": {},
   "outputs": [],
   "source": [
    "a = df.groupby('item type',as_index=False).size().rename(columns={'size':'Count'}).sort_values('Count',ascending=False)"
   ]
  },
  {
   "cell_type": "code",
   "execution_count": 54,
   "id": "5ad42092",
   "metadata": {},
   "outputs": [
    {
     "data": {
      "text/html": [
       "<div>\n",
       "<style scoped>\n",
       "    .dataframe tbody tr th:only-of-type {\n",
       "        vertical-align: middle;\n",
       "    }\n",
       "\n",
       "    .dataframe tbody tr th {\n",
       "        vertical-align: top;\n",
       "    }\n",
       "\n",
       "    .dataframe thead th {\n",
       "        text-align: right;\n",
       "    }\n",
       "</style>\n",
       "<table border=\"1\" class=\"dataframe\">\n",
       "  <thead>\n",
       "    <tr style=\"text-align: right;\">\n",
       "      <th></th>\n",
       "      <th>item type</th>\n",
       "      <th>Count</th>\n",
       "    </tr>\n",
       "  </thead>\n",
       "  <tbody>\n",
       "    <tr>\n",
       "      <th>5</th>\n",
       "      <td>W</td>\n",
       "      <td>105608</td>\n",
       "    </tr>\n",
       "    <tr>\n",
       "      <th>3</th>\n",
       "      <td>S</td>\n",
       "      <td>69202</td>\n",
       "    </tr>\n",
       "    <tr>\n",
       "      <th>2</th>\n",
       "      <td>PL</td>\n",
       "      <td>5660</td>\n",
       "    </tr>\n",
       "    <tr>\n",
       "      <th>1</th>\n",
       "      <td>Others</td>\n",
       "      <td>610</td>\n",
       "    </tr>\n",
       "    <tr>\n",
       "      <th>6</th>\n",
       "      <td>WI</td>\n",
       "      <td>524</td>\n",
       "    </tr>\n",
       "  </tbody>\n",
       "</table>\n",
       "</div>"
      ],
      "text/plain": [
       "  item type   Count\n",
       "5         W  105608\n",
       "3         S   69202\n",
       "2        PL    5660\n",
       "1    Others     610\n",
       "6        WI     524"
      ]
     },
     "execution_count": 54,
     "metadata": {},
     "output_type": "execute_result"
    }
   ],
   "source": [
    "a.head()"
   ]
  },
  {
   "cell_type": "markdown",
   "id": "e7e394b9",
   "metadata": {},
   "source": [
    "# Bivariate Analysis of related columns"
   ]
  },
  {
   "cell_type": "code",
   "execution_count": 55,
   "id": "dd3f7d17",
   "metadata": {},
   "outputs": [
    {
     "data": {
      "image/png": "[encoded data removed]",
      "text/plain": [
       "<Figure size 864x504 with 1 Axes>"
      ]
     },
     "metadata": {
      "needs_background": "light"
     },
     "output_type": "display_data"
    }
   ],
   "source": [
    "plt.figure(figsize=(12,7))\n",
    "sns.barplot(x='item type',y = 'Count',data=a)\n",
    "plt.xlabel(xlabel='item type', size=15)\n",
    "plt.ylabel(ylabel='Count', size=15)\n",
    "plt.show()"
   ]
  },
  {
   "cell_type": "code",
   "execution_count": 56,
   "id": "43369959",
   "metadata": {},
   "outputs": [],
   "source": [
    "b = df.groupby('status',as_index=False).size().rename(columns={'size':'Count'}).sort_values('Count',ascending=False)"
   ]
  },
  {
   "cell_type": "code",
   "execution_count": 57,
   "id": "019accc3",
   "metadata": {},
   "outputs": [
    {
     "data": {
      "text/html": [
       "<div>\n",
       "<style scoped>\n",
       "    .dataframe tbody tr th:only-of-type {\n",
       "        vertical-align: middle;\n",
       "    }\n",
       "\n",
       "    .dataframe tbody tr th {\n",
       "        vertical-align: top;\n",
       "    }\n",
       "\n",
       "    .dataframe thead th {\n",
       "        text-align: right;\n",
       "    }\n",
       "</style>\n",
       "<table border=\"1\" class=\"dataframe\">\n",
       "  <thead>\n",
       "    <tr style=\"text-align: right;\">\n",
       "      <th></th>\n",
       "      <th>status</th>\n",
       "      <th>Count</th>\n",
       "    </tr>\n",
       "  </thead>\n",
       "  <tbody>\n",
       "    <tr>\n",
       "      <th>7</th>\n",
       "      <td>Won</td>\n",
       "      <td>116005</td>\n",
       "    </tr>\n",
       "    <tr>\n",
       "      <th>1</th>\n",
       "      <td>Lost</td>\n",
       "      <td>34431</td>\n",
       "    </tr>\n",
       "    <tr>\n",
       "      <th>2</th>\n",
       "      <td>Not lost for AM</td>\n",
       "      <td>19568</td>\n",
       "    </tr>\n",
       "    <tr>\n",
       "      <th>5</th>\n",
       "      <td>Revised</td>\n",
       "      <td>4276</td>\n",
       "    </tr>\n",
       "    <tr>\n",
       "      <th>6</th>\n",
       "      <td>To be approved</td>\n",
       "      <td>4167</td>\n",
       "    </tr>\n",
       "  </tbody>\n",
       "</table>\n",
       "</div>"
      ],
      "text/plain": [
       "            status   Count\n",
       "7              Won  116005\n",
       "1             Lost   34431\n",
       "2  Not lost for AM   19568\n",
       "5          Revised    4276\n",
       "6   To be approved    4167"
      ]
     },
     "execution_count": 57,
     "metadata": {},
     "output_type": "execute_result"
    }
   ],
   "source": [
    "b.head()"
   ]
  },
  {
   "cell_type": "code",
   "execution_count": 58,
   "id": "78dfb3af",
   "metadata": {},
   "outputs": [
    {
     "data": {
      "image/png": "[encoded data removed]",
      "text/plain": [
       "<Figure size 1080x504 with 1 Axes>"
      ]
     },
     "metadata": {
      "needs_background": "light"
     },
     "output_type": "display_data"
    }
   ],
   "source": [
    "plt.figure(figsize=(15,7))\n",
    "sns.barplot(x='status',y = 'Count',data=b)\n",
    "plt.xlabel(xlabel='status', size=15)\n",
    "plt.ylabel(ylabel='Count', size=15)\n",
    "plt.show()"
   ]
  },
  {
   "cell_type": "markdown",
   "id": "d6881fef",
   "metadata": {},
   "source": [
    "# Multivariate analysis"
   ]
  },
  {
   "cell_type": "code",
   "execution_count": 59,
   "id": "965cae87",
   "metadata": {},
   "outputs": [
    {
     "data": {
      "text/html": [
       "<div>\n",
       "<style scoped>\n",
       "    .dataframe tbody tr th:only-of-type {\n",
       "        vertical-align: middle;\n",
       "    }\n",
       "\n",
       "    .dataframe tbody tr th {\n",
       "        vertical-align: top;\n",
       "    }\n",
       "\n",
       "    .dataframe thead th {\n",
       "        text-align: right;\n",
       "    }\n",
       "</style>\n",
       "<table border=\"1\" class=\"dataframe\">\n",
       "  <thead>\n",
       "    <tr style=\"text-align: right;\">\n",
       "      <th></th>\n",
       "      <th>customer</th>\n",
       "      <th>country</th>\n",
       "      <th>application</th>\n",
       "      <th>thickness</th>\n",
       "      <th>width</th>\n",
       "      <th>selling_price</th>\n",
       "      <th>no_of_days_toprocess</th>\n",
       "    </tr>\n",
       "  </thead>\n",
       "  <tbody>\n",
       "    <tr>\n",
       "      <th>customer</th>\n",
       "      <td>1.000000</td>\n",
       "      <td>0.083573</td>\n",
       "      <td>0.000878</td>\n",
       "      <td>0.038763</td>\n",
       "      <td>0.050535</td>\n",
       "      <td>0.001747</td>\n",
       "      <td>0.018759</td>\n",
       "    </tr>\n",
       "    <tr>\n",
       "      <th>country</th>\n",
       "      <td>0.083573</td>\n",
       "      <td>1.000000</td>\n",
       "      <td>-0.019333</td>\n",
       "      <td>-0.019582</td>\n",
       "      <td>0.055280</td>\n",
       "      <td>0.002993</td>\n",
       "      <td>-0.199316</td>\n",
       "    </tr>\n",
       "    <tr>\n",
       "      <th>application</th>\n",
       "      <td>0.000878</td>\n",
       "      <td>-0.019333</td>\n",
       "      <td>1.000000</td>\n",
       "      <td>-0.059481</td>\n",
       "      <td>-0.204458</td>\n",
       "      <td>0.001462</td>\n",
       "      <td>-0.166503</td>\n",
       "    </tr>\n",
       "    <tr>\n",
       "      <th>thickness</th>\n",
       "      <td>0.038763</td>\n",
       "      <td>-0.019582</td>\n",
       "      <td>-0.059481</td>\n",
       "      <td>1.000000</td>\n",
       "      <td>0.161644</td>\n",
       "      <td>-0.001129</td>\n",
       "      <td>0.032911</td>\n",
       "    </tr>\n",
       "    <tr>\n",
       "      <th>width</th>\n",
       "      <td>0.050535</td>\n",
       "      <td>0.055280</td>\n",
       "      <td>-0.204458</td>\n",
       "      <td>0.161644</td>\n",
       "      <td>1.000000</td>\n",
       "      <td>0.000584</td>\n",
       "      <td>0.054090</td>\n",
       "    </tr>\n",
       "    <tr>\n",
       "      <th>selling_price</th>\n",
       "      <td>0.001747</td>\n",
       "      <td>0.002993</td>\n",
       "      <td>0.001462</td>\n",
       "      <td>-0.001129</td>\n",
       "      <td>0.000584</td>\n",
       "      <td>1.000000</td>\n",
       "      <td>-0.004252</td>\n",
       "    </tr>\n",
       "    <tr>\n",
       "      <th>no_of_days_toprocess</th>\n",
       "      <td>0.018759</td>\n",
       "      <td>-0.199316</td>\n",
       "      <td>-0.166503</td>\n",
       "      <td>0.032911</td>\n",
       "      <td>0.054090</td>\n",
       "      <td>-0.004252</td>\n",
       "      <td>1.000000</td>\n",
       "    </tr>\n",
       "  </tbody>\n",
       "</table>\n",
       "</div>"
      ],
      "text/plain": [
       "                      customer   country  application  thickness     width  \\\n",
       "customer              1.000000  0.083573     0.000878   0.038763  0.050535   \n",
       "country               0.083573  1.000000    -0.019333  -0.019582  0.055280   \n",
       "application           0.000878 -0.019333     1.000000  -0.059481 -0.204458   \n",
       "thickness             0.038763 -0.019582    -0.059481   1.000000  0.161644   \n",
       "width                 0.050535  0.055280    -0.204458   0.161644  1.000000   \n",
       "selling_price         0.001747  0.002993     0.001462  -0.001129  0.000584   \n",
       "no_of_days_toprocess  0.018759 -0.199316    -0.166503   0.032911  0.054090   \n",
       "\n",
       "                      selling_price  no_of_days_toprocess  \n",
       "customer                   0.001747              0.018759  \n",
       "country                    0.002993             -0.199316  \n",
       "application                0.001462             -0.166503  \n",
       "thickness                 -0.001129              0.032911  \n",
       "width                      0.000584              0.054090  \n",
       "selling_price              1.000000             -0.004252  \n",
       "no_of_days_toprocess      -0.004252              1.000000  "
      ]
     },
     "execution_count": 59,
     "metadata": {},
     "output_type": "execute_result"
    }
   ],
   "source": [
    "df.corr()"
   ]
  },
  {
   "cell_type": "markdown",
   "id": "d1e6bc13",
   "metadata": {},
   "source": [
    "# Using Pearson Correlation"
   ]
  },
  {
   "cell_type": "code",
   "execution_count": 115,
   "id": "001ef9f9",
   "metadata": {},
   "outputs": [
    {
     "data": {
      "image/png": "[encoded data removed]",
      "text/plain": [
       "<Figure size 864x576 with 2 Axes>"
      ]
     },
     "metadata": {
      "needs_background": "light"
     },
     "output_type": "display_data"
    }
   ],
   "source": [
    "\n",
    "plt.figure(figsize=(12,8))\n",
    "sns.heatmap(df.corr(),annot=True,cmap=\"YlGnBu\")\n",
    "plt.show()"
   ]
  },
  {
   "cell_type": "code",
   "execution_count": 61,
   "id": "4ce7d988",
   "metadata": {},
   "outputs": [
    {
     "name": "stderr",
     "output_type": "stream",
     "text": [
      "C:\\Users\\PAJJU\\anaconda3\\lib\\site-packages\\seaborn\\_decorators.py:36: FutureWarning: Pass the following variable as a keyword arg: x. From version 0.12, the only valid positional argument will be `data`, and passing other arguments without an explicit keyword will result in an error or misinterpretation.\n",
      "  warnings.warn(\n"
     ]
    },
    {
     "data": {
      "image/png": "[encoded data removed]",
      "text/plain": [
       "<Figure size 864x576 with 1 Axes>"
      ]
     },
     "metadata": {
      "needs_background": "light"
     },
     "output_type": "display_data"
    },
    {
     "name": "stderr",
     "output_type": "stream",
     "text": [
      "C:\\Users\\PAJJU\\anaconda3\\lib\\site-packages\\seaborn\\_decorators.py:36: FutureWarning: Pass the following variable as a keyword arg: x. From version 0.12, the only valid positional argument will be `data`, and passing other arguments without an explicit keyword will result in an error or misinterpretation.\n",
      "  warnings.warn(\n"
     ]
    },
    {
     "data": {
      "image/png": "[encoded data removed]",
      "text/plain": [
       "<Figure size 864x576 with 1 Axes>"
      ]
     },
     "metadata": {
      "needs_background": "light"
     },
     "output_type": "display_data"
    },
    {
     "name": "stderr",
     "output_type": "stream",
     "text": [
      "C:\\Users\\PAJJU\\anaconda3\\lib\\site-packages\\seaborn\\_decorators.py:36: FutureWarning: Pass the following variable as a keyword arg: x. From version 0.12, the only valid positional argument will be `data`, and passing other arguments without an explicit keyword will result in an error or misinterpretation.\n",
      "  warnings.warn(\n"
     ]
    },
    {
     "data": {
      "image/png": "[encoded data removed]",
      "text/plain": [
       "<Figure size 864x576 with 1 Axes>"
      ]
     },
     "metadata": {
      "needs_background": "light"
     },
     "output_type": "display_data"
    },
    {
     "name": "stderr",
     "output_type": "stream",
     "text": [
      "C:\\Users\\PAJJU\\anaconda3\\lib\\site-packages\\seaborn\\_decorators.py:36: FutureWarning: Pass the following variable as a keyword arg: x. From version 0.12, the only valid positional argument will be `data`, and passing other arguments without an explicit keyword will result in an error or misinterpretation.\n",
      "  warnings.warn(\n"
     ]
    },
    {
     "data": {
      "image/png": "[encoded data removed]",
      "text/plain": [
       "<Figure size 864x576 with 1 Axes>"
      ]
     },
     "metadata": {
      "needs_background": "light"
     },
     "output_type": "display_data"
    },
    {
     "name": "stderr",
     "output_type": "stream",
     "text": [
      "C:\\Users\\PAJJU\\anaconda3\\lib\\site-packages\\seaborn\\_decorators.py:36: FutureWarning: Pass the following variable as a keyword arg: x. From version 0.12, the only valid positional argument will be `data`, and passing other arguments without an explicit keyword will result in an error or misinterpretation.\n",
      "  warnings.warn(\n"
     ]
    },
    {
     "data": {
      "image/png": "[encoded data removed]",
      "text/plain": [
       "<Figure size 864x576 with 1 Axes>"
      ]
     },
     "metadata": {
      "needs_background": "light"
     },
     "output_type": "display_data"
    },
    {
     "name": "stderr",
     "output_type": "stream",
     "text": [
      "C:\\Users\\PAJJU\\anaconda3\\lib\\site-packages\\seaborn\\_decorators.py:36: FutureWarning: Pass the following variable as a keyword arg: x. From version 0.12, the only valid positional argument will be `data`, and passing other arguments without an explicit keyword will result in an error or misinterpretation.\n",
      "  warnings.warn(\n"
     ]
    },
    {
     "data": {
      "image/png": "[encoded data removed]",
      "text/plain": [
       "<Figure size 864x576 with 1 Axes>"
      ]
     },
     "metadata": {
      "needs_background": "light"
     },
     "output_type": "display_data"
    }
   ],
   "source": [
    "for i in numerical_columns:\n",
    "    plt.figure(figsize=(12,8))\n",
    "    sns.boxplot(df[i])\n",
    "    plt.show()"
   ]
  },
  {
   "cell_type": "code",
   "execution_count": 62,
   "id": "c17abd22",
   "metadata": {},
   "outputs": [
    {
     "data": {
      "text/plain": [
       "Index(['item_date', 'customer', 'country', 'status', 'item type',\n",
       "       'application', 'thickness', 'width', 'delivery date', 'selling_price',\n",
       "       'no_of_days_toprocess'],\n",
       "      dtype='object')"
      ]
     },
     "execution_count": 62,
     "metadata": {},
     "output_type": "execute_result"
    }
   ],
   "source": [
    "df.columns"
   ]
  },
  {
   "cell_type": "code",
   "execution_count": 63,
   "id": "e90ea54d",
   "metadata": {},
   "outputs": [],
   "source": [
    "df1 = df.copy()"
   ]
  },
  {
   "cell_type": "code",
   "execution_count": 64,
   "id": "ee1aa396",
   "metadata": {},
   "outputs": [],
   "source": [
    "df1.drop(['item_date','delivery date'],axis=1,inplace=True)"
   ]
  },
  {
   "cell_type": "code",
   "execution_count": 65,
   "id": "df1029ac",
   "metadata": {},
   "outputs": [],
   "source": [
    "df2 = df1.copy()"
   ]
  },
  {
   "cell_type": "code",
   "execution_count": 66,
   "id": "4620c70b",
   "metadata": {},
   "outputs": [],
   "source": [
    "df3 = pd.get_dummies(df2,drop_first=True)"
   ]
  },
  {
   "cell_type": "code",
   "execution_count": 67,
   "id": "82a0c4aa",
   "metadata": {},
   "outputs": [],
   "source": [
    "df4 = df3.copy()"
   ]
  },
  {
   "cell_type": "code",
   "execution_count": 68,
   "id": "f2436050",
   "metadata": {},
   "outputs": [
    {
     "data": {
      "text/html": [
       "<div>\n",
       "<style scoped>\n",
       "    .dataframe tbody tr th:only-of-type {\n",
       "        vertical-align: middle;\n",
       "    }\n",
       "\n",
       "    .dataframe tbody tr th {\n",
       "        vertical-align: top;\n",
       "    }\n",
       "\n",
       "    .dataframe thead th {\n",
       "        text-align: right;\n",
       "    }\n",
       "</style>\n",
       "<table border=\"1\" class=\"dataframe\">\n",
       "  <thead>\n",
       "    <tr style=\"text-align: right;\">\n",
       "      <th></th>\n",
       "      <th>customer</th>\n",
       "      <th>country</th>\n",
       "      <th>application</th>\n",
       "      <th>thickness</th>\n",
       "      <th>width</th>\n",
       "      <th>selling_price</th>\n",
       "      <th>no_of_days_toprocess</th>\n",
       "      <th>status_Lost</th>\n",
       "      <th>status_Not lost for AM</th>\n",
       "      <th>status_Offerable</th>\n",
       "      <th>...</th>\n",
       "      <th>status_Revised</th>\n",
       "      <th>status_To be approved</th>\n",
       "      <th>status_Won</th>\n",
       "      <th>status_Wonderful</th>\n",
       "      <th>item type_Others</th>\n",
       "      <th>item type_PL</th>\n",
       "      <th>item type_S</th>\n",
       "      <th>item type_SLAWR</th>\n",
       "      <th>item type_W</th>\n",
       "      <th>item type_WI</th>\n",
       "    </tr>\n",
       "  </thead>\n",
       "  <tbody>\n",
       "    <tr>\n",
       "      <th>0</th>\n",
       "      <td>30156308.0</td>\n",
       "      <td>28.0</td>\n",
       "      <td>10.0</td>\n",
       "      <td>2.00</td>\n",
       "      <td>1500.0</td>\n",
       "      <td>854.00</td>\n",
       "      <td>91</td>\n",
       "      <td>0</td>\n",
       "      <td>0</td>\n",
       "      <td>0</td>\n",
       "      <td>...</td>\n",
       "      <td>0</td>\n",
       "      <td>0</td>\n",
       "      <td>1</td>\n",
       "      <td>0</td>\n",
       "      <td>0</td>\n",
       "      <td>0</td>\n",
       "      <td>0</td>\n",
       "      <td>0</td>\n",
       "      <td>1</td>\n",
       "      <td>0</td>\n",
       "    </tr>\n",
       "    <tr>\n",
       "      <th>1</th>\n",
       "      <td>30202938.0</td>\n",
       "      <td>25.0</td>\n",
       "      <td>41.0</td>\n",
       "      <td>0.80</td>\n",
       "      <td>1210.0</td>\n",
       "      <td>1047.00</td>\n",
       "      <td>0</td>\n",
       "      <td>0</td>\n",
       "      <td>0</td>\n",
       "      <td>0</td>\n",
       "      <td>...</td>\n",
       "      <td>0</td>\n",
       "      <td>0</td>\n",
       "      <td>1</td>\n",
       "      <td>0</td>\n",
       "      <td>0</td>\n",
       "      <td>0</td>\n",
       "      <td>0</td>\n",
       "      <td>0</td>\n",
       "      <td>1</td>\n",
       "      <td>0</td>\n",
       "    </tr>\n",
       "    <tr>\n",
       "      <th>2</th>\n",
       "      <td>30153963.0</td>\n",
       "      <td>30.0</td>\n",
       "      <td>28.0</td>\n",
       "      <td>0.38</td>\n",
       "      <td>952.0</td>\n",
       "      <td>644.33</td>\n",
       "      <td>-90</td>\n",
       "      <td>0</td>\n",
       "      <td>0</td>\n",
       "      <td>0</td>\n",
       "      <td>...</td>\n",
       "      <td>0</td>\n",
       "      <td>0</td>\n",
       "      <td>1</td>\n",
       "      <td>0</td>\n",
       "      <td>0</td>\n",
       "      <td>0</td>\n",
       "      <td>0</td>\n",
       "      <td>0</td>\n",
       "      <td>0</td>\n",
       "      <td>1</td>\n",
       "    </tr>\n",
       "    <tr>\n",
       "      <th>3</th>\n",
       "      <td>30349574.0</td>\n",
       "      <td>32.0</td>\n",
       "      <td>59.0</td>\n",
       "      <td>2.30</td>\n",
       "      <td>1317.0</td>\n",
       "      <td>768.00</td>\n",
       "      <td>-90</td>\n",
       "      <td>0</td>\n",
       "      <td>0</td>\n",
       "      <td>0</td>\n",
       "      <td>...</td>\n",
       "      <td>0</td>\n",
       "      <td>0</td>\n",
       "      <td>1</td>\n",
       "      <td>0</td>\n",
       "      <td>0</td>\n",
       "      <td>0</td>\n",
       "      <td>1</td>\n",
       "      <td>0</td>\n",
       "      <td>0</td>\n",
       "      <td>0</td>\n",
       "    </tr>\n",
       "    <tr>\n",
       "      <th>4</th>\n",
       "      <td>30211560.0</td>\n",
       "      <td>28.0</td>\n",
       "      <td>10.0</td>\n",
       "      <td>4.00</td>\n",
       "      <td>2000.0</td>\n",
       "      <td>577.00</td>\n",
       "      <td>-31</td>\n",
       "      <td>0</td>\n",
       "      <td>0</td>\n",
       "      <td>0</td>\n",
       "      <td>...</td>\n",
       "      <td>0</td>\n",
       "      <td>0</td>\n",
       "      <td>1</td>\n",
       "      <td>0</td>\n",
       "      <td>0</td>\n",
       "      <td>0</td>\n",
       "      <td>0</td>\n",
       "      <td>0</td>\n",
       "      <td>1</td>\n",
       "      <td>0</td>\n",
       "    </tr>\n",
       "  </tbody>\n",
       "</table>\n",
       "<p>5 rows × 21 columns</p>\n",
       "</div>"
      ],
      "text/plain": [
       "     customer  country  application  thickness   width  selling_price  \\\n",
       "0  30156308.0     28.0         10.0       2.00  1500.0         854.00   \n",
       "1  30202938.0     25.0         41.0       0.80  1210.0        1047.00   \n",
       "2  30153963.0     30.0         28.0       0.38   952.0         644.33   \n",
       "3  30349574.0     32.0         59.0       2.30  1317.0         768.00   \n",
       "4  30211560.0     28.0         10.0       4.00  2000.0         577.00   \n",
       "\n",
       "   no_of_days_toprocess  status_Lost  status_Not lost for AM  \\\n",
       "0                    91            0                       0   \n",
       "1                     0            0                       0   \n",
       "2                   -90            0                       0   \n",
       "3                   -90            0                       0   \n",
       "4                   -31            0                       0   \n",
       "\n",
       "   status_Offerable  ...  status_Revised  status_To be approved  status_Won  \\\n",
       "0                 0  ...               0                      0           1   \n",
       "1                 0  ...               0                      0           1   \n",
       "2                 0  ...               0                      0           1   \n",
       "3                 0  ...               0                      0           1   \n",
       "4                 0  ...               0                      0           1   \n",
       "\n",
       "   status_Wonderful  item type_Others  item type_PL  item type_S  \\\n",
       "0                 0                 0             0            0   \n",
       "1                 0                 0             0            0   \n",
       "2                 0                 0             0            0   \n",
       "3                 0                 0             0            1   \n",
       "4                 0                 0             0            0   \n",
       "\n",
       "   item type_SLAWR  item type_W  item type_WI  \n",
       "0                0            1             0  \n",
       "1                0            1             0  \n",
       "2                0            0             1  \n",
       "3                0            0             0  \n",
       "4                0            1             0  \n",
       "\n",
       "[5 rows x 21 columns]"
      ]
     },
     "execution_count": 68,
     "metadata": {},
     "output_type": "execute_result"
    }
   ],
   "source": [
    "df3.head()"
   ]
  },
  {
   "cell_type": "code",
   "execution_count": 69,
   "id": "8f22de44",
   "metadata": {},
   "outputs": [],
   "source": [
    "from sklearn.preprocessing import MinMaxScaler"
   ]
  },
  {
   "cell_type": "code",
   "execution_count": 70,
   "id": "95e4163c",
   "metadata": {},
   "outputs": [
    {
     "data": {
      "text/html": [
       "<div>\n",
       "<style scoped>\n",
       "    .dataframe tbody tr th:only-of-type {\n",
       "        vertical-align: middle;\n",
       "    }\n",
       "\n",
       "    .dataframe tbody tr th {\n",
       "        vertical-align: top;\n",
       "    }\n",
       "\n",
       "    .dataframe thead th {\n",
       "        text-align: right;\n",
       "    }\n",
       "</style>\n",
       "<table border=\"1\" class=\"dataframe\">\n",
       "  <thead>\n",
       "    <tr style=\"text-align: right;\">\n",
       "      <th></th>\n",
       "      <th>customer</th>\n",
       "      <th>country</th>\n",
       "      <th>application</th>\n",
       "      <th>thickness</th>\n",
       "      <th>width</th>\n",
       "      <th>no_of_days_toprocess</th>\n",
       "      <th>status_Lost</th>\n",
       "      <th>status_Not lost for AM</th>\n",
       "      <th>status_Offerable</th>\n",
       "      <th>status_Offered</th>\n",
       "      <th>status_Revised</th>\n",
       "      <th>status_To be approved</th>\n",
       "      <th>status_Won</th>\n",
       "      <th>status_Wonderful</th>\n",
       "      <th>item type_Others</th>\n",
       "      <th>item type_PL</th>\n",
       "      <th>item type_S</th>\n",
       "      <th>item type_SLAWR</th>\n",
       "      <th>item type_W</th>\n",
       "      <th>item type_WI</th>\n",
       "    </tr>\n",
       "  </thead>\n",
       "  <tbody>\n",
       "    <tr>\n",
       "      <th>0</th>\n",
       "      <td>0.991713</td>\n",
       "      <td>0.034091</td>\n",
       "      <td>0.082474</td>\n",
       "      <td>0.000728</td>\n",
       "      <td>0.501506</td>\n",
       "      <td>0.686016</td>\n",
       "      <td>0.0</td>\n",
       "      <td>0.0</td>\n",
       "      <td>0.0</td>\n",
       "      <td>0.0</td>\n",
       "      <td>0.0</td>\n",
       "      <td>0.0</td>\n",
       "      <td>1.0</td>\n",
       "      <td>0.0</td>\n",
       "      <td>0.0</td>\n",
       "      <td>0.0</td>\n",
       "      <td>0.0</td>\n",
       "      <td>0.0</td>\n",
       "      <td>1.0</td>\n",
       "      <td>0.0</td>\n",
       "    </tr>\n",
       "    <tr>\n",
       "      <th>1</th>\n",
       "      <td>0.993248</td>\n",
       "      <td>0.000000</td>\n",
       "      <td>0.402062</td>\n",
       "      <td>0.000248</td>\n",
       "      <td>0.404483</td>\n",
       "      <td>0.605981</td>\n",
       "      <td>0.0</td>\n",
       "      <td>0.0</td>\n",
       "      <td>0.0</td>\n",
       "      <td>0.0</td>\n",
       "      <td>0.0</td>\n",
       "      <td>0.0</td>\n",
       "      <td>1.0</td>\n",
       "      <td>0.0</td>\n",
       "      <td>0.0</td>\n",
       "      <td>0.0</td>\n",
       "      <td>0.0</td>\n",
       "      <td>0.0</td>\n",
       "      <td>1.0</td>\n",
       "      <td>0.0</td>\n",
       "    </tr>\n",
       "    <tr>\n",
       "      <th>2</th>\n",
       "      <td>0.991636</td>\n",
       "      <td>0.056818</td>\n",
       "      <td>0.268041</td>\n",
       "      <td>0.000080</td>\n",
       "      <td>0.318167</td>\n",
       "      <td>0.526825</td>\n",
       "      <td>0.0</td>\n",
       "      <td>0.0</td>\n",
       "      <td>0.0</td>\n",
       "      <td>0.0</td>\n",
       "      <td>0.0</td>\n",
       "      <td>0.0</td>\n",
       "      <td>1.0</td>\n",
       "      <td>0.0</td>\n",
       "      <td>0.0</td>\n",
       "      <td>0.0</td>\n",
       "      <td>0.0</td>\n",
       "      <td>0.0</td>\n",
       "      <td>0.0</td>\n",
       "      <td>1.0</td>\n",
       "    </tr>\n",
       "    <tr>\n",
       "      <th>3</th>\n",
       "      <td>0.998072</td>\n",
       "      <td>0.079545</td>\n",
       "      <td>0.587629</td>\n",
       "      <td>0.000848</td>\n",
       "      <td>0.440281</td>\n",
       "      <td>0.526825</td>\n",
       "      <td>0.0</td>\n",
       "      <td>0.0</td>\n",
       "      <td>0.0</td>\n",
       "      <td>0.0</td>\n",
       "      <td>0.0</td>\n",
       "      <td>0.0</td>\n",
       "      <td>1.0</td>\n",
       "      <td>0.0</td>\n",
       "      <td>0.0</td>\n",
       "      <td>0.0</td>\n",
       "      <td>1.0</td>\n",
       "      <td>0.0</td>\n",
       "      <td>0.0</td>\n",
       "      <td>0.0</td>\n",
       "    </tr>\n",
       "    <tr>\n",
       "      <th>4</th>\n",
       "      <td>0.993531</td>\n",
       "      <td>0.034091</td>\n",
       "      <td>0.082474</td>\n",
       "      <td>0.001528</td>\n",
       "      <td>0.668786</td>\n",
       "      <td>0.578716</td>\n",
       "      <td>0.0</td>\n",
       "      <td>0.0</td>\n",
       "      <td>0.0</td>\n",
       "      <td>0.0</td>\n",
       "      <td>0.0</td>\n",
       "      <td>0.0</td>\n",
       "      <td>1.0</td>\n",
       "      <td>0.0</td>\n",
       "      <td>0.0</td>\n",
       "      <td>0.0</td>\n",
       "      <td>0.0</td>\n",
       "      <td>0.0</td>\n",
       "      <td>1.0</td>\n",
       "      <td>0.0</td>\n",
       "    </tr>\n",
       "  </tbody>\n",
       "</table>\n",
       "</div>"
      ],
      "text/plain": [
       "   customer   country  application  thickness     width  no_of_days_toprocess  \\\n",
       "0  0.991713  0.034091     0.082474   0.000728  0.501506              0.686016   \n",
       "1  0.993248  0.000000     0.402062   0.000248  0.404483              0.605981   \n",
       "2  0.991636  0.056818     0.268041   0.000080  0.318167              0.526825   \n",
       "3  0.998072  0.079545     0.587629   0.000848  0.440281              0.526825   \n",
       "4  0.993531  0.034091     0.082474   0.001528  0.668786              0.578716   \n",
       "\n",
       "   status_Lost  status_Not lost for AM  status_Offerable  status_Offered  \\\n",
       "0          0.0                     0.0               0.0             0.0   \n",
       "1          0.0                     0.0               0.0             0.0   \n",
       "2          0.0                     0.0               0.0             0.0   \n",
       "3          0.0                     0.0               0.0             0.0   \n",
       "4          0.0                     0.0               0.0             0.0   \n",
       "\n",
       "   status_Revised  status_To be approved  status_Won  status_Wonderful  \\\n",
       "0             0.0                    0.0         1.0               0.0   \n",
       "1             0.0                    0.0         1.0               0.0   \n",
       "2             0.0                    0.0         1.0               0.0   \n",
       "3             0.0                    0.0         1.0               0.0   \n",
       "4             0.0                    0.0         1.0               0.0   \n",
       "\n",
       "   item type_Others  item type_PL  item type_S  item type_SLAWR  item type_W  \\\n",
       "0               0.0           0.0          0.0              0.0          1.0   \n",
       "1               0.0           0.0          0.0              0.0          1.0   \n",
       "2               0.0           0.0          0.0              0.0          0.0   \n",
       "3               0.0           0.0          1.0              0.0          0.0   \n",
       "4               0.0           0.0          0.0              0.0          1.0   \n",
       "\n",
       "   item type_WI  \n",
       "0           0.0  \n",
       "1           0.0  \n",
       "2           1.0  \n",
       "3           0.0  \n",
       "4           0.0  "
      ]
     },
     "execution_count": 70,
     "metadata": {},
     "output_type": "execute_result"
    }
   ],
   "source": [
    "from sklearn.preprocessing import MinMaxScaler\n",
    "X = df3.drop('selling_price',axis=1)\n",
    "y = df3['selling_price']\n",
    "\n",
    "features = X.columns.values\n",
    "scaler = MinMaxScaler(feature_range = (0,1))\n",
    "scaler.fit(X)\n",
    "X = pd.DataFrame(scaler.transform(X))\n",
    "X.columns = features\n",
    "X.head()"
   ]
  },
  {
   "cell_type": "code",
   "execution_count": 71,
   "id": "93ac68c5",
   "metadata": {},
   "outputs": [
    {
     "data": {
      "text/plain": [
       "((163468, 20), (18164, 20))"
      ]
     },
     "execution_count": 71,
     "metadata": {},
     "output_type": "execute_result"
    }
   ],
   "source": [
    "from sklearn.model_selection import train_test_split\n",
    "X_train, X_test, y_train, y_test = train_test_split(X,y,test_size=0.10,random_state=42)\n",
    "X_train.shape, X_test.shape"
   ]
  },
  {
   "cell_type": "markdown",
   "id": "c5fab771",
   "metadata": {},
   "source": [
    "# LinearRegression"
   ]
  },
  {
   "cell_type": "code",
   "execution_count": 72,
   "id": "b46bcd4c",
   "metadata": {},
   "outputs": [
    {
     "data": {
      "text/plain": [
       "LinearRegression()"
      ]
     },
     "execution_count": 72,
     "metadata": {},
     "output_type": "execute_result"
    }
   ],
   "source": [
    "lm = LinearRegression()\n",
    "lm.fit(X_train,y_train)"
   ]
  },
  {
   "cell_type": "code",
   "execution_count": 73,
   "id": "9e8be69b",
   "metadata": {},
   "outputs": [
    {
     "name": "stdout",
     "output_type": "stream",
     "text": [
      "Predicted train value : [-1406.67829335  -947.81220079 -1217.73527298 ...   556.80713621\n",
      "  6291.5262533   3155.93421125]\n"
     ]
    }
   ],
   "source": [
    "train_predictions = lm.predict(X_train)\n",
    "print(\"Predicted train value :\", train_predictions)"
   ]
  },
  {
   "cell_type": "code",
   "execution_count": 74,
   "id": "3dfc3ad4",
   "metadata": {},
   "outputs": [
    {
     "name": "stdout",
     "output_type": "stream",
     "text": [
      "Predicted test value : [-4158.1650888   8966.25435163 -2045.489045   ...  5278.0535573\n",
      " -2795.30160358  1328.36672716]\n"
     ]
    }
   ],
   "source": [
    "test_predictions = lm.predict(X_test)\n",
    "print(\"Predicted test value :\", test_predictions)"
   ]
  },
  {
   "cell_type": "code",
   "execution_count": 75,
   "id": "b807db68",
   "metadata": {},
   "outputs": [
    {
     "data": {
      "text/plain": [
       "-764.2225992917154"
      ]
     },
     "execution_count": 75,
     "metadata": {},
     "output_type": "execute_result"
    }
   ],
   "source": [
    "lm.score(X_test,y_test)"
   ]
  },
  {
   "cell_type": "code",
   "execution_count": 76,
   "id": "222dfdbe",
   "metadata": {},
   "outputs": [],
   "source": [
    "from sklearn.metrics import r2_score,mean_squared_error,mean_absolute_error"
   ]
  },
  {
   "cell_type": "code",
   "execution_count": 77,
   "id": "50cb9c26",
   "metadata": {},
   "outputs": [
    {
     "name": "stdout",
     "output_type": "stream",
     "text": [
      "r2score_train: 0.0003005836631759795\n",
      "r2score_test: -764.2225992917154\n",
      "MAE: 3559.0921176388906\n",
      "MSE: 38737667.5066733\n",
      "RMSE train  349728.9218011446\n",
      "RMSE test 6223.959150466309\n"
     ]
    }
   ],
   "source": [
    "print('r2score_train:', r2_score(y_train, train_predictions))\n",
    "print('r2score_test:', r2_score(y_test, test_predictions))\n",
    "print('MAE:', mean_absolute_error(y_test, test_predictions))\n",
    "print('MSE:', mean_squared_error(y_test, test_predictions))\n",
    "print('RMSE train ',np.sqrt(mean_squared_error(y_train,train_predictions)))\n",
    "print('RMSE test',np.sqrt(mean_squared_error(y_test,test_predictions)))"
   ]
  },
  {
   "cell_type": "markdown",
   "id": "cd7127cd",
   "metadata": {},
   "source": [
    "# Ridge"
   ]
  },
  {
   "cell_type": "code",
   "execution_count": 78,
   "id": "fbc8e5c0",
   "metadata": {},
   "outputs": [
    {
     "data": {
      "text/plain": [
       "Ridge(alpha=0.01)"
      ]
     },
     "execution_count": 78,
     "metadata": {},
     "output_type": "execute_result"
    }
   ],
   "source": [
    "rr = Ridge(alpha=0.01)\n",
    "rr.fit(X_train, y_train)"
   ]
  },
  {
   "cell_type": "code",
   "execution_count": 79,
   "id": "235a7bad",
   "metadata": {},
   "outputs": [
    {
     "name": "stdout",
     "output_type": "stream",
     "text": [
      "Predicted train value: [-1404.82701504  -946.39089108 -1217.56043717 ...   558.53358949\n",
      "  6293.63469687  3156.49558582]\n"
     ]
    }
   ],
   "source": [
    "train_predictions = rr.predict(X_train)\n",
    "print(\"Predicted train value:\", train_predictions)"
   ]
  },
  {
   "cell_type": "code",
   "execution_count": 80,
   "id": "f97190f4",
   "metadata": {},
   "outputs": [
    {
     "name": "stdout",
     "output_type": "stream",
     "text": [
      "Predicted test value: [-4157.67491433  8967.82478024 -2044.64538558 ...  5276.31401351\n",
      " -2795.67955798  1327.33959097]\n"
     ]
    }
   ],
   "source": [
    "test_predictions = rr.predict(X_test)\n",
    "print(\"Predicted test value:\", test_predictions)"
   ]
  },
  {
   "cell_type": "code",
   "execution_count": 81,
   "id": "4cb179d5",
   "metadata": {},
   "outputs": [
    {
     "data": {
      "text/plain": [
       "-764.1898644455779"
      ]
     },
     "execution_count": 81,
     "metadata": {},
     "output_type": "execute_result"
    }
   ],
   "source": [
    "rr.score(X_test,y_test)"
   ]
  },
  {
   "cell_type": "code",
   "execution_count": 82,
   "id": "fbc7b372",
   "metadata": {},
   "outputs": [
    {
     "name": "stdout",
     "output_type": "stream",
     "text": [
      "r2score_train: 0.0003005835196843165\n",
      "r2score_test: -764.1898644455779\n",
      "MAE: 3558.861517566964\n",
      "MSE: 38736010.378947675\n",
      "RMSE train  349728.9218262437\n",
      "RMSE test 6223.826024154891\n"
     ]
    }
   ],
   "source": [
    "print('r2score_train:', r2_score(y_train, train_predictions))\n",
    "print('r2score_test:', r2_score(y_test, test_predictions))\n",
    "print('MAE:', mean_absolute_error(y_test, test_predictions))\n",
    "print('MSE:', mean_squared_error(y_test, test_predictions))\n",
    "print('RMSE train ',np.sqrt(mean_squared_error(y_train,train_predictions)))\n",
    "print('RMSE test',np.sqrt(mean_squared_error(y_test,test_predictions)))"
   ]
  },
  {
   "cell_type": "markdown",
   "id": "e03ea49e",
   "metadata": {},
   "source": [
    "# Losso"
   ]
  },
  {
   "cell_type": "code",
   "execution_count": 83,
   "id": "31dfca9a",
   "metadata": {},
   "outputs": [
    {
     "name": "stderr",
     "output_type": "stream",
     "text": [
      "C:\\Users\\PAJJU\\anaconda3\\lib\\site-packages\\sklearn\\linear_model\\_coordinate_descent.py:647: ConvergenceWarning: Objective did not converge. You might want to increase the number of iterations, check the scale of the features or consider increasing regularisation. Duality gap: 7.896e+15, tolerance: 2.000e+12\n",
      "  model = cd_fast.enet_coordinate_descent(\n"
     ]
    },
    {
     "data": {
      "text/plain": [
       "Lasso(alpha=0.01)"
      ]
     },
     "execution_count": 83,
     "metadata": {},
     "output_type": "execute_result"
    }
   ],
   "source": [
    "model_lasso = Lasso(alpha=0.01)\n",
    "model_lasso.fit(X_train, y_train) "
   ]
  },
  {
   "cell_type": "code",
   "execution_count": 84,
   "id": "942d3f08",
   "metadata": {},
   "outputs": [
    {
     "name": "stdout",
     "output_type": "stream",
     "text": [
      "Predicted train value : [-1403.9795418   -946.53792507 -1217.50319889 ...   558.38940961\n",
      "  6292.36650294  3156.61039569]\n"
     ]
    }
   ],
   "source": [
    "train_predictions = model_lasso.predict(X_train)\n",
    "print(\"Predicted train value :\", train_predictions)"
   ]
  },
  {
   "cell_type": "code",
   "execution_count": 85,
   "id": "c0d06b8f",
   "metadata": {},
   "outputs": [
    {
     "name": "stdout",
     "output_type": "stream",
     "text": [
      "Predicted test value: [-4157.43927337  8966.80766407 -2044.54405656 ...  5276.50125278\n",
      " -2793.50917474  1328.21249923]\n"
     ]
    }
   ],
   "source": [
    "test_predictions = model_lasso.predict(X_test)\n",
    "print(\"Predicted test value:\", test_predictions)"
   ]
  },
  {
   "cell_type": "code",
   "execution_count": 86,
   "id": "37755bf5",
   "metadata": {},
   "outputs": [
    {
     "name": "stdout",
     "output_type": "stream",
     "text": [
      "r2score_train: 0.0003005826743321949\n",
      "r2score_test: -764.1550964748338\n",
      "MAE: 3558.747839737937\n",
      "MSE: 38734250.32887622\n",
      "RMSE train  349728.9219741102\n",
      "RMSE test 6223.684626399077\n"
     ]
    }
   ],
   "source": [
    "print('r2score_train:', r2_score(y_train, train_predictions))\n",
    "print('r2score_test:', r2_score(y_test, test_predictions))\n",
    "print('MAE:', mean_absolute_error(y_test, test_predictions))\n",
    "print('MSE:', mean_squared_error(y_test, test_predictions))\n",
    "print('RMSE train ',np.sqrt(mean_squared_error(y_train,train_predictions)))\n",
    "print('RMSE test',np.sqrt(mean_squared_error(y_test,test_predictions)))"
   ]
  },
  {
   "cell_type": "markdown",
   "id": "d68139d1",
   "metadata": {},
   "source": [
    "# Decision Tree"
   ]
  },
  {
   "cell_type": "code",
   "execution_count": 87,
   "id": "8d1eecdc",
   "metadata": {},
   "outputs": [
    {
     "data": {
      "text/plain": [
       "DecisionTreeRegressor(random_state=0)"
      ]
     },
     "execution_count": 87,
     "metadata": {},
     "output_type": "execute_result"
    }
   ],
   "source": [
    "dtr= DecisionTreeRegressor(random_state = 0) \n",
    "dtr.fit(X_train, y_train)"
   ]
  },
  {
   "cell_type": "code",
   "execution_count": 88,
   "id": "544ff9cc",
   "metadata": {},
   "outputs": [
    {
     "name": "stdout",
     "output_type": "stream",
     "text": [
      "Predicted train value: [655.         754.4        788.         ... 645.8        874.\n",
      " 632.33333333]\n"
     ]
    }
   ],
   "source": [
    "train_predictions = dtr.predict(X_train)\n",
    "print(\"Predicted train value:\", train_predictions)"
   ]
  },
  {
   "cell_type": "code",
   "execution_count": 89,
   "id": "ef4fa321",
   "metadata": {},
   "outputs": [
    {
     "name": "stdout",
     "output_type": "stream",
     "text": [
      "Predicted test value: [1225.          795.69230769 1004.         ...  720.4         701.\n",
      "  522.        ]\n"
     ]
    }
   ],
   "source": [
    "test_predictions = dtr.predict(X_test)\n",
    "print(\"Predicted test value:\", test_predictions)"
   ]
  },
  {
   "cell_type": "code",
   "execution_count": 90,
   "id": "6f75695f",
   "metadata": {},
   "outputs": [
    {
     "name": "stdout",
     "output_type": "stream",
     "text": [
      "r2score_train: 0.999999734429538\n",
      "r2score_test: 0.8128475070709118\n",
      "MAE: 46.244021071295776\n",
      "MSE: 9474.172679743715\n",
      "RMSE train  180.254748475459\n",
      "RMSE test 97.33536191818324\n"
     ]
    }
   ],
   "source": [
    "print('r2score_train:', r2_score(y_train, train_predictions))\n",
    "print('r2score_test:', r2_score(y_test, test_predictions))\n",
    "print('MAE:', mean_absolute_error(y_test, test_predictions))\n",
    "print('MSE:', mean_squared_error(y_test, test_predictions))\n",
    "print('RMSE train ',np.sqrt(mean_squared_error(y_train,train_predictions)))\n",
    "print('RMSE test',np.sqrt(mean_squared_error(y_test,test_predictions)))"
   ]
  },
  {
   "cell_type": "markdown",
   "id": "a024e6a9",
   "metadata": {},
   "source": [
    "# Knn Regressor"
   ]
  },
  {
   "cell_type": "code",
   "execution_count": 91,
   "id": "b237d85b",
   "metadata": {},
   "outputs": [
    {
     "data": {
      "text/plain": [
       "KNeighborsRegressor()"
      ]
     },
     "execution_count": 91,
     "metadata": {},
     "output_type": "execute_result"
    }
   ],
   "source": [
    "knn = KNeighborsRegressor()\n",
    "knn.fit(X_train, y_train)"
   ]
  },
  {
   "cell_type": "code",
   "execution_count": 92,
   "id": "7b277689",
   "metadata": {},
   "outputs": [
    {
     "name": "stdout",
     "output_type": "stream",
     "text": [
      "Predicted train value : [730.2  803.16 805.6  ... 639.   783.4  644.4 ]\n"
     ]
    }
   ],
   "source": [
    "train_predictions = knn.predict(X_train)\n",
    "print(\"Predicted train value :\", train_predictions)"
   ]
  },
  {
   "cell_type": "code",
   "execution_count": 93,
   "id": "fa330f39",
   "metadata": {},
   "outputs": [
    {
     "name": "stdout",
     "output_type": "stream",
     "text": [
      "Predicted test value: [1228.4  821.8 1044.2 ...  720.4  693.4  514.8]\n"
     ]
    }
   ],
   "source": [
    "test_predictions = knn.predict(X_test)\n",
    "print(\"Predicted test value:\", test_predictions)"
   ]
  },
  {
   "cell_type": "code",
   "execution_count": 94,
   "id": "79dfb7bf",
   "metadata": {},
   "outputs": [
    {
     "name": "stdout",
     "output_type": "stream",
     "text": [
      "r2score_train: 0.27999589807969627\n",
      "r2score_test: -870021.6827378451\n",
      "MAE: 2265.926685641929\n",
      "MSE: 44042935269.23733\n",
      "RMSE train  296800.2859517626\n",
      "RMSE test 209864.08761204794\n"
     ]
    }
   ],
   "source": [
    "print('r2score_train:', r2_score(y_train, train_predictions))\n",
    "print('r2score_test:', r2_score(y_test, test_predictions))\n",
    "print('MAE:', mean_absolute_error(y_test, test_predictions))\n",
    "print('MSE:', mean_squared_error(y_test, test_predictions))\n",
    "print('RMSE train ',np.sqrt(mean_squared_error(y_train,train_predictions)))\n",
    "print('RMSE test',np.sqrt(mean_squared_error(y_test,test_predictions)))"
   ]
  },
  {
   "cell_type": "markdown",
   "id": "45dd9461",
   "metadata": {},
   "source": [
    "# Random Forest Regressor"
   ]
  },
  {
   "cell_type": "code",
   "execution_count": 95,
   "id": "e49ecf6e",
   "metadata": {},
   "outputs": [
    {
     "data": {
      "text/plain": [
       "RandomForestRegressor()"
      ]
     },
     "execution_count": 95,
     "metadata": {},
     "output_type": "execute_result"
    }
   ],
   "source": [
    "rf_model = RandomForestRegressor()\n",
    "rf_model.fit(X_train, y_train)"
   ]
  },
  {
   "cell_type": "code",
   "execution_count": 96,
   "id": "d34a9252",
   "metadata": {},
   "outputs": [
    {
     "name": "stdout",
     "output_type": "stream",
     "text": [
      "Predicted train value : [662.56566667 754.02458333 817.         ... 642.93       856.27326625\n",
      " 632.26696429]\n"
     ]
    }
   ],
   "source": [
    "train_predictions = rf_model.predict(X_train)\n",
    "print(\"Predicted train value :\", train_predictions)"
   ]
  },
  {
   "cell_type": "code",
   "execution_count": 97,
   "id": "ba6c0a30",
   "metadata": {},
   "outputs": [
    {
     "name": "stdout",
     "output_type": "stream",
     "text": [
      "Predicted test value: [1258.6345      794.76885317  997.68183333 ...  721.64780952  691.22166667\n",
      "  518.91833333]\n"
     ]
    }
   ],
   "source": [
    "test_predictions = rf_model.predict(X_test)\n",
    "print(\"Predicted test value:\", test_predictions)"
   ]
  },
  {
   "cell_type": "code",
   "execution_count": 98,
   "id": "6bf036c1",
   "metadata": {},
   "outputs": [
    {
     "name": "stdout",
     "output_type": "stream",
     "text": [
      "r2score_train: 0.7973467841557578\n",
      "r2score_test: 0.8874113156939107\n",
      "MAE: 42.08087762353092\n",
      "MSE: 5699.548107570259\n",
      "RMSE train  157461.20825600118\n",
      "RMSE test 75.49535156266417\n"
     ]
    }
   ],
   "source": [
    "print('r2score_train:', r2_score(y_train, train_predictions))\n",
    "print('r2score_test:', r2_score(y_test, test_predictions))\n",
    "print('MAE:', mean_absolute_error(y_test, test_predictions))\n",
    "print('MSE:', mean_squared_error(y_test, test_predictions))\n",
    "print('RMSE train ',np.sqrt(mean_squared_error(y_train,train_predictions)))\n",
    "print('RMSE test',np.sqrt(mean_squared_error(y_test,test_predictions)))"
   ]
  },
  {
   "cell_type": "markdown",
   "id": "11613456",
   "metadata": {},
   "source": [
    "# Ada Boost Regressor"
   ]
  },
  {
   "cell_type": "code",
   "execution_count": 99,
   "id": "0dbaab78",
   "metadata": {},
   "outputs": [
    {
     "data": {
      "text/plain": [
       "AdaBoostRegressor()"
      ]
     },
     "execution_count": 99,
     "metadata": {},
     "output_type": "execute_result"
    }
   ],
   "source": [
    "ada_reg = AdaBoostRegressor()\n",
    "ada_reg.fit(X_train, y_train)"
   ]
  },
  {
   "cell_type": "code",
   "execution_count": 100,
   "id": "1d0c310f",
   "metadata": {},
   "outputs": [
    {
     "name": "stdout",
     "output_type": "stream",
     "text": [
      "Predicted train value : [762.92803365 762.92803365 763.20133417 ... 762.92803365 957.04315606\n",
      " 762.92803365]\n"
     ]
    }
   ],
   "source": [
    "train_predictions = ada_reg.predict(X_train)\n",
    "print(\"Predicted train value :\", train_predictions)"
   ]
  },
  {
   "cell_type": "code",
   "execution_count": 101,
   "id": "6d35882a",
   "metadata": {},
   "outputs": [
    {
     "name": "stdout",
     "output_type": "stream",
     "text": [
      "Predicted test value: [959.56328439 762.92803365 763.20133417 ... 762.92803365 763.20133417\n",
      " 762.61780785]\n"
     ]
    }
   ],
   "source": [
    "test_predictions = ada_reg.predict(X_test)\n",
    "print(\"Predicted test value:\", test_predictions)"
   ]
  },
  {
   "cell_type": "code",
   "execution_count": 102,
   "id": "e6816f56",
   "metadata": {},
   "outputs": [
    {
     "name": "stdout",
     "output_type": "stream",
     "text": [
      "r2score_train: 0.9691609103016642\n",
      "r2score_test: 0.16969627839016788\n",
      "MAE: 153.42528915879646\n",
      "MSE: 42032.25248058003\n",
      "RMSE train  61425.34505310002\n",
      "RMSE test 205.0176882139198\n"
     ]
    }
   ],
   "source": [
    "print('r2score_train:', r2_score(y_train, train_predictions))\n",
    "print('r2score_test:', r2_score(y_test, test_predictions))\n",
    "print('MAE:', mean_absolute_error(y_test, test_predictions))\n",
    "print('MSE:', mean_squared_error(y_test, test_predictions))\n",
    "print('RMSE train ',np.sqrt(mean_squared_error(y_train,train_predictions)))\n",
    "print('RMSE test',np.sqrt(mean_squared_error(y_test,test_predictions)))"
   ]
  },
  {
   "cell_type": "markdown",
   "id": "67c93dac",
   "metadata": {},
   "source": [
    "# Gradient Boost Regressor"
   ]
  },
  {
   "cell_type": "code",
   "execution_count": 103,
   "id": "1e7fd6cd",
   "metadata": {},
   "outputs": [
    {
     "data": {
      "text/plain": [
       "GradientBoostingRegressor()"
      ]
     },
     "execution_count": 103,
     "metadata": {},
     "output_type": "execute_result"
    }
   ],
   "source": [
    "gbr = GradientBoostingRegressor()\n",
    "gbr.fit(X_train,y_train)"
   ]
  },
  {
   "cell_type": "code",
   "execution_count": 104,
   "id": "24c6f755",
   "metadata": {},
   "outputs": [
    {
     "name": "stdout",
     "output_type": "stream",
     "text": [
      "Predicted train value : [828.8075635  348.87774803 813.44068958 ... 587.73460919 313.85154546\n",
      " 701.46120222]\n"
     ]
    }
   ],
   "source": [
    "train_predictions = gbr.predict(X_train)\n",
    "print(\"Predicted train value :\", train_predictions)"
   ]
  },
  {
   "cell_type": "code",
   "execution_count": 105,
   "id": "9e4fcedf",
   "metadata": {},
   "outputs": [
    {
     "name": "stdout",
     "output_type": "stream",
     "text": [
      "Predicted test value: [-2249.66531492 -2054.53756962   811.85653631 ...   178.30397255\n",
      "  1134.18197356   457.14865189]\n"
     ]
    }
   ],
   "source": [
    "test_predictions = gbr.predict(X_test)\n",
    "print(\"Predicted test value:\", test_predictions)"
   ]
  },
  {
   "cell_type": "code",
   "execution_count": 106,
   "id": "23216d31",
   "metadata": {},
   "outputs": [
    {
     "name": "stdout",
     "output_type": "stream",
     "text": [
      "r2score_train: 0.5634060043403826\n",
      "r2score_test: -332352.12726721144\n",
      "MAE: 4045.887870431884\n",
      "MSE: 16824627174.88602\n",
      "RMSE train  231119.0315614638\n",
      "RMSE test 129709.78056756561\n"
     ]
    }
   ],
   "source": [
    "print('r2score_train:', r2_score(y_train, train_predictions))\n",
    "print('r2score_test:', r2_score(y_test, test_predictions))\n",
    "print('MAE:', mean_absolute_error(y_test, test_predictions))\n",
    "print('MSE:', mean_squared_error(y_test, test_predictions))\n",
    "print('RMSE train ',np.sqrt(mean_squared_error(y_train,train_predictions)))\n",
    "print('RMSE test',np.sqrt(mean_squared_error(y_test,test_predictions)))"
   ]
  },
  {
   "cell_type": "markdown",
   "id": "973cab0d",
   "metadata": {},
   "source": [
    "# XG Boost"
   ]
  },
  {
   "cell_type": "code",
   "execution_count": 111,
   "id": "bfd6a936",
   "metadata": {},
   "outputs": [
    {
     "data": {
      "text/plain": [
       "XGBRegressor(base_score=None, booster=None, callbacks=None,\n",
       "             colsample_bylevel=None, colsample_bynode=None,\n",
       "             colsample_bytree=None, early_stopping_rounds=None,\n",
       "             enable_categorical=False, eval_metric=None, feature_types=None,\n",
       "             gamma=None, gpu_id=None, grow_policy=None, importance_type=None,\n",
       "             interaction_constraints=None, learning_rate=None, max_bin=None,\n",
       "             max_cat_threshold=None, max_cat_to_onehot=None,\n",
       "             max_delta_step=None, max_depth=None, max_leaves=None,\n",
       "             min_child_weight=None, missing=nan, monotone_constraints=None,\n",
       "             n_estimators=100, n_jobs=None, num_parallel_tree=None,\n",
       "             predictor=None, random_state=None, ...)"
      ]
     },
     "execution_count": 111,
     "metadata": {},
     "output_type": "execute_result"
    }
   ],
   "source": [
    "import xgboost as xgb\n",
    "xg_reg = xgb.XGBRegressor()\n",
    "xg_reg.fit(X_train,y_train)"
   ]
  },
  {
   "cell_type": "code",
   "execution_count": 112,
   "id": "93010d2f",
   "metadata": {},
   "outputs": [
    {
     "name": "stdout",
     "output_type": "stream",
     "text": [
      "Predicted train value : [672.35834 780.906   916.41656 ... 683.19214 866.3077  654.03613]\n"
     ]
    }
   ],
   "source": [
    "train_predictions = xg_reg.predict(X_train)\n",
    "print(\"Predicted train value :\", train_predictions)"
   ]
  },
  {
   "cell_type": "code",
   "execution_count": 113,
   "id": "a5ed113e",
   "metadata": {},
   "outputs": [
    {
     "name": "stdout",
     "output_type": "stream",
     "text": [
      "Predicted test value: [1171.5476   866.67236  937.9476  ...  653.99255  813.0762   540.29047]\n"
     ]
    }
   ],
   "source": [
    "test_predictions = xg_reg.predict(X_test)\n",
    "print(\"Predicted test value:\", test_predictions)"
   ]
  },
  {
   "cell_type": "code",
   "execution_count": 114,
   "id": "dbeb9fae",
   "metadata": {},
   "outputs": [
    {
     "name": "stdout",
     "output_type": "stream",
     "text": [
      "r2score_train: 0.9999996195524473\n",
      "r2score_test: 0.7537157897194858\n",
      "MAE: 81.12523352786533\n",
      "MSE: 12467.582450937496\n",
      "RMSE train  215.7467325393018\n",
      "RMSE test 111.65832907104377\n"
     ]
    }
   ],
   "source": [
    "print('r2score_train:', r2_score(y_train, train_predictions))\n",
    "print('r2score_test:', r2_score(y_test, test_predictions))\n",
    "print('MAE:', mean_absolute_error(y_test, test_predictions))\n",
    "print('MSE:', mean_squared_error(y_test, test_predictions))\n",
    "print('RMSE train ',np.sqrt(mean_squared_error(y_train,train_predictions)))\n",
    "print('RMSE test',np.sqrt(mean_squared_error(y_test,test_predictions)))"
   ]
  },
  {
   "cell_type": "code",
   "execution_count": null,
   "id": "30402cf9",
   "metadata": {},
   "outputs": [],
   "source": []
  }
 ],
 "metadata": {
  "kernelspec": {
   "display_name": "Python 3 (ipykernel)",
   "language": "python",
   "name": "python3"
  },
  "language_info": {
   "codemirror_mode": {
    "name": "ipython",
    "version": 3
   },
   "file_extension": ".py",
   "mimetype": "text/x-python",
   "name": "python",
   "nbconvert_exporter": "python",
   "pygments_lexer": "ipython3",
   "version": "3.9.12"
  }
 },
 "nbformat": 4,
 "nbformat_minor": 5
}
